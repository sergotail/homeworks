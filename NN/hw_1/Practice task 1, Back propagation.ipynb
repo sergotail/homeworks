{
 "cells": [
  {
   "cell_type": "markdown",
   "metadata": {},
   "source": [
    "## Семинар 1 \"Полносвязные нейронные сети\""
   ]
  },
  {
   "cell_type": "markdown",
   "metadata": {},
   "source": [
    "ФИО: Пронин Сергей Юрьевич"
   ]
  },
  {
   "cell_type": "markdown",
   "metadata": {},
   "source": [
    "В этом задании вам предстоит реализовать проход \"вперед\" для полносвязной нейронную сети. В дальнейшем мы реализуем процедуру обучения и научим сеть распознавать рукописные цифры.\n",
    "\n",
    "На первой лекции мы познакомились с тем, что такое нейронные сети и изучили три слоя — линейный, сигмоида и SoftMax. Из этих слоев можно составлять глубокие архитектуры и обучать их при помощи градиентного спуска. Чтобы конструировать сложные архитектуры, можно реализовать каждый тип слоя как отдельный \"кирпичик\" и затем собирать полную архитектуру как конструктор. Это мы и попробуем сделать на первом и втором семинарах."
   ]
  },
  {
   "cell_type": "markdown",
   "metadata": {},
   "source": [
    "Каждый тип слоя мы будем реализовывать при помощи класса, который будет поддерживать три функции: forward, которая будет применять функцию, реализуемую слоем, к входной матрице и backward, которая будет вычислять градиенты и step, которая будет обновлять веса. Чтобы не применять функцию к каждому объекту в отдельности, мы будем подавать на вход слою матрицу размера (N, d), где N — количество объектов, а d — размерность каждого объекта."
   ]
  },
  {
   "cell_type": "markdown",
   "metadata": {},
   "source": [
    "<img src=backprop.pdf width=400>"
   ]
  },
  {
   "cell_type": "markdown",
   "metadata": {},
   "source": [
    "Функция forward будет вычислять по $x$ значение $y$, backward — по $\\frac{\\partial L}{\\partial y}$ вычислять $\\frac{\\partial L}{\\partial x}$ и обновлять внутри себя $\\frac{\\partial L}{\\partial w}$."
   ]
  },
  {
   "cell_type": "code",
   "execution_count": 1,
   "metadata": {
    "collapsed": true
   },
   "outputs": [],
   "source": [
    "import matplotlib.pyplot as plt\n",
    "import numpy as np\n",
    "%matplotlib inline"
   ]
  },
  {
   "cell_type": "markdown",
   "metadata": {},
   "source": [
    "### Часть 1: Линейный слой\n"
   ]
  },
  {
   "cell_type": "code",
   "execution_count": 3,
   "metadata": {
    "collapsed": true
   },
   "outputs": [],
   "source": [
    "class Linear:\n",
    "    def __init__(self, input_size, output_size, init_loc=0.0, init_scale=0.1):\n",
    "        '''\n",
    "        Creates weights and biases for linear layer.\n",
    "        Dimention of inputs is *input_size*, of output: *output_size*.\n",
    "        '''        \n",
    "        self._input_size = input_size\n",
    "        self._output_size = output_size\n",
    "        self._weights = np.random.normal(loc=init_loc, scale=init_scale, size=(input_size, output_size))\n",
    "        \n",
    "    \n",
    "    def _check_X(self, X):\n",
    "        if X.shape[1] != self._input_size:\n",
    "            raise(\"X has %d features but linear layer has input size %d\" % (X.shape[1], \n",
    "                                                                               self._input_size))\n",
    "    \n",
    "    def forward(self, X):\n",
    "        '''\n",
    "        Passes objects through this layer.\n",
    "        X is np.array of size (N, d)\n",
    "        '''\n",
    "        #self._check_X(X)\n",
    "        self._X = X.copy()\n",
    "        return np.dot(X, self._weights)\n",
    "    \n",
    "    def backward(self, dLdy):\n",
    "        '''\n",
    "        1. Compute dLdw and dLdx.\n",
    "        2. Store dLdw for step() call\n",
    "        3. Return dLdx\n",
    "        '''\n",
    "        self._dLdw = np.dot(self._X.T, dLdy)\n",
    "        return np.dot(dLdy, self._weights.T)\n",
    "    \n",
    "    def step(self, learning_rate):\n",
    "        '''\n",
    "        1. Apply gradient dLdw to network:\n",
    "        w <- w - l*dLdw\n",
    "        '''\n",
    "        self._weights -= learning_rate * self._dLdw"
   ]
  },
  {
   "cell_type": "markdown",
   "metadata": {},
   "source": [
    "### Часть 2: Сигмоида"
   ]
  },
  {
   "cell_type": "code",
   "execution_count": 4,
   "metadata": {
    "collapsed": true
   },
   "outputs": [],
   "source": [
    "class Sigmoid:\n",
    "    def __init__(self):\n",
    "        pass\n",
    "    \n",
    "    def _sigmoid(self, X):\n",
    "        return 1. / (1. + np.exp(-X))\n",
    "    \n",
    "    def _sigmoid_derivative(self, X):\n",
    "        return self._sigmoid(X) * (1.0 - self._sigmoid(X))\n",
    "    \n",
    "    def forward(self, X):\n",
    "        '''\n",
    "        Passes objects through this layer.\n",
    "        X is np.array of size (N, d)\n",
    "        '''\n",
    "        self._X = X.copy()\n",
    "        return self._sigmoid(X)\n",
    "    \n",
    "    def backward(self, dLdy):\n",
    "        '''\n",
    "        1. Compute dLdx.\n",
    "        2. Return dLdx\n",
    "        '''\n",
    "        return dLdy * self._sigmoid_derivative(self._X)\n",
    "    \n",
    "    def step(self, learning_rate):\n",
    "        pass"
   ]
  },
  {
   "cell_type": "markdown",
   "metadata": {},
   "source": [
    "### Часть 3: Функция потерь"
   ]
  },
  {
   "cell_type": "markdown",
   "metadata": {},
   "source": [
    "Как мы увидели на семинаре, вычисление производной для связки SoftMax + Negative log-likelihood проще чем для этих двух слоев по отдельности. Поэтому мы реализуем их как один класс. Важное замечание: на проходе \"вперед\" важно воспользоваться трюком <a href=\"https://hips.seas.harvard.edu/blog/2013/01/09/computing-log-sum-exp/\">log-sum-exp</a>, чтобы не столкнуться с численными неустойчивостями."
   ]
  },
  {
   "cell_type": "code",
   "execution_count": 5,
   "metadata": {
    "collapsed": true
   },
   "outputs": [],
   "source": [
    "import pandas as pd"
   ]
  },
  {
   "cell_type": "code",
   "execution_count": 50,
   "metadata": {},
   "outputs": [
    {
     "name": "stdout",
     "output_type": "stream",
     "text": [
      "[ 5.  1.  1.  1.  1.]\n",
      "[[ 0. -1. -1. -1. -1.]\n",
      " [-5.  0. -1. -1. -1.]\n",
      " [-5. -1.  0. -1. -1.]\n",
      " [-5. -1. -1.  0. -1.]\n",
      " [-5. -1. -1. -1.  0.]]\n"
     ]
    }
   ],
   "source": [
    "X = np.eye(5)\n",
    "X[0,0] = 5\n",
    "print np.max(X, axis=0)\n",
    "print X - np.max(X, axis=1)"
   ]
  },
  {
   "cell_type": "code",
   "execution_count": 6,
   "metadata": {
    "collapsed": true
   },
   "outputs": [],
   "source": [
    "class NLLLoss:\n",
    "    def __init__(self):\n",
    "        '''\n",
    "        Applies Softmax operation to inputs and computes NLL loss\n",
    "        '''\n",
    "        #self._NLLS = []\n",
    "    \n",
    "    def forward(self, X, y):\n",
    "        '''\n",
    "        Passes objects through this layer.\n",
    "        X is np.array of size (N, d)\n",
    "        y is np.array of size (N), contains correct labels\n",
    "        '''\n",
    "        # TODO: do log-sum-exp trick!!!\n",
    "        \n",
    "        self._y_mat = pd.get_dummies(y).values.astype(bool)\n",
    "        a = np.max(X)\n",
    "        self._p = np.exp(X)\n",
    "        self._p = self._p / self._p.sum(axis=1, keepdims=True) #TODO: check this shit\n",
    "        #self._NLLS.append(np.mean(-np.log(self._p[self._y_mat])))\n",
    "        NLL = np.sum(-np.log(self._p[self._y_mat]))\n",
    "        return NLL\n",
    "    \n",
    "    def backward(self):\n",
    "        '''\n",
    "        Note that here dLdy = 1 since L = y\n",
    "        1. Compute dLdx\n",
    "        2. Return dLdx\n",
    "        '''\n",
    "        dLdx = self._p\n",
    "        dLdx[self._y_mat] -= 1.0\n",
    "        return dLdx        "
   ]
  },
  {
   "cell_type": "markdown",
   "metadata": {},
   "source": [
    "### Часть 4, нейронная сеть"
   ]
  },
  {
   "cell_type": "markdown",
   "metadata": {},
   "source": [
    "Теперь, когда у нас есть \"кирпичики\", мы можем написать класс, который будет собирать всю сеть вместе "
   ]
  },
  {
   "cell_type": "code",
   "execution_count": 7,
   "metadata": {
    "collapsed": true
   },
   "outputs": [],
   "source": [
    "# assume that modules is a list of layers or other neural networks\n",
    "class NeuralNetwork:\n",
    "    def __init__(self, modules):\n",
    "        '''\n",
    "        Constructs network with *modules* as its layers\n",
    "        '''\n",
    "        self._modules = modules\n",
    "    \n",
    "    def forward(self, X):\n",
    "        tmp = X.copy()\n",
    "        for module in self._modules:\n",
    "            tmp = module.forward(tmp)\n",
    "        return tmp\n",
    "            \n",
    "    def backward(self, dLdy):\n",
    "        '''\n",
    "        dLdy here is a gradient from loss function or straightforward neural network or module\n",
    "        '''\n",
    "        tmp = dLdy.copy()\n",
    "        for module in reversed(self._modules):\n",
    "            tmp = module.backward(tmp)\n",
    "        return tmp\n",
    "    \n",
    "    def step(self, learning_rate):\n",
    "        for module in modules:\n",
    "            module.step(learning_rate)"
   ]
  },
  {
   "cell_type": "code",
   "execution_count": 8,
   "metadata": {
    "collapsed": true
   },
   "outputs": [],
   "source": [
    "class NeuralNetworkFitter:\n",
    "    def __init__(self, neural_network, loss_func=NLLLoss(), track_loss=True, num_epoch=500, learning_rate=0.01):\n",
    "        self._neural_network = neural_network\n",
    "        self._loss_func = loss_func\n",
    "        self._track_loss = track_loss\n",
    "        if track_loss:\n",
    "            self._losses = []\n",
    "        else:\n",
    "            self._losses = None\n",
    "        self._num_epoch = num_epoch\n",
    "        self._learning_rate = learning_rate\n",
    "    \n",
    "    def fit(self, X, y):\n",
    "        for epoch in xrange(self._num_epoch):\n",
    "            tmp = self._neural_network.forward(X)\n",
    "            loss = self._loss_func.forward(tmp, y)\n",
    "            if self._track_loss:\n",
    "                self._losses.append(loss)\n",
    "            tmp = self._loss_func.backward()\n",
    "            self._neural_network.backward(tmp)\n",
    "            self._neural_network.step(self._learning_rate)\n",
    "        return self"
   ]
  },
  {
   "cell_type": "markdown",
   "metadata": {},
   "source": [
    "### Часть 5, обучение на простых данных"
   ]
  },
  {
   "cell_type": "code",
   "execution_count": 9,
   "metadata": {},
   "outputs": [
    {
     "data": {
      "image/png": "[encoded data removed]",
      "text/plain": [
       "<matplotlib.figure.Figure at 0x9daf978>"
      ]
     },
     "metadata": {},
     "output_type": "display_data"
    }
   ],
   "source": [
    "data = np.load('data.npz')\n",
    "X, y = data['arr_0'], data['arr_1']\n",
    "plt.scatter(X[:, 0], X[:, 1], c=y)\n",
    "plt.axis('equal')\n",
    "plt.show()"
   ]
  },
  {
   "cell_type": "markdown",
   "metadata": {},
   "source": [
    "Обучите архитектуру вида 2 -> 10 -> 10 -> 3:\n",
    "* Linear(2, 10)\n",
    "* Sigmoid()\n",
    "* Linear(10, 10)\n",
    "* Sigmoid()\n",
    "* Linear(10, 3)\n",
    "\n",
    "В качестве функции потерь используйте NLLLoss.\n",
    "1. Создайте сеть, в цикле запускайте forward, backward, step (используйте learning rate 0.01). \n",
    "2. Нарисуйте график сходимости (изменение NLL со временем).\n",
    "3. Нарисуйте разделяющую поверхность"
   ]
  },
  {
   "cell_type": "markdown",
   "metadata": {},
   "source": [
    "Отличная визуализация: http://playground.tensorflow.org/"
   ]
  },
  {
   "cell_type": "code",
   "execution_count": 12,
   "metadata": {},
   "outputs": [
    {
     "data": {
      "text/plain": [
       "<__main__.NeuralNetworkFitter instance at 0x000000000A442708>"
      ]
     },
     "execution_count": 12,
     "metadata": {},
     "output_type": "execute_result"
    }
   ],
   "source": [
    "modules = [Linear(2,10), Sigmoid(), Linear(10,10), Sigmoid(), Linear(10,3)]\n",
    "nn = NeuralNetwork(modules)\n",
    "cfg = NeuralNetworkFitter(nn, num_epoch=500, learning_rate=0.01)\n",
    "cfg.fit(X, y)"
   ]
  },
  {
   "cell_type": "code",
   "execution_count": 13,
   "metadata": {},
   "outputs": [
    {
     "data": {
      "text/plain": [
       "[<matplotlib.lines.Line2D at 0xacd8e80>]"
      ]
     },
     "execution_count": 13,
     "metadata": {},
     "output_type": "execute_result"
    },
    {
     "data": {
      "image/png": "[encoded data removed]",
      "text/plain": [
       "<matplotlib.figure.Figure at 0xa44b2e8>"
      ]
     },
     "metadata": {},
     "output_type": "display_data"
    }
   ],
   "source": [
    "plt.plot(xrange(cfg._num_epoch),cfg._losses)"
   ]
  },
  {
   "cell_type": "code",
   "execution_count": 14,
   "metadata": {},
   "outputs": [
    {
     "data": {
      "text/plain": [
       "array([[  1.41714341e-07,   1.10582611e-04,  -1.10724326e-04],\n",
       "       [  8.48361129e-07,   3.65060567e-06,  -4.49896680e-06],\n",
       "       [  1.33499763e-09,   5.45533894e-08,  -5.58883870e-08],\n",
       "       ..., \n",
       "       [  2.34726306e-09,   1.98554859e-06,  -1.98789586e-06],\n",
       "       [ -1.04619600e-02,   7.14810672e-03,   3.31385324e-03],\n",
       "       [  1.37865403e-02,  -1.62390111e-02,   2.45247080e-03]])"
      ]
     },
     "execution_count": 14,
     "metadata": {},
     "output_type": "execute_result"
    }
   ],
   "source": [
    "cfg._loss_func._p"
   ]
  },
  {
   "cell_type": "code",
   "execution_count": null,
   "metadata": {
    "collapsed": true
   },
   "outputs": [],
   "source": []
  }
 ],
 "metadata": {
  "anaconda-cloud": {},
  "kernelspec": {
   "display_name": "Python 2",
   "language": "python",
   "name": "python2"
  },
  "language_info": {
   "codemirror_mode": {
    "name": "ipython",
    "version": 2
   },
   "file_extension": ".py",
   "mimetype": "text/x-python",
   "name": "python",
   "nbconvert_exporter": "python",
   "pygments_lexer": "ipython2",
   "version": "2.7.13"
  }
 },
 "nbformat": 4,
 "nbformat_minor": 2
}
