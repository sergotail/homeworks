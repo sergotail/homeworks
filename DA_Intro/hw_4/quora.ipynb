{
 "cells": [
  {
   "cell_type": "code",
   "execution_count": 13,
   "metadata": {
    "collapsed": true,
    "deletable": true,
    "editable": true
   },
   "outputs": [],
   "source": [
    "from nltk.tokenize import RegexpTokenizer\n",
    "from nltk.corpus import stopwords\n",
    "from nltk.stem.snowball import PorterStemmer\n",
    "from sklearn.feature_extraction.text import TfidfVectorizer, CountVectorizer\n",
    "from sklearn.metrics.pairwise import paired_cosine_distances\n",
    "from sklearn.metrics import jaccard_similarity_score\n",
    "from sklearn.metrics.pairwise import paired_manhattan_distances, paired_euclidean_distances\n",
    "from sklearn.metrics.pairwise import sigmoid_kernel\n",
    "from sklearn.decomposition import TruncatedSVD\n",
    "from scipy.sparse import hstack, vstack\n",
    "from collections import Counter\n",
    "from sklearn.ensemble import RandomForestClassifier\n",
    "\n",
    "from sklearn.linear_model import LogisticRegression\n",
    "from sklearn.model_selection import GridSearchCV\n",
    "from sklearn.model_selection import cross_val_score\n",
    "\n",
    "import numpy as np\n",
    "import pandas as pd\n",
    "import matplotlib.pyplot as plt\n",
    "import seaborn as sns\n",
    "import pickle\n",
    "import string, re\n",
    "\n",
    "%matplotlib inline\n",
    "plt.style.use('ggplot')\n",
    "plt.rcParams['figure.figsize'] = (15, 6)"
   ]
  },
  {
   "cell_type": "code",
   "execution_count": 2,
   "metadata": {
    "collapsed": false,
    "deletable": true,
    "editable": true
   },
   "outputs": [],
   "source": [
    "df_train = pd.read_csv('./train.csv')"
   ]
  },
  {
   "cell_type": "code",
   "execution_count": 3,
   "metadata": {
    "collapsed": false,
    "deletable": true,
    "editable": true
   },
   "outputs": [
    {
     "data": {
      "text/html": [
       "<div>\n",
       "<table border=\"1\" class=\"dataframe\">\n",
       "  <thead>\n",
       "    <tr style=\"text-align: right;\">\n",
       "      <th></th>\n",
       "      <th>id</th>\n",
       "      <th>qid1</th>\n",
       "      <th>qid2</th>\n",
       "      <th>question1</th>\n",
       "      <th>question2</th>\n",
       "      <th>is_duplicate</th>\n",
       "    </tr>\n",
       "  </thead>\n",
       "  <tbody>\n",
       "    <tr>\n",
       "      <th>0</th>\n",
       "      <td>0</td>\n",
       "      <td>1</td>\n",
       "      <td>2</td>\n",
       "      <td>What is the step by step guide to invest in sh...</td>\n",
       "      <td>What is the step by step guide to invest in sh...</td>\n",
       "      <td>0</td>\n",
       "    </tr>\n",
       "    <tr>\n",
       "      <th>1</th>\n",
       "      <td>1</td>\n",
       "      <td>3</td>\n",
       "      <td>4</td>\n",
       "      <td>What is the story of Kohinoor (Koh-i-Noor) Dia...</td>\n",
       "      <td>What would happen if the Indian government sto...</td>\n",
       "      <td>0</td>\n",
       "    </tr>\n",
       "    <tr>\n",
       "      <th>2</th>\n",
       "      <td>2</td>\n",
       "      <td>5</td>\n",
       "      <td>6</td>\n",
       "      <td>How can I increase the speed of my internet co...</td>\n",
       "      <td>How can Internet speed be increased by hacking...</td>\n",
       "      <td>0</td>\n",
       "    </tr>\n",
       "    <tr>\n",
       "      <th>3</th>\n",
       "      <td>3</td>\n",
       "      <td>7</td>\n",
       "      <td>8</td>\n",
       "      <td>Why am I mentally very lonely? How can I solve...</td>\n",
       "      <td>Find the remainder when [math]23^{24}[/math] i...</td>\n",
       "      <td>0</td>\n",
       "    </tr>\n",
       "    <tr>\n",
       "      <th>4</th>\n",
       "      <td>4</td>\n",
       "      <td>9</td>\n",
       "      <td>10</td>\n",
       "      <td>Which one dissolve in water quikly sugar, salt...</td>\n",
       "      <td>Which fish would survive in salt water?</td>\n",
       "      <td>0</td>\n",
       "    </tr>\n",
       "  </tbody>\n",
       "</table>\n",
       "</div>"
      ],
      "text/plain": [
       "   id  qid1  qid2                                          question1  \\\n",
       "0   0     1     2  What is the step by step guide to invest in sh...   \n",
       "1   1     3     4  What is the story of Kohinoor (Koh-i-Noor) Dia...   \n",
       "2   2     5     6  How can I increase the speed of my internet co...   \n",
       "3   3     7     8  Why am I mentally very lonely? How can I solve...   \n",
       "4   4     9    10  Which one dissolve in water quikly sugar, salt...   \n",
       "\n",
       "                                           question2  is_duplicate  \n",
       "0  What is the step by step guide to invest in sh...             0  \n",
       "1  What would happen if the Indian government sto...             0  \n",
       "2  How can Internet speed be increased by hacking...             0  \n",
       "3  Find the remainder when [math]23^{24}[/math] i...             0  \n",
       "4            Which fish would survive in salt water?             0  "
      ]
     },
     "execution_count": 3,
     "metadata": {},
     "output_type": "execute_result"
    }
   ],
   "source": [
    "df_train.head()"
   ]
  },
  {
   "cell_type": "code",
   "execution_count": 4,
   "metadata": {
    "collapsed": false,
    "deletable": true,
    "editable": true
   },
   "outputs": [
    {
     "data": {
      "text/plain": [
       "404290"
      ]
     },
     "execution_count": 4,
     "metadata": {},
     "output_type": "execute_result"
    }
   ],
   "source": [
    "len(df_train)"
   ]
  },
  {
   "cell_type": "code",
   "execution_count": 5,
   "metadata": {
    "collapsed": false,
    "deletable": true,
    "editable": true
   },
   "outputs": [
    {
     "data": {
      "text/plain": [
       "id               int64\n",
       "qid1             int64\n",
       "qid2             int64\n",
       "question1       object\n",
       "question2       object\n",
       "is_duplicate     int64\n",
       "dtype: object"
      ]
     },
     "execution_count": 5,
     "metadata": {},
     "output_type": "execute_result"
    }
   ],
   "source": [
    "df_train.dtypes"
   ]
  },
  {
   "cell_type": "code",
   "execution_count": 3,
   "metadata": {
    "collapsed": true,
    "deletable": true,
    "editable": true
   },
   "outputs": [],
   "source": [
    "df_test = pd.read_csv('./test.csv')"
   ]
  },
  {
   "cell_type": "code",
   "execution_count": 7,
   "metadata": {
    "collapsed": false,
    "deletable": true,
    "editable": true
   },
   "outputs": [
    {
     "data": {
      "text/html": [
       "<div>\n",
       "<table border=\"1\" class=\"dataframe\">\n",
       "  <thead>\n",
       "    <tr style=\"text-align: right;\">\n",
       "      <th></th>\n",
       "      <th>test_id</th>\n",
       "      <th>question1</th>\n",
       "      <th>question2</th>\n",
       "    </tr>\n",
       "  </thead>\n",
       "  <tbody>\n",
       "    <tr>\n",
       "      <th>0</th>\n",
       "      <td>0</td>\n",
       "      <td>How does the Surface Pro himself 4 compare wit...</td>\n",
       "      <td>Why did Microsoft choose core m3 and not core ...</td>\n",
       "    </tr>\n",
       "    <tr>\n",
       "      <th>1</th>\n",
       "      <td>1</td>\n",
       "      <td>Should I have a hair transplant at age 24? How...</td>\n",
       "      <td>How much cost does hair transplant require?</td>\n",
       "    </tr>\n",
       "    <tr>\n",
       "      <th>2</th>\n",
       "      <td>2</td>\n",
       "      <td>What but is the best way to send money from Ch...</td>\n",
       "      <td>What you send money to China?</td>\n",
       "    </tr>\n",
       "    <tr>\n",
       "      <th>3</th>\n",
       "      <td>3</td>\n",
       "      <td>Which food not emulsifiers?</td>\n",
       "      <td>What foods fibre?</td>\n",
       "    </tr>\n",
       "    <tr>\n",
       "      <th>4</th>\n",
       "      <td>4</td>\n",
       "      <td>How \"aberystwyth\" start reading?</td>\n",
       "      <td>How their can I start reading?</td>\n",
       "    </tr>\n",
       "  </tbody>\n",
       "</table>\n",
       "</div>"
      ],
      "text/plain": [
       "   test_id                                          question1  \\\n",
       "0        0  How does the Surface Pro himself 4 compare wit...   \n",
       "1        1  Should I have a hair transplant at age 24? How...   \n",
       "2        2  What but is the best way to send money from Ch...   \n",
       "3        3                        Which food not emulsifiers?   \n",
       "4        4                   How \"aberystwyth\" start reading?   \n",
       "\n",
       "                                           question2  \n",
       "0  Why did Microsoft choose core m3 and not core ...  \n",
       "1        How much cost does hair transplant require?  \n",
       "2                      What you send money to China?  \n",
       "3                                  What foods fibre?  \n",
       "4                     How their can I start reading?  "
      ]
     },
     "execution_count": 7,
     "metadata": {},
     "output_type": "execute_result"
    }
   ],
   "source": [
    "df_test.head()"
   ]
  },
  {
   "cell_type": "code",
   "execution_count": 8,
   "metadata": {
    "collapsed": false,
    "deletable": true,
    "editable": true
   },
   "outputs": [
    {
     "data": {
      "text/plain": [
       "2345796"
      ]
     },
     "execution_count": 8,
     "metadata": {},
     "output_type": "execute_result"
    }
   ],
   "source": [
    "len(df_test)"
   ]
  },
  {
   "cell_type": "code",
   "execution_count": 9,
   "metadata": {
    "collapsed": false,
    "deletable": true,
    "editable": true
   },
   "outputs": [
    {
     "data": {
      "text/plain": [
       "537933"
      ]
     },
     "execution_count": 9,
     "metadata": {},
     "output_type": "execute_result"
    }
   ],
   "source": [
    "pd.concat([df_train.qid1, df_train.qid2]).nunique()"
   ]
  },
  {
   "cell_type": "code",
   "execution_count": 10,
   "metadata": {
    "collapsed": false,
    "deletable": true,
    "editable": true
   },
   "outputs": [
    {
     "data": {
      "image/png": "[encoded data removed]",
      "text/plain": [
       "<matplotlib.figure.Figure at 0x102a5c810>"
      ]
     },
     "metadata": {},
     "output_type": "display_data"
    }
   ],
   "source": [
    "pd.concat([df_train.qid1, df_train.qid2]).value_counts().hist(bins=50)\n",
    "plt.yscale('log')"
   ]
  },
  {
   "cell_type": "markdown",
   "metadata": {
    "deletable": true,
    "editable": true
   },
   "source": [
    "Большая часть вопросов почти не повторяется, но около 1% обладают этим свойством, в редких случаях вопросы повторяются более 50 раз. "
   ]
  },
  {
   "cell_type": "code",
   "execution_count": 11,
   "metadata": {
    "collapsed": false,
    "deletable": true,
    "editable": true
   },
   "outputs": [
    {
     "data": {
      "text/plain": [
       "<matplotlib.axes._subplots.AxesSubplot at 0x10cde7710>"
      ]
     },
     "execution_count": 11,
     "metadata": {},
     "output_type": "execute_result"
    },
    {
     "data": {
      "image/png": "[encoded data removed]",
      "text/plain": [
       "<matplotlib.figure.Figure at 0x1029b8f10>"
      ]
     },
     "metadata": {},
     "output_type": "display_data"
    }
   ],
   "source": [
    "pd.concat([df_train.question1, df_train.question2]).apply(str).apply(len).hist(bins=150, log=True, alpha=0.3, normed=True)\n",
    "pd.concat([df_test.question1, df_test.question2]).apply(str).apply(len).hist(bins=150, log=True, alpha=0.3, normed=True)"
   ]
  },
  {
   "cell_type": "markdown",
   "metadata": {
    "deletable": true,
    "editable": true
   },
   "source": [
    "Видно, что распределения по количеству символов в тренировочном и тестовом наборе очень похожи. "
   ]
  },
  {
   "cell_type": "code",
   "execution_count": 4,
   "metadata": {
    "collapsed": true,
    "deletable": true,
    "editable": true
   },
   "outputs": [],
   "source": [
    "import string, re"
   ]
  },
  {
   "cell_type": "code",
   "execution_count": 5,
   "metadata": {
    "collapsed": false,
    "deletable": true,
    "editable": true
   },
   "outputs": [],
   "source": [
    "regex = re.compile('[%s]' % re.escape(string.punctuation))"
   ]
  },
  {
   "cell_type": "code",
   "execution_count": 6,
   "metadata": {
    "collapsed": false,
    "deletable": true,
    "editable": true
   },
   "outputs": [
    {
     "data": {
      "text/plain": [
       "re.compile(r'[\\!\\\"\\#\\$\\%\\&\\\\'\\(\\)\\*\\+\\,\\-\\.\\/\\:\\;\\<\\=\\>\\?\\@\\[\\\\\\]\\^\\_\\`\\{\\|\\}\\~]')"
      ]
     },
     "execution_count": 6,
     "metadata": {},
     "output_type": "execute_result"
    }
   ],
   "source": [
    "regex"
   ]
  },
  {
   "cell_type": "code",
   "execution_count": 17,
   "metadata": {
    "collapsed": true,
    "deletable": true,
    "editable": true
   },
   "outputs": [],
   "source": [
    "def word_count(row):\n",
    "    return len(regex.sub(' ', str(row)).split())"
   ]
  },
  {
   "cell_type": "code",
   "execution_count": 18,
   "metadata": {
    "collapsed": false,
    "deletable": true,
    "editable": true
   },
   "outputs": [
    {
     "data": {
      "text/plain": [
       "<matplotlib.axes._subplots.AxesSubplot at 0x1091b1350>"
      ]
     },
     "execution_count": 18,
     "metadata": {},
     "output_type": "execute_result"
    },
    {
     "data": {
      "image/png": "[encoded data removed]",
      "text/plain": [
       "<matplotlib.figure.Figure at 0x1090cf5d0>"
      ]
     },
     "metadata": {},
     "output_type": "display_data"
    }
   ],
   "source": [
    "pd.concat([df_train.question1, df_train.question2]).apply(word_count).hist(bins=150, log=True, alpha=0.3, normed=True)\n",
    "pd.concat([df_test.question1, df_test.question2]).apply(word_count).hist(bins=150, log=True, alpha=0.3, normed=True)"
   ]
  },
  {
   "cell_type": "markdown",
   "metadata": {
    "deletable": true,
    "editable": true
   },
   "source": [
    "Видно, что распределения по количеству слов в обоих сетах также очень схожи."
   ]
  },
  {
   "cell_type": "code",
   "execution_count": 7,
   "metadata": {
    "collapsed": false,
    "deletable": true,
    "editable": true
   },
   "outputs": [],
   "source": [
    "corpus = pd.Series(pd.concat([df_train.question1, df_train.question2, df_test.question1,\\\n",
    "                                 df_test.question2]).fillna('').unique())"
   ]
  },
  {
   "cell_type": "code",
   "execution_count": 10,
   "metadata": {
    "collapsed": false,
    "deletable": true,
    "editable": true
   },
   "outputs": [
    {
     "data": {
      "text/plain": [
       "(4789032,)"
      ]
     },
     "execution_count": 10,
     "metadata": {},
     "output_type": "execute_result"
    }
   ],
   "source": [
    "corpus.shape"
   ]
  },
  {
   "cell_type": "code",
   "execution_count": 8,
   "metadata": {
    "collapsed": false,
    "deletable": true,
    "editable": true
   },
   "outputs": [],
   "source": [
    "corpus = corpus.apply(lambda x: regex.sub(' ', x))"
   ]
  },
  {
   "cell_type": "code",
   "execution_count": 27,
   "metadata": {
    "collapsed": false,
    "deletable": true,
    "editable": true
   },
   "outputs": [
    {
     "data": {
      "text/plain": [
       "0    What is the step by step guide to invest in sh...\n",
       "1    What is the story of Kohinoor  Koh i Noor  Dia...\n",
       "2    How can I increase the speed of my internet co...\n",
       "3    Why am I mentally very lonely  How can I solve...\n",
       "4    Which one dissolve in water quikly sugar  salt...\n",
       "dtype: object"
      ]
     },
     "execution_count": 27,
     "metadata": {},
     "output_type": "execute_result"
    }
   ],
   "source": [
    "corpus.head()"
   ]
  },
  {
   "cell_type": "markdown",
   "metadata": {},
   "source": [
    "Используем TfidfVectorizer для выдления ngram слов длинной от 1 до 5"
   ]
  },
  {
   "cell_type": "code",
   "execution_count": 14,
   "metadata": {
    "collapsed": true,
    "deletable": true,
    "editable": true
   },
   "outputs": [],
   "source": [
    "tfidword = TfidfVectorizer(stop_words='english', ngram_range=(1,5), min_df=50, max_features=300000, max_df=0.999,\\\n",
    "                           binary=True)"
   ]
  },
  {
   "cell_type": "code",
   "execution_count": 15,
   "metadata": {
    "collapsed": false,
    "deletable": true,
    "editable": true
   },
   "outputs": [
    {
     "data": {
      "text/plain": [
       "TfidfVectorizer(analyzer=u'word', binary=True, decode_error=u'strict',\n",
       "        dtype=<type 'numpy.int64'>, encoding=u'utf-8', input=u'content',\n",
       "        lowercase=True, max_df=0.999, max_features=300000, min_df=50,\n",
       "        ngram_range=(1, 5), norm=u'l2', preprocessor=None, smooth_idf=True,\n",
       "        stop_words='english', strip_accents=None, sublinear_tf=False,\n",
       "        token_pattern=u'(?u)\\\\b\\\\w\\\\w+\\\\b', tokenizer=None, use_idf=True,\n",
       "        vocabulary=None)"
      ]
     },
     "execution_count": 15,
     "metadata": {},
     "output_type": "execute_result"
    }
   ],
   "source": [
    "tfidword.fit(corpus.values)"
   ]
  },
  {
   "cell_type": "code",
   "execution_count": 29,
   "metadata": {
    "collapsed": true,
    "deletable": true,
    "editable": true
   },
   "outputs": [],
   "source": [
    "tfid1_train = tfidword.transform(df_train.question1.fillna(''))"
   ]
  },
  {
   "cell_type": "code",
   "execution_count": 30,
   "metadata": {
    "collapsed": false,
    "deletable": true,
    "editable": true
   },
   "outputs": [
    {
     "data": {
      "text/plain": [
       "<404290x79849 sparse matrix of type '<type 'numpy.float64'>'\n",
       "\twith 2801777 stored elements in Compressed Sparse Row format>"
      ]
     },
     "execution_count": 30,
     "metadata": {},
     "output_type": "execute_result"
    }
   ],
   "source": [
    "tfid1_train"
   ]
  },
  {
   "cell_type": "code",
   "execution_count": 31,
   "metadata": {
    "collapsed": true,
    "deletable": true,
    "editable": true
   },
   "outputs": [],
   "source": [
    "tfid2_train = tfidword.transform(df_train.question2.fillna(''))\n",
    "tfid1_test = tfidword.transform(df_test.question1.fillna(''))\n",
    "tfid2_test = tfidword.transform(df_test.question2.fillna(''))"
   ]
  },
  {
   "cell_type": "markdown",
   "metadata": {},
   "source": [
    "Также посчитаем количество просто ngram длины также от 1 до 5 для каждого вопроса (на самом деле лучше было бы и побольше промежуток взять, но все упирается в память и производительность)"
   ]
  },
  {
   "cell_type": "code",
   "execution_count": 9,
   "metadata": {
    "collapsed": false,
    "deletable": true,
    "editable": true
   },
   "outputs": [],
   "source": [
    "countvchar = CountVectorizer(stop_words='english', ngram_range=(1,5), min_df=50, max_features=300000, max_df=0.999,\\\n",
    "                           binary=True, analyzer='char')"
   ]
  },
  {
   "cell_type": "code",
   "execution_count": 10,
   "metadata": {
    "collapsed": false,
    "deletable": true,
    "editable": true
   },
   "outputs": [
    {
     "data": {
      "text/plain": [
       "CountVectorizer(analyzer='char', binary=True, decode_error=u'strict',\n",
       "        dtype=<type 'numpy.int64'>, encoding=u'utf-8', input=u'content',\n",
       "        lowercase=True, max_df=0.999, max_features=300000, min_df=50,\n",
       "        ngram_range=(1, 5), preprocessor=None, stop_words='english',\n",
       "        strip_accents=None, token_pattern=u'(?u)\\\\b\\\\w\\\\w+\\\\b',\n",
       "        tokenizer=None, vocabulary=None)"
      ]
     },
     "execution_count": 10,
     "metadata": {},
     "output_type": "execute_result"
    }
   ],
   "source": [
    "countvchar.fit(corpus.values)"
   ]
  },
  {
   "cell_type": "code",
   "execution_count": null,
   "metadata": {
    "collapsed": true
   },
   "outputs": [],
   "source": [
    "cvch1_train = countvchar.transform(df_train.question1.fillna(''))\n",
    "print 'first complete'\n",
    "cvch2_train = countvchar.transform(df_train.question2.fillna(''))\n",
    "print 'second complete'\n",
    "cvch1_test = countvchar.transform(df_test.question1.fillna(''))\n",
    "print 'third complete'\n",
    "cvch2_test = countvchar.transform(df_test.question2.fillna(''))"
   ]
  },
  {
   "cell_type": "markdown",
   "metadata": {},
   "source": [
    "Получили достаточно большие векторные представления наших вопросов, посчитаем различные метрики схожести"
   ]
  },
  {
   "cell_type": "code",
   "execution_count": 37,
   "metadata": {
    "collapsed": false,
    "deletable": true,
    "editable": true
   },
   "outputs": [],
   "source": [
    "df_train['cos_sim_tf_idf'] = paired_cosine_distances(tfid1_train, tfid2_train)\n",
    "df_test['cos_sim_tf_idf'] = paired_cosine_distances(tfid1_test, tfid2_test)"
   ]
  },
  {
   "cell_type": "code",
   "execution_count": 39,
   "metadata": {
    "collapsed": true,
    "deletable": true,
    "editable": true
   },
   "outputs": [],
   "source": [
    "df_train['cos_sim_cvc'] = paired_cosine_distances(cvch1_train, cvch2_train)\n",
    "df_test['cos_sim_cvc'] = paired_cosine_distances(cvch1_test, cvch2_test)"
   ]
  },
  {
   "cell_type": "code",
   "execution_count": 157,
   "metadata": {
    "collapsed": false,
    "deletable": true,
    "editable": true
   },
   "outputs": [],
   "source": [
    "gr = df_train.groupby('is_duplicate')['cos_sim_tf_idf']"
   ]
  },
  {
   "cell_type": "code",
   "execution_count": 158,
   "metadata": {
    "collapsed": false,
    "deletable": true,
    "editable": true,
    "scrolled": false
   },
   "outputs": [
    {
     "data": {
      "image/png": "[encoded data removed]",
      "text/plain": [
       "<matplotlib.figure.Figure at 0x11f507750>"
      ]
     },
     "metadata": {},
     "output_type": "display_data"
    }
   ],
   "source": [
    "for k,v in gr:\n",
    "    v.hist(alpha=0.3)"
   ]
  },
  {
   "cell_type": "markdown",
   "metadata": {},
   "source": [
    "Видно, что признак хороший, неплохо отделяет два класса"
   ]
  },
  {
   "cell_type": "markdown",
   "metadata": {},
   "source": [
    "Манхетонское и евклидово расстояние лучше нормировать"
   ]
  },
  {
   "cell_type": "code",
   "execution_count": null,
   "metadata": {
    "collapsed": true
   },
   "outputs": [],
   "source": [
    "df_train['manh_cvc'] = paired_manhattan_distances(cvch1_train, cvch2_train)\n",
    "df_test['manh_cvc'] = paired_manhattan_distances(cvch1_test, cvch2_test)\n",
    "\n",
    "cmax = float(max(df_train.manh_cvc.max(), df_test.manh_cvc.max()))\n",
    "df_train.manh_cvc = df_train.manh_cvc.map(lambda x: x/cmax)\n",
    "df_test.manh_cvc = df_test.manh_cvc.map(lambda x: x/cmax)"
   ]
  },
  {
   "cell_type": "code",
   "execution_count": null,
   "metadata": {
    "collapsed": true
   },
   "outputs": [],
   "source": [
    "df_train['euc_cvc'] = paired_euclidean_distances(cvch1_train, cvch2_train)\n",
    "df_test['euc_cvc'] = paired_euclidean_distances(cvch1_test, cvch2_test)\n",
    "cmax = float(max(df_train.euc_cvc.max(), df_test.euc_cvc.max()))\n",
    "df_train.euc_cvc = df_train.euc_cvc.map(lambda x: x/cmax)\n",
    "df_test.euc_cvc = df_test.euc_cvc.map(lambda x: x/cmax)"
   ]
  },
  {
   "cell_type": "code",
   "execution_count": null,
   "metadata": {
    "collapsed": true
   },
   "outputs": [],
   "source": [
    "df_train['manh_tfidf'] = paired_manhattan_distances(tfid1_train, tfid2_train)\n",
    "df_test['manh_tfidf'] = paired_manhattan_distances(tfid1_test, tfid2_test)\n",
    "cmax = float(max(df_train.manh_tfidf.max(), df_test.manh_tfidf.max()))\n",
    "df_train.manh_tfidf = df_train.manh_tfidf.map(lambda x: x/cmax)\n",
    "df_test.manh_tfidf = df_test.manh_tfidf.map(lambda x: x/cmax)"
   ]
  },
  {
   "cell_type": "code",
   "execution_count": null,
   "metadata": {
    "collapsed": true
   },
   "outputs": [],
   "source": [
    "df_train['euc_tfidf'] = paired_euclidean_distances(tfid1_train, tfid2_train)\n",
    "df_test['euc_tfidf'] = paired_euclidean_distances(tfid1_test, tfid2_test)\n",
    "cmax = float(max(df_train.euc_tfidf.max(), df_test.euc_tfidf.max()))\n",
    "df_train.euc_tfidf = df_train.euc_tfidf.map(lambda x: x/cmax)\n",
    "df_test.euc_tfidf = df_test.euc_tfidf.map(lambda x: x/cmax)"
   ]
  },
  {
   "cell_type": "markdown",
   "metadata": {},
   "source": [
    "Посчитаем модуль разности для количества слов для 1го и 2го вопроса для каждой строки, тоже нормируем"
   ]
  },
  {
   "cell_type": "code",
   "execution_count": null,
   "metadata": {
    "collapsed": true
   },
   "outputs": [],
   "source": [
    "df_train['word_count_dif'] = np.abs(df_train['question1'].apply(word_count) - df_train['question2'].apply(word_count))\n",
    "df_test['word_count_dif'] = np.abs(df_test['question1'].apply(word_count) - df_test['question2'].apply(word_count))\n",
    "cmax = float(max(df_train.word_count_dif.max(), df_test.word_count_dif.max()))\n",
    "df_train['word_count_dif'] = df_train['word_count_dif'].map(lambda x: x/cmax)\n",
    "df_test['word_count_dif'] = df_test['word_count_dif'].map(lambda x: x/cmax)"
   ]
  },
  {
   "cell_type": "markdown",
   "metadata": {},
   "source": [
    "В качестве еще одного признака добавим частоту появления вопроса. Как мы видели в начале часть вопросов повторяется, почему бы это не учесть"
   ]
  },
  {
   "cell_type": "code",
   "execution_count": null,
   "metadata": {
    "collapsed": true
   },
   "outputs": [],
   "source": [
    "df1 = pd.concat([df_train.question1, df_train.question2, df_test.question1, df_test.question2])"
   ]
  },
  {
   "cell_type": "code",
   "execution_count": null,
   "metadata": {
    "collapsed": true
   },
   "outputs": [],
   "source": [
    "df1.drop_duplicates(inplace=True)"
   ]
  },
  {
   "cell_type": "code",
   "execution_count": null,
   "metadata": {
    "collapsed": true
   },
   "outputs": [],
   "source": [
    "hash_dict = pd.Series(df1.index, index=df1.values).to_dict()"
   ]
  },
  {
   "cell_type": "code",
   "execution_count": null,
   "metadata": {
    "collapsed": true
   },
   "outputs": [],
   "source": [
    "df1 = pd.DataFrame(pd.concat([df_train.question1, df_train.question2, \\\n",
    "                              df_test.question1, df_test.question2]), columns=['que'])"
   ]
  },
  {
   "cell_type": "code",
   "execution_count": null,
   "metadata": {
    "collapsed": true
   },
   "outputs": [],
   "source": [
    "df1['hash'] = df1['que'].map(hash_dict)"
   ]
  },
  {
   "cell_type": "code",
   "execution_count": null,
   "metadata": {
    "collapsed": true
   },
   "outputs": [],
   "source": [
    "fr_dict = df1['hash'].value_counts().to_dict()"
   ]
  },
  {
   "cell_type": "code",
   "execution_count": null,
   "metadata": {
    "collapsed": true
   },
   "outputs": [],
   "source": [
    "cmax = float(df1['hash'].value_counts().max())"
   ]
  },
  {
   "cell_type": "code",
   "execution_count": null,
   "metadata": {
    "collapsed": true
   },
   "outputs": [],
   "source": [
    "df_train['q1_freq'] = df_train['question1'].map(lambda x: fr_dict[hash_dict[x]]/cmax)\n",
    "df_train['q2_freq'] = df_train['question2'].map(lambda x: fr_dict[hash_dict[x]]/cmax)"
   ]
  },
  {
   "cell_type": "code",
   "execution_count": null,
   "metadata": {
    "collapsed": true
   },
   "outputs": [],
   "source": [
    "df_test['q1_freq'] = df_test['question1'].map(lambda x: fr_dict[hash_dict[x]]/cmax)\n",
    "df_test['q2_freq'] = df_test['question2'].map(lambda x: fr_dict[hash_dict[x]]/cmax)"
   ]
  },
  {
   "cell_type": "code",
   "execution_count": 21,
   "metadata": {
    "collapsed": false
   },
   "outputs": [
    {
     "data": {
      "text/html": [
       "<div>\n",
       "<table border=\"1\" class=\"dataframe\">\n",
       "  <thead>\n",
       "    <tr style=\"text-align: right;\">\n",
       "      <th></th>\n",
       "      <th>0</th>\n",
       "      <th>1</th>\n",
       "      <th>2</th>\n",
       "      <th>3</th>\n",
       "      <th>4</th>\n",
       "    </tr>\n",
       "  </thead>\n",
       "  <tbody>\n",
       "    <tr>\n",
       "      <th>id</th>\n",
       "      <td>0</td>\n",
       "      <td>1</td>\n",
       "      <td>2</td>\n",
       "      <td>3</td>\n",
       "      <td>4</td>\n",
       "    </tr>\n",
       "    <tr>\n",
       "      <th>qid1</th>\n",
       "      <td>1</td>\n",
       "      <td>3</td>\n",
       "      <td>5</td>\n",
       "      <td>7</td>\n",
       "      <td>9</td>\n",
       "    </tr>\n",
       "    <tr>\n",
       "      <th>qid2</th>\n",
       "      <td>2</td>\n",
       "      <td>4</td>\n",
       "      <td>6</td>\n",
       "      <td>8</td>\n",
       "      <td>10</td>\n",
       "    </tr>\n",
       "    <tr>\n",
       "      <th>question1</th>\n",
       "      <td>What is the step by step guide to invest in sh...</td>\n",
       "      <td>What is the story of Kohinoor (Koh-i-Noor) Dia...</td>\n",
       "      <td>How can I increase the speed of my internet co...</td>\n",
       "      <td>Why am I mentally very lonely? How can I solve...</td>\n",
       "      <td>Which one dissolve in water quikly sugar, salt...</td>\n",
       "    </tr>\n",
       "    <tr>\n",
       "      <th>question2</th>\n",
       "      <td>What is the step by step guide to invest in sh...</td>\n",
       "      <td>What would happen if the Indian government sto...</td>\n",
       "      <td>How can Internet speed be increased by hacking...</td>\n",
       "      <td>Find the remainder when [math]23^{24}[/math] i...</td>\n",
       "      <td>Which fish would survive in salt water?</td>\n",
       "    </tr>\n",
       "    <tr>\n",
       "      <th>is_duplicate</th>\n",
       "      <td>0</td>\n",
       "      <td>0</td>\n",
       "      <td>0</td>\n",
       "      <td>0</td>\n",
       "      <td>0</td>\n",
       "    </tr>\n",
       "    <tr>\n",
       "      <th>cos_sim_cvc</th>\n",
       "      <td>0.0515469</td>\n",
       "      <td>0.534254</td>\n",
       "      <td>0.523073</td>\n",
       "      <td>0.887729</td>\n",
       "      <td>0.647002</td>\n",
       "    </tr>\n",
       "    <tr>\n",
       "      <th>cos_sim_tf_idf</th>\n",
       "      <td>0.0802818</td>\n",
       "      <td>0.379145</td>\n",
       "      <td>0.846515</td>\n",
       "      <td>1</td>\n",
       "      <td>0.786938</td>\n",
       "    </tr>\n",
       "    <tr>\n",
       "      <th>manh_cvc</th>\n",
       "      <td>0.00971284</td>\n",
       "      <td>0.100084</td>\n",
       "      <td>0.114443</td>\n",
       "      <td>0.127111</td>\n",
       "      <td>0.115709</td>\n",
       "    </tr>\n",
       "    <tr>\n",
       "      <th>euc_cvc</th>\n",
       "      <td>0.0985537</td>\n",
       "      <td>0.316361</td>\n",
       "      <td>0.338294</td>\n",
       "      <td>0.356527</td>\n",
       "      <td>0.340161</td>\n",
       "    </tr>\n",
       "    <tr>\n",
       "      <th>word_count_dif</th>\n",
       "      <td>0.00858369</td>\n",
       "      <td>0.0214592</td>\n",
       "      <td>0.0171674</td>\n",
       "      <td>0.00858369</td>\n",
       "      <td>0.0257511</td>\n",
       "    </tr>\n",
       "    <tr>\n",
       "      <th>manh_tfidf</th>\n",
       "      <td>0.0551083</td>\n",
       "      <td>0.190533</td>\n",
       "      <td>0.334574</td>\n",
       "      <td>0.31906</td>\n",
       "      <td>0.303839</td>\n",
       "    </tr>\n",
       "    <tr>\n",
       "      <th>euc_tfidf</th>\n",
       "      <td>0.28334</td>\n",
       "      <td>0.615747</td>\n",
       "      <td>0.920063</td>\n",
       "      <td>1</td>\n",
       "      <td>0.887095</td>\n",
       "    </tr>\n",
       "    <tr>\n",
       "      <th>q1_freq</th>\n",
       "      <td>0.00185874</td>\n",
       "      <td>0.00371747</td>\n",
       "      <td>0.00185874</td>\n",
       "      <td>0.00148699</td>\n",
       "      <td>0.00223048</td>\n",
       "    </tr>\n",
       "    <tr>\n",
       "      <th>q2_freq</th>\n",
       "      <td>0.00185874</td>\n",
       "      <td>0.00297398</td>\n",
       "      <td>0.00185874</td>\n",
       "      <td>0.00148699</td>\n",
       "      <td>0.00223048</td>\n",
       "    </tr>\n",
       "  </tbody>\n",
       "</table>\n",
       "</div>"
      ],
      "text/plain": [
       "                                                                0  \\\n",
       "id                                                              0   \n",
       "qid1                                                            1   \n",
       "qid2                                                            2   \n",
       "question1       What is the step by step guide to invest in sh...   \n",
       "question2       What is the step by step guide to invest in sh...   \n",
       "is_duplicate                                                    0   \n",
       "cos_sim_cvc                                             0.0515469   \n",
       "cos_sim_tf_idf                                          0.0802818   \n",
       "manh_cvc                                               0.00971284   \n",
       "euc_cvc                                                 0.0985537   \n",
       "word_count_dif                                         0.00858369   \n",
       "manh_tfidf                                              0.0551083   \n",
       "euc_tfidf                                                 0.28334   \n",
       "q1_freq                                                0.00185874   \n",
       "q2_freq                                                0.00185874   \n",
       "\n",
       "                                                                1  \\\n",
       "id                                                              1   \n",
       "qid1                                                            3   \n",
       "qid2                                                            4   \n",
       "question1       What is the story of Kohinoor (Koh-i-Noor) Dia...   \n",
       "question2       What would happen if the Indian government sto...   \n",
       "is_duplicate                                                    0   \n",
       "cos_sim_cvc                                              0.534254   \n",
       "cos_sim_tf_idf                                           0.379145   \n",
       "manh_cvc                                                 0.100084   \n",
       "euc_cvc                                                  0.316361   \n",
       "word_count_dif                                          0.0214592   \n",
       "manh_tfidf                                               0.190533   \n",
       "euc_tfidf                                                0.615747   \n",
       "q1_freq                                                0.00371747   \n",
       "q2_freq                                                0.00297398   \n",
       "\n",
       "                                                                2  \\\n",
       "id                                                              2   \n",
       "qid1                                                            5   \n",
       "qid2                                                            6   \n",
       "question1       How can I increase the speed of my internet co...   \n",
       "question2       How can Internet speed be increased by hacking...   \n",
       "is_duplicate                                                    0   \n",
       "cos_sim_cvc                                              0.523073   \n",
       "cos_sim_tf_idf                                           0.846515   \n",
       "manh_cvc                                                 0.114443   \n",
       "euc_cvc                                                  0.338294   \n",
       "word_count_dif                                          0.0171674   \n",
       "manh_tfidf                                               0.334574   \n",
       "euc_tfidf                                                0.920063   \n",
       "q1_freq                                                0.00185874   \n",
       "q2_freq                                                0.00185874   \n",
       "\n",
       "                                                                3  \\\n",
       "id                                                              3   \n",
       "qid1                                                            7   \n",
       "qid2                                                            8   \n",
       "question1       Why am I mentally very lonely? How can I solve...   \n",
       "question2       Find the remainder when [math]23^{24}[/math] i...   \n",
       "is_duplicate                                                    0   \n",
       "cos_sim_cvc                                              0.887729   \n",
       "cos_sim_tf_idf                                                  1   \n",
       "manh_cvc                                                 0.127111   \n",
       "euc_cvc                                                  0.356527   \n",
       "word_count_dif                                         0.00858369   \n",
       "manh_tfidf                                                0.31906   \n",
       "euc_tfidf                                                       1   \n",
       "q1_freq                                                0.00148699   \n",
       "q2_freq                                                0.00148699   \n",
       "\n",
       "                                                                4  \n",
       "id                                                              4  \n",
       "qid1                                                            9  \n",
       "qid2                                                           10  \n",
       "question1       Which one dissolve in water quikly sugar, salt...  \n",
       "question2                 Which fish would survive in salt water?  \n",
       "is_duplicate                                                    0  \n",
       "cos_sim_cvc                                              0.647002  \n",
       "cos_sim_tf_idf                                           0.786938  \n",
       "manh_cvc                                                 0.115709  \n",
       "euc_cvc                                                  0.340161  \n",
       "word_count_dif                                          0.0257511  \n",
       "manh_tfidf                                               0.303839  \n",
       "euc_tfidf                                                0.887095  \n",
       "q1_freq                                                0.00223048  \n",
       "q2_freq                                                0.00223048  "
      ]
     },
     "execution_count": 21,
     "metadata": {},
     "output_type": "execute_result"
    }
   ],
   "source": [
    "df_train.head().T"
   ]
  },
  {
   "cell_type": "code",
   "execution_count": 23,
   "metadata": {
    "collapsed": false
   },
   "outputs": [
    {
     "data": {
      "text/html": [
       "<div>\n",
       "<table border=\"1\" class=\"dataframe\">\n",
       "  <thead>\n",
       "    <tr style=\"text-align: right;\">\n",
       "      <th></th>\n",
       "      <th>0</th>\n",
       "      <th>1</th>\n",
       "      <th>2</th>\n",
       "      <th>3</th>\n",
       "      <th>4</th>\n",
       "    </tr>\n",
       "  </thead>\n",
       "  <tbody>\n",
       "    <tr>\n",
       "      <th>test_id</th>\n",
       "      <td>0</td>\n",
       "      <td>1</td>\n",
       "      <td>2</td>\n",
       "      <td>3</td>\n",
       "      <td>4</td>\n",
       "    </tr>\n",
       "    <tr>\n",
       "      <th>question1</th>\n",
       "      <td>How does the Surface Pro himself 4 compare wit...</td>\n",
       "      <td>Should I have a hair transplant at age 24? How...</td>\n",
       "      <td>What but is the best way to send money from Ch...</td>\n",
       "      <td>Which food not emulsifiers?</td>\n",
       "      <td>How \"aberystwyth\" start reading?</td>\n",
       "    </tr>\n",
       "    <tr>\n",
       "      <th>question2</th>\n",
       "      <td>Why did Microsoft choose core m3 and not core ...</td>\n",
       "      <td>How much cost does hair transplant require?</td>\n",
       "      <td>What you send money to China?</td>\n",
       "      <td>What foods fibre?</td>\n",
       "      <td>How their can I start reading?</td>\n",
       "    </tr>\n",
       "    <tr>\n",
       "      <th>cos_sim_cvc</th>\n",
       "      <td>0.676411</td>\n",
       "      <td>0.450377</td>\n",
       "      <td>0.47032</td>\n",
       "      <td>0.72421</td>\n",
       "      <td>0.357474</td>\n",
       "    </tr>\n",
       "    <tr>\n",
       "      <th>cos_sim_tf_idf</th>\n",
       "      <td>0.684591</td>\n",
       "      <td>0.516105</td>\n",
       "      <td>0.467189</td>\n",
       "      <td>1</td>\n",
       "      <td>0</td>\n",
       "    </tr>\n",
       "    <tr>\n",
       "      <th>manh_cvc</th>\n",
       "      <td>0.130912</td>\n",
       "      <td>0.0772804</td>\n",
       "      <td>0.0709459</td>\n",
       "      <td>0.0532095</td>\n",
       "      <td>0.0316723</td>\n",
       "    </tr>\n",
       "    <tr>\n",
       "      <th>euc_cvc</th>\n",
       "      <td>0.361818</td>\n",
       "      <td>0.277994</td>\n",
       "      <td>0.266357</td>\n",
       "      <td>0.230672</td>\n",
       "      <td>0.177967</td>\n",
       "    </tr>\n",
       "    <tr>\n",
       "      <th>word_count_dif</th>\n",
       "      <td>0.0128755</td>\n",
       "      <td>0.0300429</td>\n",
       "      <td>0.0343348</td>\n",
       "      <td>0.00429185</td>\n",
       "      <td>0.00858369</td>\n",
       "    </tr>\n",
       "    <tr>\n",
       "      <th>manh_tfidf</th>\n",
       "      <td>0.318105</td>\n",
       "      <td>0.197833</td>\n",
       "      <td>0.221614</td>\n",
       "      <td>0.177159</td>\n",
       "      <td>0</td>\n",
       "    </tr>\n",
       "    <tr>\n",
       "      <th>euc_tfidf</th>\n",
       "      <td>0.8274</td>\n",
       "      <td>0.718404</td>\n",
       "      <td>0.683512</td>\n",
       "      <td>1</td>\n",
       "      <td>0</td>\n",
       "    </tr>\n",
       "    <tr>\n",
       "      <th>q1_freq</th>\n",
       "      <td>0.00185874</td>\n",
       "      <td>0.00371747</td>\n",
       "      <td>0.00185874</td>\n",
       "      <td>0.00148699</td>\n",
       "      <td>0.00223048</td>\n",
       "    </tr>\n",
       "    <tr>\n",
       "      <th>q2_freq</th>\n",
       "      <td>0.00185874</td>\n",
       "      <td>0.00185874</td>\n",
       "      <td>0.00185874</td>\n",
       "      <td>0.00148699</td>\n",
       "      <td>0.00223048</td>\n",
       "    </tr>\n",
       "  </tbody>\n",
       "</table>\n",
       "</div>"
      ],
      "text/plain": [
       "                                                                0  \\\n",
       "test_id                                                         0   \n",
       "question1       How does the Surface Pro himself 4 compare wit...   \n",
       "question2       Why did Microsoft choose core m3 and not core ...   \n",
       "cos_sim_cvc                                              0.676411   \n",
       "cos_sim_tf_idf                                           0.684591   \n",
       "manh_cvc                                                 0.130912   \n",
       "euc_cvc                                                  0.361818   \n",
       "word_count_dif                                          0.0128755   \n",
       "manh_tfidf                                               0.318105   \n",
       "euc_tfidf                                                  0.8274   \n",
       "q1_freq                                                0.00185874   \n",
       "q2_freq                                                0.00185874   \n",
       "\n",
       "                                                                1  \\\n",
       "test_id                                                         1   \n",
       "question1       Should I have a hair transplant at age 24? How...   \n",
       "question2             How much cost does hair transplant require?   \n",
       "cos_sim_cvc                                              0.450377   \n",
       "cos_sim_tf_idf                                           0.516105   \n",
       "manh_cvc                                                0.0772804   \n",
       "euc_cvc                                                  0.277994   \n",
       "word_count_dif                                          0.0300429   \n",
       "manh_tfidf                                               0.197833   \n",
       "euc_tfidf                                                0.718404   \n",
       "q1_freq                                                0.00371747   \n",
       "q2_freq                                                0.00185874   \n",
       "\n",
       "                                                                2  \\\n",
       "test_id                                                         2   \n",
       "question1       What but is the best way to send money from Ch...   \n",
       "question2                           What you send money to China?   \n",
       "cos_sim_cvc                                               0.47032   \n",
       "cos_sim_tf_idf                                           0.467189   \n",
       "manh_cvc                                                0.0709459   \n",
       "euc_cvc                                                  0.266357   \n",
       "word_count_dif                                          0.0343348   \n",
       "manh_tfidf                                               0.221614   \n",
       "euc_tfidf                                                0.683512   \n",
       "q1_freq                                                0.00185874   \n",
       "q2_freq                                                0.00185874   \n",
       "\n",
       "                                          3                                 4  \n",
       "test_id                                   3                                 4  \n",
       "question1       Which food not emulsifiers?  How \"aberystwyth\" start reading?  \n",
       "question2                 What foods fibre?    How their can I start reading?  \n",
       "cos_sim_cvc                         0.72421                          0.357474  \n",
       "cos_sim_tf_idf                            1                                 0  \n",
       "manh_cvc                          0.0532095                         0.0316723  \n",
       "euc_cvc                            0.230672                          0.177967  \n",
       "word_count_dif                   0.00429185                        0.00858369  \n",
       "manh_tfidf                         0.177159                                 0  \n",
       "euc_tfidf                                 1                                 0  \n",
       "q1_freq                          0.00148699                        0.00223048  \n",
       "q2_freq                          0.00148699                        0.00223048  "
      ]
     },
     "execution_count": 23,
     "metadata": {},
     "output_type": "execute_result"
    }
   ],
   "source": [
    "df_test.head().T"
   ]
  },
  {
   "cell_type": "markdown",
   "metadata": {},
   "source": [
    "В качестве модели удобно выбрать лог регресию"
   ]
  },
  {
   "cell_type": "code",
   "execution_count": 24,
   "metadata": {
    "collapsed": true
   },
   "outputs": [],
   "source": [
    "lr = LogisticRegression(solver='sag', n_jobs=4, max_iter=1000, verbose=2)"
   ]
  },
  {
   "cell_type": "markdown",
   "metadata": {},
   "source": [
    "Подберем параметры модели"
   ]
  },
  {
   "cell_type": "code",
   "execution_count": 26,
   "metadata": {
    "collapsed": true
   },
   "outputs": [],
   "source": [
    "gs = GridSearchCV(lr, {'C': np.linspace(0.1, 1.5, 10)}, scoring='neg_log_loss', verbose=2)"
   ]
  },
  {
   "cell_type": "code",
   "execution_count": 33,
   "metadata": {
    "collapsed": false
   },
   "outputs": [
    {
     "name": "stdout",
     "output_type": "stream",
     "text": [
      "Fitting 3 folds for each of 10 candidates, totalling 30 fits\n",
      "[CV] C=0.1 ...........................................................\n",
      "convergence after 20 epochs took 8 seconds\n"
     ]
    },
    {
     "name": "stderr",
     "output_type": "stream",
     "text": [
      "[Parallel(n_jobs=4)]: Done   1 out of   1 | elapsed:    7.9s finished\n"
     ]
    },
    {
     "name": "stdout",
     "output_type": "stream",
     "text": [
      "[CV] ............................................ C=0.1, total=   8.7s\n",
      "[CV] C=0.1 ...........................................................\n"
     ]
    },
    {
     "name": "stderr",
     "output_type": "stream",
     "text": [
      "[Parallel(n_jobs=1)]: Done   1 out of   1 | elapsed:    8.8s remaining:    0.0s\n"
     ]
    },
    {
     "name": "stdout",
     "output_type": "stream",
     "text": [
      "convergence after 20 epochs took 8 seconds\n"
     ]
    },
    {
     "name": "stderr",
     "output_type": "stream",
     "text": [
      "[Parallel(n_jobs=4)]: Done   1 out of   1 | elapsed:    8.2s finished\n"
     ]
    },
    {
     "name": "stdout",
     "output_type": "stream",
     "text": [
      "[CV] ............................................ C=0.1, total=   8.9s\n",
      "[CV] C=0.1 ...........................................................\n",
      "convergence after 23 epochs took 8 seconds\n"
     ]
    },
    {
     "name": "stderr",
     "output_type": "stream",
     "text": [
      "[Parallel(n_jobs=4)]: Done   1 out of   1 | elapsed:    8.4s finished\n"
     ]
    },
    {
     "name": "stdout",
     "output_type": "stream",
     "text": [
      "[CV] ............................................ C=0.1, total=   9.1s\n",
      "[CV] C=0.255555555556 ................................................\n",
      "convergence after 33 epochs took 12 seconds\n"
     ]
    },
    {
     "name": "stderr",
     "output_type": "stream",
     "text": [
      "[Parallel(n_jobs=4)]: Done   1 out of   1 | elapsed:   12.0s finished\n"
     ]
    },
    {
     "name": "stdout",
     "output_type": "stream",
     "text": [
      "[CV] ................................. C=0.255555555556, total=  12.7s\n",
      "[CV] C=0.255555555556 ................................................\n",
      "convergence after 33 epochs took 13 seconds\n",
      "[CV] ................................. C=0.255555555556, total=  13.7s"
     ]
    },
    {
     "name": "stderr",
     "output_type": "stream",
     "text": [
      "[Parallel(n_jobs=4)]: Done   1 out of   1 | elapsed:   13.1s finished\n"
     ]
    },
    {
     "name": "stdout",
     "output_type": "stream",
     "text": [
      "\n",
      "[CV] C=0.255555555556 ................................................\n",
      "convergence after 33 epochs took 13 seconds\n"
     ]
    },
    {
     "name": "stderr",
     "output_type": "stream",
     "text": [
      "[Parallel(n_jobs=4)]: Done   1 out of   1 | elapsed:   13.1s finished\n"
     ]
    },
    {
     "name": "stdout",
     "output_type": "stream",
     "text": [
      "[CV] ................................. C=0.255555555556, total=  13.8s\n",
      "[CV] C=0.411111111111 ................................................\n",
      "convergence after 48 epochs took 19 seconds\n",
      "[CV] ................................. C=0.411111111111, total=  19.8s\n",
      "[CV] C=0.411111111111 ................................................\n"
     ]
    },
    {
     "name": "stderr",
     "output_type": "stream",
     "text": [
      "[Parallel(n_jobs=4)]: Done   1 out of   1 | elapsed:   19.3s finished\n"
     ]
    },
    {
     "name": "stdout",
     "output_type": "stream",
     "text": [
      "convergence after 49 epochs took 19 seconds\n"
     ]
    },
    {
     "name": "stderr",
     "output_type": "stream",
     "text": [
      "[Parallel(n_jobs=4)]: Done   1 out of   1 | elapsed:   19.4s finished\n"
     ]
    },
    {
     "name": "stdout",
     "output_type": "stream",
     "text": [
      "[CV] ................................. C=0.411111111111, total=  20.1s\n",
      "[CV] C=0.411111111111 ................................................\n",
      "convergence after 48 epochs took 19 seconds\n"
     ]
    },
    {
     "name": "stderr",
     "output_type": "stream",
     "text": [
      "[Parallel(n_jobs=4)]: Done   1 out of   1 | elapsed:   19.1s finished\n"
     ]
    },
    {
     "name": "stdout",
     "output_type": "stream",
     "text": [
      "[CV] ................................. C=0.411111111111, total=  19.8s\n",
      "[CV] C=0.566666666667 ................................................\n",
      "convergence after 60 epochs took 24 seconds\n"
     ]
    },
    {
     "name": "stderr",
     "output_type": "stream",
     "text": [
      "[Parallel(n_jobs=4)]: Done   1 out of   1 | elapsed:   23.8s finished\n"
     ]
    },
    {
     "name": "stdout",
     "output_type": "stream",
     "text": [
      "[CV] ................................. C=0.566666666667, total=  24.5s\n",
      "[CV] C=0.566666666667 ................................................\n",
      "convergence after 60 epochs took 20 seconds\n"
     ]
    },
    {
     "name": "stderr",
     "output_type": "stream",
     "text": [
      "[Parallel(n_jobs=4)]: Done   1 out of   1 | elapsed:   19.0s finished\n"
     ]
    },
    {
     "name": "stdout",
     "output_type": "stream",
     "text": [
      "[CV] ................................. C=0.566666666667, total=  19.7s\n",
      "[CV] C=0.566666666667 ................................................\n",
      "convergence after 60 epochs took 24 seconds\n"
     ]
    },
    {
     "name": "stderr",
     "output_type": "stream",
     "text": [
      "[Parallel(n_jobs=4)]: Done   1 out of   1 | elapsed:   23.9s finished\n"
     ]
    },
    {
     "name": "stdout",
     "output_type": "stream",
     "text": [
      "[CV] ................................. C=0.566666666667, total=  24.6s\n",
      "[CV] C=0.722222222222 ................................................\n",
      "convergence after 70 epochs took 26 seconds\n"
     ]
    },
    {
     "name": "stderr",
     "output_type": "stream",
     "text": [
      "[Parallel(n_jobs=4)]: Done   1 out of   1 | elapsed:   26.1s finished\n"
     ]
    },
    {
     "name": "stdout",
     "output_type": "stream",
     "text": [
      "[CV] ................................. C=0.722222222222, total=  26.8s\n",
      "[CV] C=0.722222222222 ................................................\n",
      "convergence after 71 epochs took 29 seconds\n",
      "[CV] ................................. C=0.722222222222, total=  29.1s\n",
      "[CV] C=0.722222222222 ................................................\n"
     ]
    },
    {
     "name": "stderr",
     "output_type": "stream",
     "text": [
      "[Parallel(n_jobs=4)]: Done   1 out of   1 | elapsed:   28.6s finished\n"
     ]
    },
    {
     "name": "stdout",
     "output_type": "stream",
     "text": [
      "convergence after 70 epochs took 27 seconds\n",
      "[CV] ................................. C=0.722222222222, total=  26.8s\n",
      "[CV] C=0.877777777778 ................................................\n"
     ]
    },
    {
     "name": "stderr",
     "output_type": "stream",
     "text": [
      "[Parallel(n_jobs=4)]: Done   1 out of   1 | elapsed:   26.2s finished\n"
     ]
    },
    {
     "name": "stdout",
     "output_type": "stream",
     "text": [
      "convergence after 79 epochs took 32 seconds\n"
     ]
    },
    {
     "name": "stderr",
     "output_type": "stream",
     "text": [
      "[Parallel(n_jobs=4)]: Done   1 out of   1 | elapsed:   31.6s finished\n"
     ]
    },
    {
     "name": "stdout",
     "output_type": "stream",
     "text": [
      "[CV] ................................. C=0.877777777778, total=  32.3s\n",
      "[CV] C=0.877777777778 ................................................\n",
      "convergence after 79 epochs took 31 seconds\n",
      "[CV] ................................. C=0.877777777778, total=  31.9s\n",
      "[CV] C=0.877777777778 ................................................\n"
     ]
    },
    {
     "name": "stderr",
     "output_type": "stream",
     "text": [
      "[Parallel(n_jobs=4)]: Done   1 out of   1 | elapsed:   31.3s finished\n"
     ]
    },
    {
     "name": "stdout",
     "output_type": "stream",
     "text": [
      "convergence after 79 epochs took 31 seconds\n"
     ]
    },
    {
     "name": "stderr",
     "output_type": "stream",
     "text": [
      "[Parallel(n_jobs=4)]: Done   1 out of   1 | elapsed:   31.7s finished\n"
     ]
    },
    {
     "name": "stdout",
     "output_type": "stream",
     "text": [
      "[CV] ................................. C=0.877777777778, total=  32.4s\n",
      "[CV] C=1.03333333333 .................................................\n",
      "convergence after 86 epochs took 30 seconds\n"
     ]
    },
    {
     "name": "stderr",
     "output_type": "stream",
     "text": [
      "[Parallel(n_jobs=4)]: Done   1 out of   1 | elapsed:   30.1s finished\n"
     ]
    },
    {
     "name": "stdout",
     "output_type": "stream",
     "text": [
      "[CV] .................................. C=1.03333333333, total=  30.8s\n",
      "[CV] C=1.03333333333 .................................................\n",
      "convergence after 88 epochs took 36 seconds\n",
      "[CV] .................................. C=1.03333333333, total=  36.8s"
     ]
    },
    {
     "name": "stderr",
     "output_type": "stream",
     "text": [
      "[Parallel(n_jobs=4)]: Done   1 out of   1 | elapsed:   36.2s finished\n"
     ]
    },
    {
     "name": "stdout",
     "output_type": "stream",
     "text": [
      "\n",
      "[CV] C=1.03333333333 .................................................\n",
      "convergence after 87 epochs took 35 seconds\n"
     ]
    },
    {
     "name": "stderr",
     "output_type": "stream",
     "text": [
      "[Parallel(n_jobs=4)]: Done   1 out of   1 | elapsed:   34.5s finished\n"
     ]
    },
    {
     "name": "stdout",
     "output_type": "stream",
     "text": [
      "[CV] .................................. C=1.03333333333, total=  35.2s\n",
      "[CV] C=1.18888888889 .................................................\n",
      "convergence after 93 epochs took 36 seconds\n",
      "[CV] .................................. C=1.18888888889, total=  37.1s\n",
      "[CV] C=1.18888888889 .................................................\n"
     ]
    },
    {
     "name": "stderr",
     "output_type": "stream",
     "text": [
      "[Parallel(n_jobs=4)]: Done   1 out of   1 | elapsed:   36.5s finished\n"
     ]
    },
    {
     "name": "stdout",
     "output_type": "stream",
     "text": [
      "convergence after 95 epochs took 37 seconds\n"
     ]
    },
    {
     "name": "stderr",
     "output_type": "stream",
     "text": [
      "[Parallel(n_jobs=4)]: Done   1 out of   1 | elapsed:   37.7s finished\n"
     ]
    },
    {
     "name": "stdout",
     "output_type": "stream",
     "text": [
      "[CV] .................................. C=1.18888888889, total=  38.4s\n",
      "[CV] C=1.18888888889 .................................................\n",
      "convergence after 95 epochs took 38 seconds\n",
      "[CV] .................................. C=1.18888888889, total=  38.5s"
     ]
    },
    {
     "name": "stderr",
     "output_type": "stream",
     "text": [
      "[Parallel(n_jobs=4)]: Done   1 out of   1 | elapsed:   37.9s finished\n"
     ]
    },
    {
     "name": "stdout",
     "output_type": "stream",
     "text": [
      "\n",
      "[CV] C=1.34444444444 .................................................\n",
      "convergence after 102 epochs took 40 seconds\n",
      "[CV] .................................. C=1.34444444444, total=  41.0s\n",
      "[CV] C=1.34444444444 .................................................\n"
     ]
    },
    {
     "name": "stderr",
     "output_type": "stream",
     "text": [
      "[Parallel(n_jobs=4)]: Done   1 out of   1 | elapsed:   40.4s finished\n"
     ]
    },
    {
     "name": "stdout",
     "output_type": "stream",
     "text": [
      "convergence after 102 epochs took 32 seconds\n"
     ]
    },
    {
     "name": "stderr",
     "output_type": "stream",
     "text": [
      "[Parallel(n_jobs=4)]: Done   1 out of   1 | elapsed:   31.8s finished\n"
     ]
    },
    {
     "name": "stdout",
     "output_type": "stream",
     "text": [
      "[CV] .................................. C=1.34444444444, total=  32.7s\n",
      "[CV] C=1.34444444444 .................................................\n",
      "convergence after 105 epochs took 41 seconds\n"
     ]
    },
    {
     "name": "stderr",
     "output_type": "stream",
     "text": [
      "[Parallel(n_jobs=4)]: Done   1 out of   1 | elapsed:   41.4s finished\n"
     ]
    },
    {
     "name": "stdout",
     "output_type": "stream",
     "text": [
      "[CV] .................................. C=1.34444444444, total=  42.2s\n",
      "[CV] C=1.5 ...........................................................\n",
      "convergence after 108 epochs took 41 seconds\n"
     ]
    },
    {
     "name": "stderr",
     "output_type": "stream",
     "text": [
      "[Parallel(n_jobs=4)]: Done   1 out of   1 | elapsed:   40.5s finished\n"
     ]
    },
    {
     "name": "stdout",
     "output_type": "stream",
     "text": [
      "[CV] ............................................ C=1.5, total=  41.2s\n",
      "[CV] C=1.5 ...........................................................\n",
      "convergence after 108 epochs took 43 seconds\n"
     ]
    },
    {
     "name": "stderr",
     "output_type": "stream",
     "text": [
      "[Parallel(n_jobs=4)]: Done   1 out of   1 | elapsed:   42.3s finished\n"
     ]
    },
    {
     "name": "stdout",
     "output_type": "stream",
     "text": [
      "[CV] ............................................ C=1.5, total=  42.9s\n",
      "[CV] C=1.5 ...........................................................\n",
      "convergence after 114 epochs took 41 seconds\n"
     ]
    },
    {
     "name": "stderr",
     "output_type": "stream",
     "text": [
      "[Parallel(n_jobs=4)]: Done   1 out of   1 | elapsed:   40.4s finished\n"
     ]
    },
    {
     "name": "stdout",
     "output_type": "stream",
     "text": [
      "[CV] ............................................ C=1.5, total=  41.1s\n"
     ]
    },
    {
     "name": "stderr",
     "output_type": "stream",
     "text": [
      "[Parallel(n_jobs=1)]: Done  30 out of  30 | elapsed: 13.9min finished\n"
     ]
    },
    {
     "name": "stdout",
     "output_type": "stream",
     "text": [
      "convergence after 62 epochs took 40 seconds\n"
     ]
    },
    {
     "name": "stderr",
     "output_type": "stream",
     "text": [
      "[Parallel(n_jobs=4)]: Done   1 out of   1 | elapsed:   39.9s finished\n"
     ]
    },
    {
     "data": {
      "text/plain": [
       "GridSearchCV(cv=None, error_score='raise',\n",
       "       estimator=LogisticRegression(C=1.0, class_weight=None, dual=False, fit_intercept=True,\n",
       "          intercept_scaling=1, max_iter=1000, multi_class='ovr', n_jobs=4,\n",
       "          penalty='l2', random_state=None, solver='sag', tol=0.0001,\n",
       "          verbose=2, warm_start=False),\n",
       "       fit_params={}, iid=True, n_jobs=1,\n",
       "       param_grid={'C': array([ 0.1    ,  0.25556,  0.41111,  0.56667,  0.72222,  0.87778,\n",
       "        1.03333,  1.18889,  1.34444,  1.5    ])},\n",
       "       pre_dispatch='2*n_jobs', refit=True, return_train_score=True,\n",
       "       scoring='neg_log_loss', verbose=2)"
      ]
     },
     "execution_count": 33,
     "metadata": {},
     "output_type": "execute_result"
    }
   ],
   "source": [
    "gs.fit(hstack([tfid1_train.astype(float), tfid2_train.astype(float),\\\n",
    "                                 -(tfid1_train.astype(bool) != tfid2_train.astype(bool)).astype(int), \\\n",
    "                                 df_train[['cos_sim_tf_idf', 'word_count_dif', 'cos_sim_cvc', 'euc_cvc', 'manh_cvc',\\\n",
    "                                           'euc_tfidf', 'manh_tfidf']].values]),\\\n",
    "                     df_train.is_duplicate)"
   ]
  },
  {
   "cell_type": "code",
   "execution_count": 34,
   "metadata": {
    "collapsed": false
   },
   "outputs": [
    {
     "data": {
      "text/plain": [
       "{'C': 0.72222222222222221}"
      ]
     },
     "execution_count": 34,
     "metadata": {},
     "output_type": "execute_result"
    }
   ],
   "source": [
    "gs.best_params_"
   ]
  },
  {
   "cell_type": "markdown",
   "metadata": {},
   "source": [
    "В итоговой модели учтем, что распределения классов в трейн и тест сете разные"
   ]
  },
  {
   "cell_type": "code",
   "execution_count": 35,
   "metadata": {
    "collapsed": true
   },
   "outputs": [],
   "source": [
    "lr = LogisticRegression(solver='sag', n_jobs=4, max_iter=1000, verbose=2, C=0.72, class_weight={1: 0.46, 0: 1.32})"
   ]
  },
  {
   "cell_type": "code",
   "execution_count": 36,
   "metadata": {
    "collapsed": false
   },
   "outputs": [
    {
     "name": "stdout",
     "output_type": "stream",
     "text": [
      "convergence after 82 epochs took 41 seconds\n"
     ]
    },
    {
     "name": "stderr",
     "output_type": "stream",
     "text": [
      "[Parallel(n_jobs=4)]: Done   1 out of   1 | elapsed:   41.6s finished\n"
     ]
    },
    {
     "data": {
      "text/plain": [
       "LogisticRegression(C=0.72, class_weight={0: 1.32, 1: 0.46}, dual=False,\n",
       "          fit_intercept=True, intercept_scaling=1, max_iter=1000,\n",
       "          multi_class='ovr', n_jobs=4, penalty='l2', random_state=None,\n",
       "          solver='sag', tol=0.0001, verbose=2, warm_start=False)"
      ]
     },
     "execution_count": 36,
     "metadata": {},
     "output_type": "execute_result"
    }
   ],
   "source": [
    "lr.fit(hstack([tfid1_train.astype(float), tfid2_train.astype(float),\\\n",
    "              -(tfid1_train.astype(bool) != tfid2_train.astype(bool)).astype(int), \\\n",
    "              df_train[['cos_sim_tf_idf', 'word_count_dif', 'cos_sim_cvc', 'euc_cvc', 'manh_cvc',\\\n",
    "                        'euc_tfidf', 'manh_tfidf', 'q1_freq', 'q2_freq']].values]),\\\n",
    "              df_train.is_duplicate)"
   ]
  },
  {
   "cell_type": "code",
   "execution_count": 37,
   "metadata": {
    "collapsed": true
   },
   "outputs": [],
   "source": [
    "y_pred = lr.predict_proba(hstack([tfid1_test.astype(float), tfid2_test.astype(float),\\\n",
    "                                 -(tfid1_test.astype(bool) != tfid2_test.astype(bool)).astype(int), \\\n",
    "                                 df_test[['cos_sim_tf_idf', 'word_count_dif', 'cos_sim_cvc', 'euc_cvc', 'manh_cvc',\\\n",
    "                                           'euc_tfidf', 'manh_tfidf', 'q1_freq', 'q2_freq']].values]))"
   ]
  },
  {
   "cell_type": "code",
   "execution_count": 38,
   "metadata": {
    "collapsed": true
   },
   "outputs": [],
   "source": [
    "df_out = pd.DataFrame(y_pred[:,1], columns=['is_duplicate'])\n",
    "df_out.index.name = 'test_id'\n",
    "df_out.to_csv('out8.csv')"
   ]
  },
  {
   "cell_type": "markdown",
   "metadata": {},
   "source": [
    "В итоге скор: 0.31272"
   ]
  },
  {
   "cell_type": "code",
   "execution_count": null,
   "metadata": {
    "collapsed": true
   },
   "outputs": [],
   "source": []
  }
 ],
 "metadata": {
  "anaconda-cloud": {},
  "kernelspec": {
   "display_name": "Python [default]",
   "language": "python",
   "name": "python2"
  },
  "language_info": {
   "codemirror_mode": {
    "name": "ipython",
    "version": 2
   },
   "file_extension": ".py",
   "mimetype": "text/x-python",
   "name": "python",
   "nbconvert_exporter": "python",
   "pygments_lexer": "ipython2",
   "version": "2.7.12"
  }
 },
 "nbformat": 4,
 "nbformat_minor": 2
}
