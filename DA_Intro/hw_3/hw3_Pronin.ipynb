{
 "cells": [
  {
   "cell_type": "markdown",
   "metadata": {},
   "source": [
    "# Введение в анализ данных (первый семестр)\n",
    "## Домашнее задание №3 - Участие в конкурсе Rossmann Store Sales"
   ]
  },
  {
   "cell_type": "markdown",
   "metadata": {},
   "source": [
    "<b>Дедлайн сдачи домашнего задания: 27 апреля, 22:00. После дедлайна решения не принимаются.</b><br>\n",
    "<br>\n",
    "В данном домашнем задании вам придется учавствовать в конкурсе [Rossman Store Sales](https://www.kaggle.com/c/rossmann-store-sales). Ваша задача получить наиболее высокий результат на Private Leaderboard, используя только те методы, которые вы узнали до сегодняшнего дня на курсах Техносферы. Оценка домашнего задания будет производиться через kaggle kernels. До дедлайна вам необходимо прислать на почту письмо с ссылкой на ваш kernel. Не забудьте указать правильно тему:)"
   ]
  },
  {
   "cell_type": "markdown",
   "metadata": {},
   "source": [
    "<h2>Подготовка</h2>"
   ]
  },
  {
   "cell_type": "markdown",
   "metadata": {},
   "source": [
    "Импорт всех необходимых пакетов:"
   ]
  },
  {
   "cell_type": "code",
   "execution_count": 59,
   "metadata": {
    "collapsed": false
   },
   "outputs": [],
   "source": [
    "import gc\n",
    "import operator\n",
    "import numpy as np\n",
    "import pandas as pd\n",
    "from datetime import datetime\n",
    "from sklearn.ensemble import RandomForestRegressor\n",
    "from sklearn.model_selection import train_test_split\n",
    "from sklearn.metrics import roc_auc_score, accuracy_score, mean_squared_error\n",
    "import matplotlib.pyplot as plt\n",
    "%matplotlib inline"
   ]
  },
  {
   "cell_type": "markdown",
   "metadata": {},
   "source": [
    "Описание всех необходимых функций, используемых далее:"
   ]
  },
  {
   "cell_type": "code",
   "execution_count": 63,
   "metadata": {
    "collapsed": true
   },
   "outputs": [],
   "source": [
    "def to_weight(y):\n",
    "    w = np.zeros(y.shape, dtype=float)\n",
    "    ind = y != 0\n",
    "    w[ind] = 1./(y[ind]**2)\n",
    "    return w\n",
    "\n",
    "def rmspe(y, yhat):\n",
    "    w = to_weight(y)\n",
    "    rmspe = np.sqrt(np.mean( w * (y - yhat)**2 ))\n",
    "    return rmspe"
   ]
  },
  {
   "cell_type": "code",
   "execution_count": 3,
   "metadata": {
    "collapsed": true
   },
   "outputs": [],
   "source": [
    "def str_date_to_ordinal(date):\n",
    "    return datetime.strptime(date, '%Y-%m-%d').date().toordinal()\n",
    "\n",
    "def date_to_ordinal(date):\n",
    "    return date.toordinal()\n",
    "\n",
    "def str_to_date(date):\n",
    "    return datetime.strptime(date, '%Y-%m-%d').date()"
   ]
  },
  {
   "cell_type": "code",
   "execution_count": 4,
   "metadata": {
    "collapsed": true
   },
   "outputs": [],
   "source": [
    "SEED = 42"
   ]
  },
  {
   "cell_type": "markdown",
   "metadata": {},
   "source": [
    "<h2>Загрузка и предобработка данных</h2>"
   ]
  },
  {
   "cell_type": "markdown",
   "metadata": {
    "collapsed": true
   },
   "source": [
    "<h3>1) Загрузка тренировочных и тестовых данных</h3>"
   ]
  },
  {
   "cell_type": "code",
   "execution_count": 5,
   "metadata": {
    "collapsed": true
   },
   "outputs": [],
   "source": [
    "train_df = pd.read_csv('./data/train.csv', sep=',', parse_dates=['Date'], date_parser=str_to_date,\n",
    "                      low_memory=False)\n",
    "test_df = pd.read_csv('./data/test.csv', sep=',', parse_dates=['Date'], date_parser=str_to_date,\n",
    "                      low_memory=False)"
   ]
  },
  {
   "cell_type": "code",
   "execution_count": 6,
   "metadata": {
    "collapsed": false
   },
   "outputs": [
    {
     "name": "stdout",
     "output_type": "stream",
     "text": [
      "(1017209, 9)\n",
      "Train data head:\n"
     ]
    },
    {
     "data": {
      "text/html": [
       "<div>\n",
       "<table border=\"1\" class=\"dataframe\">\n",
       "  <thead>\n",
       "    <tr style=\"text-align: right;\">\n",
       "      <th></th>\n",
       "      <th>Store</th>\n",
       "      <th>DayOfWeek</th>\n",
       "      <th>Date</th>\n",
       "      <th>Sales</th>\n",
       "      <th>Customers</th>\n",
       "      <th>Open</th>\n",
       "      <th>Promo</th>\n",
       "      <th>StateHoliday</th>\n",
       "      <th>SchoolHoliday</th>\n",
       "    </tr>\n",
       "  </thead>\n",
       "  <tbody>\n",
       "    <tr>\n",
       "      <th>0</th>\n",
       "      <td>1</td>\n",
       "      <td>5</td>\n",
       "      <td>2015-07-31</td>\n",
       "      <td>5263</td>\n",
       "      <td>555</td>\n",
       "      <td>1</td>\n",
       "      <td>1</td>\n",
       "      <td>0</td>\n",
       "      <td>1</td>\n",
       "    </tr>\n",
       "    <tr>\n",
       "      <th>1</th>\n",
       "      <td>2</td>\n",
       "      <td>5</td>\n",
       "      <td>2015-07-31</td>\n",
       "      <td>6064</td>\n",
       "      <td>625</td>\n",
       "      <td>1</td>\n",
       "      <td>1</td>\n",
       "      <td>0</td>\n",
       "      <td>1</td>\n",
       "    </tr>\n",
       "    <tr>\n",
       "      <th>2</th>\n",
       "      <td>3</td>\n",
       "      <td>5</td>\n",
       "      <td>2015-07-31</td>\n",
       "      <td>8314</td>\n",
       "      <td>821</td>\n",
       "      <td>1</td>\n",
       "      <td>1</td>\n",
       "      <td>0</td>\n",
       "      <td>1</td>\n",
       "    </tr>\n",
       "    <tr>\n",
       "      <th>3</th>\n",
       "      <td>4</td>\n",
       "      <td>5</td>\n",
       "      <td>2015-07-31</td>\n",
       "      <td>13995</td>\n",
       "      <td>1498</td>\n",
       "      <td>1</td>\n",
       "      <td>1</td>\n",
       "      <td>0</td>\n",
       "      <td>1</td>\n",
       "    </tr>\n",
       "    <tr>\n",
       "      <th>4</th>\n",
       "      <td>5</td>\n",
       "      <td>5</td>\n",
       "      <td>2015-07-31</td>\n",
       "      <td>4822</td>\n",
       "      <td>559</td>\n",
       "      <td>1</td>\n",
       "      <td>1</td>\n",
       "      <td>0</td>\n",
       "      <td>1</td>\n",
       "    </tr>\n",
       "  </tbody>\n",
       "</table>\n",
       "</div>"
      ],
      "text/plain": [
       "   Store  DayOfWeek       Date  Sales  Customers  Open  Promo StateHoliday  \\\n",
       "0      1          5 2015-07-31   5263        555     1      1            0   \n",
       "1      2          5 2015-07-31   6064        625     1      1            0   \n",
       "2      3          5 2015-07-31   8314        821     1      1            0   \n",
       "3      4          5 2015-07-31  13995       1498     1      1            0   \n",
       "4      5          5 2015-07-31   4822        559     1      1            0   \n",
       "\n",
       "   SchoolHoliday  \n",
       "0              1  \n",
       "1              1  \n",
       "2              1  \n",
       "3              1  \n",
       "4              1  "
      ]
     },
     "execution_count": 6,
     "metadata": {},
     "output_type": "execute_result"
    }
   ],
   "source": [
    "print train_df.shape\n",
    "print \"Train data head:\"\n",
    "train_df.head()"
   ]
  },
  {
   "cell_type": "code",
   "execution_count": 7,
   "metadata": {
    "collapsed": false
   },
   "outputs": [
    {
     "name": "stdout",
     "output_type": "stream",
     "text": [
      "(41088, 8)\n",
      "Test data head:\n"
     ]
    },
    {
     "data": {
      "text/html": [
       "<div>\n",
       "<table border=\"1\" class=\"dataframe\">\n",
       "  <thead>\n",
       "    <tr style=\"text-align: right;\">\n",
       "      <th></th>\n",
       "      <th>Id</th>\n",
       "      <th>Store</th>\n",
       "      <th>DayOfWeek</th>\n",
       "      <th>Date</th>\n",
       "      <th>Open</th>\n",
       "      <th>Promo</th>\n",
       "      <th>StateHoliday</th>\n",
       "      <th>SchoolHoliday</th>\n",
       "    </tr>\n",
       "  </thead>\n",
       "  <tbody>\n",
       "    <tr>\n",
       "      <th>0</th>\n",
       "      <td>1</td>\n",
       "      <td>1</td>\n",
       "      <td>4</td>\n",
       "      <td>2015-09-17</td>\n",
       "      <td>1.0</td>\n",
       "      <td>1</td>\n",
       "      <td>0</td>\n",
       "      <td>0</td>\n",
       "    </tr>\n",
       "    <tr>\n",
       "      <th>1</th>\n",
       "      <td>2</td>\n",
       "      <td>3</td>\n",
       "      <td>4</td>\n",
       "      <td>2015-09-17</td>\n",
       "      <td>1.0</td>\n",
       "      <td>1</td>\n",
       "      <td>0</td>\n",
       "      <td>0</td>\n",
       "    </tr>\n",
       "    <tr>\n",
       "      <th>2</th>\n",
       "      <td>3</td>\n",
       "      <td>7</td>\n",
       "      <td>4</td>\n",
       "      <td>2015-09-17</td>\n",
       "      <td>1.0</td>\n",
       "      <td>1</td>\n",
       "      <td>0</td>\n",
       "      <td>0</td>\n",
       "    </tr>\n",
       "    <tr>\n",
       "      <th>3</th>\n",
       "      <td>4</td>\n",
       "      <td>8</td>\n",
       "      <td>4</td>\n",
       "      <td>2015-09-17</td>\n",
       "      <td>1.0</td>\n",
       "      <td>1</td>\n",
       "      <td>0</td>\n",
       "      <td>0</td>\n",
       "    </tr>\n",
       "    <tr>\n",
       "      <th>4</th>\n",
       "      <td>5</td>\n",
       "      <td>9</td>\n",
       "      <td>4</td>\n",
       "      <td>2015-09-17</td>\n",
       "      <td>1.0</td>\n",
       "      <td>1</td>\n",
       "      <td>0</td>\n",
       "      <td>0</td>\n",
       "    </tr>\n",
       "  </tbody>\n",
       "</table>\n",
       "</div>"
      ],
      "text/plain": [
       "   Id  Store  DayOfWeek       Date  Open  Promo StateHoliday  SchoolHoliday\n",
       "0   1      1          4 2015-09-17   1.0      1            0              0\n",
       "1   2      3          4 2015-09-17   1.0      1            0              0\n",
       "2   3      7          4 2015-09-17   1.0      1            0              0\n",
       "3   4      8          4 2015-09-17   1.0      1            0              0\n",
       "4   5      9          4 2015-09-17   1.0      1            0              0"
      ]
     },
     "execution_count": 7,
     "metadata": {},
     "output_type": "execute_result"
    }
   ],
   "source": [
    "print test_df.shape\n",
    "print \"Test data head:\"\n",
    "test_df.head()"
   ]
  },
  {
   "cell_type": "markdown",
   "metadata": {},
   "source": [
    "<h3>2) Обработка пропущенных значений в тренировочных и тестовых данных</h3>"
   ]
  },
  {
   "cell_type": "code",
   "execution_count": 8,
   "metadata": {
    "collapsed": false
   },
   "outputs": [
    {
     "name": "stdout",
     "output_type": "stream",
     "text": [
      "<class 'pandas.core.frame.DataFrame'>\n",
      "RangeIndex: 1017209 entries, 0 to 1017208\n",
      "Data columns (total 9 columns):\n",
      "Store            1017209 non-null int64\n",
      "DayOfWeek        1017209 non-null int64\n",
      "Date             1017209 non-null datetime64[ns]\n",
      "Sales            1017209 non-null int64\n",
      "Customers        1017209 non-null int64\n",
      "Open             1017209 non-null int64\n",
      "Promo            1017209 non-null int64\n",
      "StateHoliday     1017209 non-null object\n",
      "SchoolHoliday    1017209 non-null int64\n",
      "dtypes: datetime64[ns](1), int64(7), object(1)\n",
      "memory usage: 69.8+ MB\n"
     ]
    }
   ],
   "source": [
    "train_df.info()"
   ]
  },
  {
   "cell_type": "markdown",
   "metadata": {},
   "source": [
    "Как видно из информации о тренировочной выборке, пропущенных значений в ней нет."
   ]
  },
  {
   "cell_type": "code",
   "execution_count": 9,
   "metadata": {
    "collapsed": false
   },
   "outputs": [
    {
     "name": "stdout",
     "output_type": "stream",
     "text": [
      "<class 'pandas.core.frame.DataFrame'>\n",
      "RangeIndex: 41088 entries, 0 to 41087\n",
      "Data columns (total 8 columns):\n",
      "Id               41088 non-null int64\n",
      "Store            41088 non-null int64\n",
      "DayOfWeek        41088 non-null int64\n",
      "Date             41088 non-null datetime64[ns]\n",
      "Open             41077 non-null float64\n",
      "Promo            41088 non-null int64\n",
      "StateHoliday     41088 non-null object\n",
      "SchoolHoliday    41088 non-null int64\n",
      "dtypes: datetime64[ns](1), float64(1), int64(5), object(1)\n",
      "memory usage: 2.5+ MB\n"
     ]
    }
   ],
   "source": [
    "test_df.info()"
   ]
  },
  {
   "cell_type": "markdown",
   "metadata": {},
   "source": [
    "Как видно из информации о тестовой выборке, пропущенных значений в ней нет нигде, кроме 11 пропущенных значений переменной $Open$."
   ]
  },
  {
   "cell_type": "code",
   "execution_count": 10,
   "metadata": {
    "collapsed": false
   },
   "outputs": [
    {
     "data": {
      "text/html": [
       "<div>\n",
       "<table border=\"1\" class=\"dataframe\">\n",
       "  <thead>\n",
       "    <tr style=\"text-align: right;\">\n",
       "      <th></th>\n",
       "      <th>Id</th>\n",
       "      <th>Store</th>\n",
       "      <th>DayOfWeek</th>\n",
       "      <th>Date</th>\n",
       "      <th>Open</th>\n",
       "      <th>Promo</th>\n",
       "      <th>StateHoliday</th>\n",
       "      <th>SchoolHoliday</th>\n",
       "    </tr>\n",
       "  </thead>\n",
       "  <tbody>\n",
       "    <tr>\n",
       "      <th>479</th>\n",
       "      <td>480</td>\n",
       "      <td>622</td>\n",
       "      <td>4</td>\n",
       "      <td>2015-09-17</td>\n",
       "      <td>NaN</td>\n",
       "      <td>1</td>\n",
       "      <td>0</td>\n",
       "      <td>0</td>\n",
       "    </tr>\n",
       "    <tr>\n",
       "      <th>1335</th>\n",
       "      <td>1336</td>\n",
       "      <td>622</td>\n",
       "      <td>3</td>\n",
       "      <td>2015-09-16</td>\n",
       "      <td>NaN</td>\n",
       "      <td>1</td>\n",
       "      <td>0</td>\n",
       "      <td>0</td>\n",
       "    </tr>\n",
       "    <tr>\n",
       "      <th>2191</th>\n",
       "      <td>2192</td>\n",
       "      <td>622</td>\n",
       "      <td>2</td>\n",
       "      <td>2015-09-15</td>\n",
       "      <td>NaN</td>\n",
       "      <td>1</td>\n",
       "      <td>0</td>\n",
       "      <td>0</td>\n",
       "    </tr>\n",
       "    <tr>\n",
       "      <th>3047</th>\n",
       "      <td>3048</td>\n",
       "      <td>622</td>\n",
       "      <td>1</td>\n",
       "      <td>2015-09-14</td>\n",
       "      <td>NaN</td>\n",
       "      <td>1</td>\n",
       "      <td>0</td>\n",
       "      <td>0</td>\n",
       "    </tr>\n",
       "    <tr>\n",
       "      <th>4759</th>\n",
       "      <td>4760</td>\n",
       "      <td>622</td>\n",
       "      <td>6</td>\n",
       "      <td>2015-09-12</td>\n",
       "      <td>NaN</td>\n",
       "      <td>0</td>\n",
       "      <td>0</td>\n",
       "      <td>0</td>\n",
       "    </tr>\n",
       "    <tr>\n",
       "      <th>5615</th>\n",
       "      <td>5616</td>\n",
       "      <td>622</td>\n",
       "      <td>5</td>\n",
       "      <td>2015-09-11</td>\n",
       "      <td>NaN</td>\n",
       "      <td>0</td>\n",
       "      <td>0</td>\n",
       "      <td>0</td>\n",
       "    </tr>\n",
       "    <tr>\n",
       "      <th>6471</th>\n",
       "      <td>6472</td>\n",
       "      <td>622</td>\n",
       "      <td>4</td>\n",
       "      <td>2015-09-10</td>\n",
       "      <td>NaN</td>\n",
       "      <td>0</td>\n",
       "      <td>0</td>\n",
       "      <td>0</td>\n",
       "    </tr>\n",
       "    <tr>\n",
       "      <th>7327</th>\n",
       "      <td>7328</td>\n",
       "      <td>622</td>\n",
       "      <td>3</td>\n",
       "      <td>2015-09-09</td>\n",
       "      <td>NaN</td>\n",
       "      <td>0</td>\n",
       "      <td>0</td>\n",
       "      <td>0</td>\n",
       "    </tr>\n",
       "    <tr>\n",
       "      <th>8183</th>\n",
       "      <td>8184</td>\n",
       "      <td>622</td>\n",
       "      <td>2</td>\n",
       "      <td>2015-09-08</td>\n",
       "      <td>NaN</td>\n",
       "      <td>0</td>\n",
       "      <td>0</td>\n",
       "      <td>0</td>\n",
       "    </tr>\n",
       "    <tr>\n",
       "      <th>9039</th>\n",
       "      <td>9040</td>\n",
       "      <td>622</td>\n",
       "      <td>1</td>\n",
       "      <td>2015-09-07</td>\n",
       "      <td>NaN</td>\n",
       "      <td>0</td>\n",
       "      <td>0</td>\n",
       "      <td>0</td>\n",
       "    </tr>\n",
       "    <tr>\n",
       "      <th>10751</th>\n",
       "      <td>10752</td>\n",
       "      <td>622</td>\n",
       "      <td>6</td>\n",
       "      <td>2015-09-05</td>\n",
       "      <td>NaN</td>\n",
       "      <td>0</td>\n",
       "      <td>0</td>\n",
       "      <td>0</td>\n",
       "    </tr>\n",
       "  </tbody>\n",
       "</table>\n",
       "</div>"
      ],
      "text/plain": [
       "          Id  Store  DayOfWeek       Date  Open  Promo StateHoliday  \\\n",
       "479      480    622          4 2015-09-17   NaN      1            0   \n",
       "1335    1336    622          3 2015-09-16   NaN      1            0   \n",
       "2191    2192    622          2 2015-09-15   NaN      1            0   \n",
       "3047    3048    622          1 2015-09-14   NaN      1            0   \n",
       "4759    4760    622          6 2015-09-12   NaN      0            0   \n",
       "5615    5616    622          5 2015-09-11   NaN      0            0   \n",
       "6471    6472    622          4 2015-09-10   NaN      0            0   \n",
       "7327    7328    622          3 2015-09-09   NaN      0            0   \n",
       "8183    8184    622          2 2015-09-08   NaN      0            0   \n",
       "9039    9040    622          1 2015-09-07   NaN      0            0   \n",
       "10751  10752    622          6 2015-09-05   NaN      0            0   \n",
       "\n",
       "       SchoolHoliday  \n",
       "479                0  \n",
       "1335               0  \n",
       "2191               0  \n",
       "3047               0  \n",
       "4759               0  \n",
       "5615               0  \n",
       "6471               0  \n",
       "7327               0  \n",
       "8183               0  \n",
       "9039               0  \n",
       "10751              0  "
      ]
     },
     "execution_count": 10,
     "metadata": {},
     "output_type": "execute_result"
    }
   ],
   "source": [
    "test_df[pd.isnull(test_df.Open)]"
   ]
  },
  {
   "cell_type": "markdown",
   "metadata": {},
   "source": [
    "Видно, что все 11 пропущенных значений относятся к магазину 622. Предположим, что магазин был открыт ($Open$ == 1), т.к. если окажется, что магазин был закрыт, то мы предскажем $Sales$ = 0, и это никак не повлияет на ошибку в предсказании. В случае же, если магазин был на самом деле открыт, а мы предположили, что он закрыт и автоматически предсказали 0, мы получим ошибку."
   ]
  },
  {
   "cell_type": "code",
   "execution_count": 11,
   "metadata": {
    "collapsed": false
   },
   "outputs": [],
   "source": [
    "test_df.loc[pd.isnull(test_df.Open), 'Open'] = 1"
   ]
  },
  {
   "cell_type": "markdown",
   "metadata": {},
   "source": [
    "<h3>3) Обработка категориальных признаков в тренировочных и тестовых данных</h3>"
   ]
  },
  {
   "cell_type": "markdown",
   "metadata": {},
   "source": [
    "Объединим выборки в одну для анализа значений категориальных переменных. Заметим, что в тестовой выборке есть переменная $Id$, не принимающая NaN значений, а в тренировочной выборке данной переменной нет. Поэтому по значению Nan или non-NaN данной переменной будем различать тренировочную и тестовую выборки."
   ]
  },
  {
   "cell_type": "code",
   "execution_count": 12,
   "metadata": {
    "collapsed": false
   },
   "outputs": [
    {
     "data": {
      "text/html": [
       "<div>\n",
       "<table border=\"1\" class=\"dataframe\">\n",
       "  <thead>\n",
       "    <tr style=\"text-align: right;\">\n",
       "      <th></th>\n",
       "      <th>Customers</th>\n",
       "      <th>Date</th>\n",
       "      <th>DayOfWeek</th>\n",
       "      <th>Id</th>\n",
       "      <th>Open</th>\n",
       "      <th>Promo</th>\n",
       "      <th>Sales</th>\n",
       "      <th>SchoolHoliday</th>\n",
       "      <th>StateHoliday</th>\n",
       "      <th>Store</th>\n",
       "    </tr>\n",
       "  </thead>\n",
       "  <tbody>\n",
       "    <tr>\n",
       "      <th>0</th>\n",
       "      <td>555.0</td>\n",
       "      <td>2015-07-31</td>\n",
       "      <td>5</td>\n",
       "      <td>NaN</td>\n",
       "      <td>1.0</td>\n",
       "      <td>1</td>\n",
       "      <td>5263.0</td>\n",
       "      <td>1</td>\n",
       "      <td>0</td>\n",
       "      <td>1</td>\n",
       "    </tr>\n",
       "    <tr>\n",
       "      <th>1</th>\n",
       "      <td>625.0</td>\n",
       "      <td>2015-07-31</td>\n",
       "      <td>5</td>\n",
       "      <td>NaN</td>\n",
       "      <td>1.0</td>\n",
       "      <td>1</td>\n",
       "      <td>6064.0</td>\n",
       "      <td>1</td>\n",
       "      <td>0</td>\n",
       "      <td>2</td>\n",
       "    </tr>\n",
       "    <tr>\n",
       "      <th>2</th>\n",
       "      <td>821.0</td>\n",
       "      <td>2015-07-31</td>\n",
       "      <td>5</td>\n",
       "      <td>NaN</td>\n",
       "      <td>1.0</td>\n",
       "      <td>1</td>\n",
       "      <td>8314.0</td>\n",
       "      <td>1</td>\n",
       "      <td>0</td>\n",
       "      <td>3</td>\n",
       "    </tr>\n",
       "    <tr>\n",
       "      <th>3</th>\n",
       "      <td>1498.0</td>\n",
       "      <td>2015-07-31</td>\n",
       "      <td>5</td>\n",
       "      <td>NaN</td>\n",
       "      <td>1.0</td>\n",
       "      <td>1</td>\n",
       "      <td>13995.0</td>\n",
       "      <td>1</td>\n",
       "      <td>0</td>\n",
       "      <td>4</td>\n",
       "    </tr>\n",
       "    <tr>\n",
       "      <th>4</th>\n",
       "      <td>559.0</td>\n",
       "      <td>2015-07-31</td>\n",
       "      <td>5</td>\n",
       "      <td>NaN</td>\n",
       "      <td>1.0</td>\n",
       "      <td>1</td>\n",
       "      <td>4822.0</td>\n",
       "      <td>1</td>\n",
       "      <td>0</td>\n",
       "      <td>5</td>\n",
       "    </tr>\n",
       "  </tbody>\n",
       "</table>\n",
       "</div>"
      ],
      "text/plain": [
       "   Customers       Date  DayOfWeek  Id  Open  Promo    Sales  SchoolHoliday  \\\n",
       "0      555.0 2015-07-31          5 NaN   1.0      1   5263.0              1   \n",
       "1      625.0 2015-07-31          5 NaN   1.0      1   6064.0              1   \n",
       "2      821.0 2015-07-31          5 NaN   1.0      1   8314.0              1   \n",
       "3     1498.0 2015-07-31          5 NaN   1.0      1  13995.0              1   \n",
       "4      559.0 2015-07-31          5 NaN   1.0      1   4822.0              1   \n",
       "\n",
       "  StateHoliday  Store  \n",
       "0            0      1  \n",
       "1            0      2  \n",
       "2            0      3  \n",
       "3            0      4  \n",
       "4            0      5  "
      ]
     },
     "execution_count": 12,
     "metadata": {},
     "output_type": "execute_result"
    }
   ],
   "source": [
    "all_df = pd.concat([train_df, test_df], axis=0)\n",
    "all_df.head()"
   ]
  },
  {
   "cell_type": "code",
   "execution_count": 13,
   "metadata": {
    "collapsed": false
   },
   "outputs": [
    {
     "name": "stdout",
     "output_type": "stream",
     "text": [
      "<class 'pandas.core.frame.DataFrame'>\n",
      "Int64Index: 1058297 entries, 0 to 41087\n",
      "Data columns (total 10 columns):\n",
      "Customers        1017209 non-null float64\n",
      "Date             1058297 non-null datetime64[ns]\n",
      "DayOfWeek        1058297 non-null int64\n",
      "Id               41088 non-null float64\n",
      "Open             1058297 non-null float64\n",
      "Promo            1058297 non-null int64\n",
      "Sales            1017209 non-null float64\n",
      "SchoolHoliday    1058297 non-null int64\n",
      "StateHoliday     1058297 non-null object\n",
      "Store            1058297 non-null int64\n",
      "dtypes: datetime64[ns](1), float64(4), int64(4), object(1)\n",
      "memory usage: 88.8+ MB\n"
     ]
    }
   ],
   "source": [
    "all_df.info()"
   ]
  },
  {
   "cell_type": "code",
   "execution_count": 14,
   "metadata": {
    "collapsed": false
   },
   "outputs": [
    {
     "name": "stdout",
     "output_type": "stream",
     "text": [
      "Train data StateHoliday unique values: ['0' 'a' 'b' 'c']\n",
      "Test data StateHoliday unique values:  ['0' 'a']\n",
      "All data StateHoliday unique values:   ['0' 'a' 'b' 'c']\n"
     ]
    }
   ],
   "source": [
    "unique_StateHoliday_values = np.sort(all_df.StateHoliday.unique())\n",
    "print \"Train data StateHoliday unique values:\", np.sort(train_df.StateHoliday.unique())\n",
    "print \"Test data StateHoliday unique values: \", np.sort(test_df.StateHoliday.unique())\n",
    "print \"All data StateHoliday unique values:  \", unique_StateHoliday_values"
   ]
  },
  {
   "cell_type": "markdown",
   "metadata": {},
   "source": [
    "Как видно, в тестовых данных отсутствуют категории 'b' и 'c'."
   ]
  },
  {
   "cell_type": "markdown",
   "metadata": {},
   "source": [
    "Пронумеруем все уникальные значения переменной $StateHoliday$: "
   ]
  },
  {
   "cell_type": "code",
   "execution_count": 15,
   "metadata": {
    "collapsed": false
   },
   "outputs": [],
   "source": [
    "all_df['StateHoliday'] = all_df['StateHoliday'].astype('category').cat.codes"
   ]
  },
  {
   "cell_type": "code",
   "execution_count": 16,
   "metadata": {
    "collapsed": false
   },
   "outputs": [
    {
     "name": "stdout",
     "output_type": "stream",
     "text": [
      "<class 'pandas.core.frame.DataFrame'>\n",
      "Int64Index: 1058297 entries, 0 to 41087\n",
      "Data columns (total 10 columns):\n",
      "Customers        1017209 non-null float64\n",
      "Date             1058297 non-null datetime64[ns]\n",
      "DayOfWeek        1058297 non-null int64\n",
      "Id               41088 non-null float64\n",
      "Open             1058297 non-null float64\n",
      "Promo            1058297 non-null int64\n",
      "Sales            1017209 non-null float64\n",
      "SchoolHoliday    1058297 non-null int64\n",
      "StateHoliday     1058297 non-null int8\n",
      "Store            1058297 non-null int64\n",
      "dtypes: datetime64[ns](1), float64(4), int64(4), int8(1)\n",
      "memory usage: 81.8 MB\n"
     ]
    }
   ],
   "source": [
    "all_df.info()"
   ]
  },
  {
   "cell_type": "markdown",
   "metadata": {},
   "source": [
    "Преобразуем переменную $Date$."
   ]
  },
  {
   "cell_type": "code",
   "execution_count": 17,
   "metadata": {
    "collapsed": false
   },
   "outputs": [
    {
     "data": {
      "text/html": [
       "<div>\n",
       "<table border=\"1\" class=\"dataframe\">\n",
       "  <thead>\n",
       "    <tr style=\"text-align: right;\">\n",
       "      <th></th>\n",
       "      <th>Customers</th>\n",
       "      <th>Date</th>\n",
       "      <th>DayOfWeek</th>\n",
       "      <th>Id</th>\n",
       "      <th>Open</th>\n",
       "      <th>Promo</th>\n",
       "      <th>Sales</th>\n",
       "      <th>SchoolHoliday</th>\n",
       "      <th>StateHoliday</th>\n",
       "      <th>Store</th>\n",
       "      <th>DateDayOfYear</th>\n",
       "      <th>DateYear</th>\n",
       "      <th>DateMonthOfYear</th>\n",
       "      <th>DateWeekOfYear</th>\n",
       "      <th>DateDayOfMonth</th>\n",
       "    </tr>\n",
       "  </thead>\n",
       "  <tbody>\n",
       "    <tr>\n",
       "      <th>0</th>\n",
       "      <td>555.0</td>\n",
       "      <td>735810</td>\n",
       "      <td>5</td>\n",
       "      <td>NaN</td>\n",
       "      <td>1.0</td>\n",
       "      <td>1</td>\n",
       "      <td>5263.0</td>\n",
       "      <td>1</td>\n",
       "      <td>0</td>\n",
       "      <td>1</td>\n",
       "      <td>212</td>\n",
       "      <td>2015</td>\n",
       "      <td>7</td>\n",
       "      <td>31</td>\n",
       "      <td>31</td>\n",
       "    </tr>\n",
       "    <tr>\n",
       "      <th>1</th>\n",
       "      <td>625.0</td>\n",
       "      <td>735810</td>\n",
       "      <td>5</td>\n",
       "      <td>NaN</td>\n",
       "      <td>1.0</td>\n",
       "      <td>1</td>\n",
       "      <td>6064.0</td>\n",
       "      <td>1</td>\n",
       "      <td>0</td>\n",
       "      <td>2</td>\n",
       "      <td>212</td>\n",
       "      <td>2015</td>\n",
       "      <td>7</td>\n",
       "      <td>31</td>\n",
       "      <td>31</td>\n",
       "    </tr>\n",
       "    <tr>\n",
       "      <th>2</th>\n",
       "      <td>821.0</td>\n",
       "      <td>735810</td>\n",
       "      <td>5</td>\n",
       "      <td>NaN</td>\n",
       "      <td>1.0</td>\n",
       "      <td>1</td>\n",
       "      <td>8314.0</td>\n",
       "      <td>1</td>\n",
       "      <td>0</td>\n",
       "      <td>3</td>\n",
       "      <td>212</td>\n",
       "      <td>2015</td>\n",
       "      <td>7</td>\n",
       "      <td>31</td>\n",
       "      <td>31</td>\n",
       "    </tr>\n",
       "    <tr>\n",
       "      <th>3</th>\n",
       "      <td>1498.0</td>\n",
       "      <td>735810</td>\n",
       "      <td>5</td>\n",
       "      <td>NaN</td>\n",
       "      <td>1.0</td>\n",
       "      <td>1</td>\n",
       "      <td>13995.0</td>\n",
       "      <td>1</td>\n",
       "      <td>0</td>\n",
       "      <td>4</td>\n",
       "      <td>212</td>\n",
       "      <td>2015</td>\n",
       "      <td>7</td>\n",
       "      <td>31</td>\n",
       "      <td>31</td>\n",
       "    </tr>\n",
       "    <tr>\n",
       "      <th>4</th>\n",
       "      <td>559.0</td>\n",
       "      <td>735810</td>\n",
       "      <td>5</td>\n",
       "      <td>NaN</td>\n",
       "      <td>1.0</td>\n",
       "      <td>1</td>\n",
       "      <td>4822.0</td>\n",
       "      <td>1</td>\n",
       "      <td>0</td>\n",
       "      <td>5</td>\n",
       "      <td>212</td>\n",
       "      <td>2015</td>\n",
       "      <td>7</td>\n",
       "      <td>31</td>\n",
       "      <td>31</td>\n",
       "    </tr>\n",
       "  </tbody>\n",
       "</table>\n",
       "</div>"
      ],
      "text/plain": [
       "   Customers    Date  DayOfWeek  Id  Open  Promo    Sales  SchoolHoliday  \\\n",
       "0      555.0  735810          5 NaN   1.0      1   5263.0              1   \n",
       "1      625.0  735810          5 NaN   1.0      1   6064.0              1   \n",
       "2      821.0  735810          5 NaN   1.0      1   8314.0              1   \n",
       "3     1498.0  735810          5 NaN   1.0      1  13995.0              1   \n",
       "4      559.0  735810          5 NaN   1.0      1   4822.0              1   \n",
       "\n",
       "   StateHoliday  Store  DateDayOfYear  DateYear  DateMonthOfYear  \\\n",
       "0             0      1            212      2015                7   \n",
       "1             0      2            212      2015                7   \n",
       "2             0      3            212      2015                7   \n",
       "3             0      4            212      2015                7   \n",
       "4             0      5            212      2015                7   \n",
       "\n",
       "   DateWeekOfYear  DateDayOfMonth  \n",
       "0              31              31  \n",
       "1              31              31  \n",
       "2              31              31  \n",
       "3              31              31  \n",
       "4              31              31  "
      ]
     },
     "execution_count": 17,
     "metadata": {},
     "output_type": "execute_result"
    }
   ],
   "source": [
    "feature_name = 'Date'\n",
    "dispatcher = {'DayOfMonth': pd.Index(all_df[feature_name]).day, \n",
    "              'WeekOfYear': pd.Index(all_df[feature_name]).week,\n",
    "              'MonthOfYear': pd.Index(all_df[feature_name]).month,\n",
    "              'Year': pd.Index(all_df[feature_name]).year,\n",
    "              'DayOfYear': pd.Index(all_df[feature_name]).dayofyear\n",
    "             }\n",
    "\n",
    "for new_feat_suffx, mapping in dispatcher.iteritems():\n",
    "    all_df[feature_name + new_feat_suffx] = mapping\n",
    "\n",
    "all_df[feature_name] = all_df[feature_name].apply(date_to_ordinal)\n",
    "\n",
    "all_df.head()"
   ]
  },
  {
   "cell_type": "code",
   "execution_count": 18,
   "metadata": {
    "collapsed": false
   },
   "outputs": [
    {
     "data": {
      "text/plain": [
       "Index([u'Customers', u'Date', u'DayOfWeek', u'Id', u'Open', u'Promo', u'Sales',\n",
       "       u'SchoolHoliday', u'StateHoliday', u'Store', u'DateDayOfYear',\n",
       "       u'DateYear', u'DateMonthOfYear', u'DateWeekOfYear', u'DateDayOfMonth'],\n",
       "      dtype='object')"
      ]
     },
     "execution_count": 18,
     "metadata": {},
     "output_type": "execute_result"
    }
   ],
   "source": [
    "all_df.columns"
   ]
  },
  {
   "cell_type": "markdown",
   "metadata": {},
   "source": [
    "<h3>4) Удаление ненужных признаков из тренировочных и тестовых данных</h3>"
   ]
  },
  {
   "cell_type": "markdown",
   "metadata": {},
   "source": [
    "Выберем для удаления признаки, которые больше не нужны в выборках:"
   ]
  },
  {
   "cell_type": "code",
   "execution_count": 19,
   "metadata": {
    "collapsed": true
   },
   "outputs": [],
   "source": [
    "# if we vectorized StateHoliday feature\n",
    "#columns_to_drop = ['StateHoliday']\n",
    "columns_to_drop = []"
   ]
  },
  {
   "cell_type": "markdown",
   "metadata": {},
   "source": [
    "Добавим линейно зависимые признаки в список признаков для удаления:"
   ]
  },
  {
   "cell_type": "code",
   "execution_count": 20,
   "metadata": {
    "collapsed": true
   },
   "outputs": [],
   "source": [
    "# if we vectorized StateHoliday feature\n",
    "#columns_to_drop.append('StateHoliday_0')"
   ]
  },
  {
   "cell_type": "markdown",
   "metadata": {},
   "source": [
    "Удалим выбранные признаки:"
   ]
  },
  {
   "cell_type": "code",
   "execution_count": 21,
   "metadata": {
    "collapsed": false
   },
   "outputs": [
    {
     "data": {
      "text/html": [
       "<div>\n",
       "<table border=\"1\" class=\"dataframe\">\n",
       "  <thead>\n",
       "    <tr style=\"text-align: right;\">\n",
       "      <th></th>\n",
       "      <th>Customers</th>\n",
       "      <th>Date</th>\n",
       "      <th>DayOfWeek</th>\n",
       "      <th>Id</th>\n",
       "      <th>Open</th>\n",
       "      <th>Promo</th>\n",
       "      <th>Sales</th>\n",
       "      <th>SchoolHoliday</th>\n",
       "      <th>StateHoliday</th>\n",
       "      <th>Store</th>\n",
       "      <th>DateDayOfYear</th>\n",
       "      <th>DateYear</th>\n",
       "      <th>DateMonthOfYear</th>\n",
       "      <th>DateWeekOfYear</th>\n",
       "      <th>DateDayOfMonth</th>\n",
       "    </tr>\n",
       "  </thead>\n",
       "  <tbody>\n",
       "    <tr>\n",
       "      <th>0</th>\n",
       "      <td>555.0</td>\n",
       "      <td>735810</td>\n",
       "      <td>5</td>\n",
       "      <td>NaN</td>\n",
       "      <td>1.0</td>\n",
       "      <td>1</td>\n",
       "      <td>5263.0</td>\n",
       "      <td>1</td>\n",
       "      <td>0</td>\n",
       "      <td>1</td>\n",
       "      <td>212</td>\n",
       "      <td>2015</td>\n",
       "      <td>7</td>\n",
       "      <td>31</td>\n",
       "      <td>31</td>\n",
       "    </tr>\n",
       "    <tr>\n",
       "      <th>1</th>\n",
       "      <td>625.0</td>\n",
       "      <td>735810</td>\n",
       "      <td>5</td>\n",
       "      <td>NaN</td>\n",
       "      <td>1.0</td>\n",
       "      <td>1</td>\n",
       "      <td>6064.0</td>\n",
       "      <td>1</td>\n",
       "      <td>0</td>\n",
       "      <td>2</td>\n",
       "      <td>212</td>\n",
       "      <td>2015</td>\n",
       "      <td>7</td>\n",
       "      <td>31</td>\n",
       "      <td>31</td>\n",
       "    </tr>\n",
       "    <tr>\n",
       "      <th>2</th>\n",
       "      <td>821.0</td>\n",
       "      <td>735810</td>\n",
       "      <td>5</td>\n",
       "      <td>NaN</td>\n",
       "      <td>1.0</td>\n",
       "      <td>1</td>\n",
       "      <td>8314.0</td>\n",
       "      <td>1</td>\n",
       "      <td>0</td>\n",
       "      <td>3</td>\n",
       "      <td>212</td>\n",
       "      <td>2015</td>\n",
       "      <td>7</td>\n",
       "      <td>31</td>\n",
       "      <td>31</td>\n",
       "    </tr>\n",
       "    <tr>\n",
       "      <th>3</th>\n",
       "      <td>1498.0</td>\n",
       "      <td>735810</td>\n",
       "      <td>5</td>\n",
       "      <td>NaN</td>\n",
       "      <td>1.0</td>\n",
       "      <td>1</td>\n",
       "      <td>13995.0</td>\n",
       "      <td>1</td>\n",
       "      <td>0</td>\n",
       "      <td>4</td>\n",
       "      <td>212</td>\n",
       "      <td>2015</td>\n",
       "      <td>7</td>\n",
       "      <td>31</td>\n",
       "      <td>31</td>\n",
       "    </tr>\n",
       "    <tr>\n",
       "      <th>4</th>\n",
       "      <td>559.0</td>\n",
       "      <td>735810</td>\n",
       "      <td>5</td>\n",
       "      <td>NaN</td>\n",
       "      <td>1.0</td>\n",
       "      <td>1</td>\n",
       "      <td>4822.0</td>\n",
       "      <td>1</td>\n",
       "      <td>0</td>\n",
       "      <td>5</td>\n",
       "      <td>212</td>\n",
       "      <td>2015</td>\n",
       "      <td>7</td>\n",
       "      <td>31</td>\n",
       "      <td>31</td>\n",
       "    </tr>\n",
       "  </tbody>\n",
       "</table>\n",
       "</div>"
      ],
      "text/plain": [
       "   Customers    Date  DayOfWeek  Id  Open  Promo    Sales  SchoolHoliday  \\\n",
       "0      555.0  735810          5 NaN   1.0      1   5263.0              1   \n",
       "1      625.0  735810          5 NaN   1.0      1   6064.0              1   \n",
       "2      821.0  735810          5 NaN   1.0      1   8314.0              1   \n",
       "3     1498.0  735810          5 NaN   1.0      1  13995.0              1   \n",
       "4      559.0  735810          5 NaN   1.0      1   4822.0              1   \n",
       "\n",
       "   StateHoliday  Store  DateDayOfYear  DateYear  DateMonthOfYear  \\\n",
       "0             0      1            212      2015                7   \n",
       "1             0      2            212      2015                7   \n",
       "2             0      3            212      2015                7   \n",
       "3             0      4            212      2015                7   \n",
       "4             0      5            212      2015                7   \n",
       "\n",
       "   DateWeekOfYear  DateDayOfMonth  \n",
       "0              31              31  \n",
       "1              31              31  \n",
       "2              31              31  \n",
       "3              31              31  \n",
       "4              31              31  "
      ]
     },
     "execution_count": 21,
     "metadata": {},
     "output_type": "execute_result"
    }
   ],
   "source": [
    "all_df.drop(columns_to_drop, axis=1, inplace=True)\n",
    "all_df.head()"
   ]
  },
  {
   "cell_type": "markdown",
   "metadata": {},
   "source": [
    "<h3>5) Загрузка данных о магазинах</h3>"
   ]
  },
  {
   "cell_type": "code",
   "execution_count": 22,
   "metadata": {
    "collapsed": false
   },
   "outputs": [
    {
     "data": {
      "text/html": [
       "<div>\n",
       "<table border=\"1\" class=\"dataframe\">\n",
       "  <thead>\n",
       "    <tr style=\"text-align: right;\">\n",
       "      <th></th>\n",
       "      <th>Store</th>\n",
       "      <th>StoreType</th>\n",
       "      <th>Assortment</th>\n",
       "      <th>CompetitionDistance</th>\n",
       "      <th>CompetitionOpenSinceMonth</th>\n",
       "      <th>CompetitionOpenSinceYear</th>\n",
       "      <th>Promo2</th>\n",
       "      <th>Promo2SinceWeek</th>\n",
       "      <th>Promo2SinceYear</th>\n",
       "      <th>PromoInterval</th>\n",
       "    </tr>\n",
       "  </thead>\n",
       "  <tbody>\n",
       "    <tr>\n",
       "      <th>0</th>\n",
       "      <td>1</td>\n",
       "      <td>c</td>\n",
       "      <td>a</td>\n",
       "      <td>1270.0</td>\n",
       "      <td>9.0</td>\n",
       "      <td>2008.0</td>\n",
       "      <td>0</td>\n",
       "      <td>NaN</td>\n",
       "      <td>NaN</td>\n",
       "      <td>NaN</td>\n",
       "    </tr>\n",
       "    <tr>\n",
       "      <th>1</th>\n",
       "      <td>2</td>\n",
       "      <td>a</td>\n",
       "      <td>a</td>\n",
       "      <td>570.0</td>\n",
       "      <td>11.0</td>\n",
       "      <td>2007.0</td>\n",
       "      <td>1</td>\n",
       "      <td>13.0</td>\n",
       "      <td>2010.0</td>\n",
       "      <td>Jan,Apr,Jul,Oct</td>\n",
       "    </tr>\n",
       "    <tr>\n",
       "      <th>2</th>\n",
       "      <td>3</td>\n",
       "      <td>a</td>\n",
       "      <td>a</td>\n",
       "      <td>14130.0</td>\n",
       "      <td>12.0</td>\n",
       "      <td>2006.0</td>\n",
       "      <td>1</td>\n",
       "      <td>14.0</td>\n",
       "      <td>2011.0</td>\n",
       "      <td>Jan,Apr,Jul,Oct</td>\n",
       "    </tr>\n",
       "    <tr>\n",
       "      <th>3</th>\n",
       "      <td>4</td>\n",
       "      <td>c</td>\n",
       "      <td>c</td>\n",
       "      <td>620.0</td>\n",
       "      <td>9.0</td>\n",
       "      <td>2009.0</td>\n",
       "      <td>0</td>\n",
       "      <td>NaN</td>\n",
       "      <td>NaN</td>\n",
       "      <td>NaN</td>\n",
       "    </tr>\n",
       "    <tr>\n",
       "      <th>4</th>\n",
       "      <td>5</td>\n",
       "      <td>a</td>\n",
       "      <td>a</td>\n",
       "      <td>29910.0</td>\n",
       "      <td>4.0</td>\n",
       "      <td>2015.0</td>\n",
       "      <td>0</td>\n",
       "      <td>NaN</td>\n",
       "      <td>NaN</td>\n",
       "      <td>NaN</td>\n",
       "    </tr>\n",
       "  </tbody>\n",
       "</table>\n",
       "</div>"
      ],
      "text/plain": [
       "   Store StoreType Assortment  CompetitionDistance  CompetitionOpenSinceMonth  \\\n",
       "0      1         c          a               1270.0                        9.0   \n",
       "1      2         a          a                570.0                       11.0   \n",
       "2      3         a          a              14130.0                       12.0   \n",
       "3      4         c          c                620.0                        9.0   \n",
       "4      5         a          a              29910.0                        4.0   \n",
       "\n",
       "   CompetitionOpenSinceYear  Promo2  Promo2SinceWeek  Promo2SinceYear  \\\n",
       "0                    2008.0       0              NaN              NaN   \n",
       "1                    2007.0       1             13.0           2010.0   \n",
       "2                    2006.0       1             14.0           2011.0   \n",
       "3                    2009.0       0              NaN              NaN   \n",
       "4                    2015.0       0              NaN              NaN   \n",
       "\n",
       "     PromoInterval  \n",
       "0              NaN  \n",
       "1  Jan,Apr,Jul,Oct  \n",
       "2  Jan,Apr,Jul,Oct  \n",
       "3              NaN  \n",
       "4              NaN  "
      ]
     },
     "execution_count": 22,
     "metadata": {},
     "output_type": "execute_result"
    }
   ],
   "source": [
    "store_df = pd.read_csv('./data/store.csv', sep=',')\n",
    "store_df.head()"
   ]
  },
  {
   "cell_type": "code",
   "execution_count": 23,
   "metadata": {
    "collapsed": false
   },
   "outputs": [
    {
     "name": "stdout",
     "output_type": "stream",
     "text": [
      "<class 'pandas.core.frame.DataFrame'>\n",
      "RangeIndex: 1115 entries, 0 to 1114\n",
      "Data columns (total 10 columns):\n",
      "Store                        1115 non-null int64\n",
      "StoreType                    1115 non-null object\n",
      "Assortment                   1115 non-null object\n",
      "CompetitionDistance          1112 non-null float64\n",
      "CompetitionOpenSinceMonth    761 non-null float64\n",
      "CompetitionOpenSinceYear     761 non-null float64\n",
      "Promo2                       1115 non-null int64\n",
      "Promo2SinceWeek              571 non-null float64\n",
      "Promo2SinceYear              571 non-null float64\n",
      "PromoInterval                571 non-null object\n",
      "dtypes: float64(5), int64(2), object(3)\n",
      "memory usage: 87.2+ KB\n"
     ]
    }
   ],
   "source": [
    "store_df.info()"
   ]
  },
  {
   "cell_type": "markdown",
   "metadata": {},
   "source": [
    "Видно, что дистанции до магазинов-конкурентов определены практически для всех магазинов, а это значит, что даты открытия конкурентов не могут иметь какие-либо краевые значения (т.к. конкуренты действительно у этих магазинов есть). Поэтому в будущем, при преобразовании данных признаков в дату, будем пропущенные значения заполнять средним значением."
   ]
  },
  {
   "cell_type": "markdown",
   "metadata": {},
   "source": [
    "<h3>6) Обработка категориальных признаков в данных о магазинах</h3>"
   ]
  },
  {
   "cell_type": "markdown",
   "metadata": {},
   "source": [
    "Категориальные признаки - $StoreType$ и $Assortment$. Также обработаем все временные признаки."
   ]
  },
  {
   "cell_type": "code",
   "execution_count": 24,
   "metadata": {
    "collapsed": false
   },
   "outputs": [
    {
     "name": "stdout",
     "output_type": "stream",
     "text": [
      "Unique values of StoreType:  ['a' 'b' 'c' 'd']\n",
      "Unique values of Assortment: ['a' 'b' 'c']\n"
     ]
    }
   ],
   "source": [
    "unique_StoreType_values =np.sort(store_df['StoreType'].unique())\n",
    "unique_Assortment_values = np.sort(store_df['Assortment'].unique())\n",
    "print \"Unique values of StoreType: \", unique_StoreType_values\n",
    "print \"Unique values of Assortment:\", unique_Assortment_values"
   ]
  },
  {
   "cell_type": "code",
   "execution_count": 25,
   "metadata": {
    "collapsed": false
   },
   "outputs": [
    {
     "name": "stdout",
     "output_type": "stream",
     "text": [
      "Unique values of StoreType:  [0 1 2 3]\n",
      "Unique values of Assortment: [0 1 2]\n"
     ]
    }
   ],
   "source": [
    "store_df['StoreType'] = store_df['StoreType'].astype('category').cat.codes\n",
    "store_df['Assortment'] = store_df['Assortment'].astype('category').cat.codes\n",
    "print \"Unique values of StoreType: \", np.sort(store_df['StoreType'].unique())\n",
    "print \"Unique values of Assortment:\", np.sort(store_df['Assortment'].unique())"
   ]
  },
  {
   "cell_type": "code",
   "execution_count": 26,
   "metadata": {
    "collapsed": false
   },
   "outputs": [],
   "source": [
    "#StoreType_columns_names = [\"StoreType_%c\" % c for c in unique_StoreType_values]\n",
    "#StoreType_columns = OneHotEncoder(sparse=False).fit_transform(store_df.StoreType.reshape(-1,1))\n",
    "#store_df = pd.concat([store_df, pd.DataFrame(StoreType_columns, columns=StoreType_columns_names, \n",
    "                                         #index=store_df.index)],\n",
    "                   #axis=1)\n",
    "\n",
    "#Assortment_columns_names = [\"Assortment_%c\" % c for c in unique_Assortment_values]\n",
    "#Assortment_columns = OneHotEncoder(sparse=False).fit_transform(store_df.Assortment.reshape(-1,1))\n",
    "#store_df = pd.concat([store_df, pd.DataFrame(Assortment_columns, columns=Assortment_columns_names, \n",
    "                                         #index=store_df.index)],\n",
    "                   #axis=1)\n",
    "\n",
    "#store_df.head()"
   ]
  },
  {
   "cell_type": "markdown",
   "metadata": {},
   "source": [
    "Далее необходимо преобразовать переменные $CompetitionOpenSinceYear$ и $CompetitionOpenSinceMonth$ к числовому представлению, чтобы можно было сравнивать для каждой из покупок, была ли она совершена в данный период, или нет. Пропуски заполним средними значениями."
   ]
  },
  {
   "cell_type": "code",
   "execution_count": 27,
   "metadata": {
    "collapsed": true
   },
   "outputs": [],
   "source": [
    "def CompetitionOpenSince_to_ordinal(row):\n",
    "    try:\n",
    "        date = '%d-%d' % (int(row['CompetitionOpenSinceYear']), int(row['CompetitionOpenSinceMonth']))\n",
    "        return datetime.strptime(date, '%Y-%m').date().toordinal()\n",
    "    except:\n",
    "        return np.nan"
   ]
  },
  {
   "cell_type": "code",
   "execution_count": 28,
   "metadata": {
    "collapsed": false
   },
   "outputs": [
    {
     "data": {
      "text/html": [
       "<div>\n",
       "<table border=\"1\" class=\"dataframe\">\n",
       "  <thead>\n",
       "    <tr style=\"text-align: right;\">\n",
       "      <th></th>\n",
       "      <th>Store</th>\n",
       "      <th>StoreType</th>\n",
       "      <th>Assortment</th>\n",
       "      <th>CompetitionDistance</th>\n",
       "      <th>CompetitionOpenSinceMonth</th>\n",
       "      <th>CompetitionOpenSinceYear</th>\n",
       "      <th>Promo2</th>\n",
       "      <th>Promo2SinceWeek</th>\n",
       "      <th>Promo2SinceYear</th>\n",
       "      <th>PromoInterval</th>\n",
       "      <th>CompetitionOpenSinceDate</th>\n",
       "    </tr>\n",
       "  </thead>\n",
       "  <tbody>\n",
       "    <tr>\n",
       "      <th>0</th>\n",
       "      <td>1</td>\n",
       "      <td>2</td>\n",
       "      <td>0</td>\n",
       "      <td>1270.0</td>\n",
       "      <td>9.0</td>\n",
       "      <td>2008.0</td>\n",
       "      <td>0</td>\n",
       "      <td>NaN</td>\n",
       "      <td>NaN</td>\n",
       "      <td>NaN</td>\n",
       "      <td>733286</td>\n",
       "    </tr>\n",
       "    <tr>\n",
       "      <th>1</th>\n",
       "      <td>2</td>\n",
       "      <td>0</td>\n",
       "      <td>0</td>\n",
       "      <td>570.0</td>\n",
       "      <td>11.0</td>\n",
       "      <td>2007.0</td>\n",
       "      <td>1</td>\n",
       "      <td>13.0</td>\n",
       "      <td>2010.0</td>\n",
       "      <td>Jan,Apr,Jul,Oct</td>\n",
       "      <td>732981</td>\n",
       "    </tr>\n",
       "    <tr>\n",
       "      <th>2</th>\n",
       "      <td>3</td>\n",
       "      <td>0</td>\n",
       "      <td>0</td>\n",
       "      <td>14130.0</td>\n",
       "      <td>12.0</td>\n",
       "      <td>2006.0</td>\n",
       "      <td>1</td>\n",
       "      <td>14.0</td>\n",
       "      <td>2011.0</td>\n",
       "      <td>Jan,Apr,Jul,Oct</td>\n",
       "      <td>732646</td>\n",
       "    </tr>\n",
       "    <tr>\n",
       "      <th>3</th>\n",
       "      <td>4</td>\n",
       "      <td>2</td>\n",
       "      <td>2</td>\n",
       "      <td>620.0</td>\n",
       "      <td>9.0</td>\n",
       "      <td>2009.0</td>\n",
       "      <td>0</td>\n",
       "      <td>NaN</td>\n",
       "      <td>NaN</td>\n",
       "      <td>NaN</td>\n",
       "      <td>733651</td>\n",
       "    </tr>\n",
       "    <tr>\n",
       "      <th>4</th>\n",
       "      <td>5</td>\n",
       "      <td>0</td>\n",
       "      <td>0</td>\n",
       "      <td>29910.0</td>\n",
       "      <td>4.0</td>\n",
       "      <td>2015.0</td>\n",
       "      <td>0</td>\n",
       "      <td>NaN</td>\n",
       "      <td>NaN</td>\n",
       "      <td>NaN</td>\n",
       "      <td>735689</td>\n",
       "    </tr>\n",
       "  </tbody>\n",
       "</table>\n",
       "</div>"
      ],
      "text/plain": [
       "   Store  StoreType  Assortment  CompetitionDistance  \\\n",
       "0      1          2           0               1270.0   \n",
       "1      2          0           0                570.0   \n",
       "2      3          0           0              14130.0   \n",
       "3      4          2           2                620.0   \n",
       "4      5          0           0              29910.0   \n",
       "\n",
       "   CompetitionOpenSinceMonth  CompetitionOpenSinceYear  Promo2  \\\n",
       "0                        9.0                    2008.0       0   \n",
       "1                       11.0                    2007.0       1   \n",
       "2                       12.0                    2006.0       1   \n",
       "3                        9.0                    2009.0       0   \n",
       "4                        4.0                    2015.0       0   \n",
       "\n",
       "   Promo2SinceWeek  Promo2SinceYear    PromoInterval  CompetitionOpenSinceDate  \n",
       "0              NaN              NaN              NaN                    733286  \n",
       "1             13.0           2010.0  Jan,Apr,Jul,Oct                    732981  \n",
       "2             14.0           2011.0  Jan,Apr,Jul,Oct                    732646  \n",
       "3              NaN              NaN              NaN                    733651  \n",
       "4              NaN              NaN              NaN                    735689  "
      ]
     },
     "execution_count": 28,
     "metadata": {},
     "output_type": "execute_result"
    }
   ],
   "source": [
    "store_df['CompetitionOpenSinceDate'] = store_df.apply(CompetitionOpenSince_to_ordinal, axis=1)\n",
    "mean_CompetitionOpenSince = store_df['CompetitionOpenSinceDate'].mean()\n",
    "store_df['CompetitionOpenSinceDate'] = store_df['CompetitionOpenSinceDate'].fillna(\n",
    "                                        mean_CompetitionOpenSince).astype(np.int64)\n",
    "store_df.head()"
   ]
  },
  {
   "cell_type": "markdown",
   "metadata": {},
   "source": [
    "Теперь необходимо преобразовать переменные $Promo2SinceYear$ и $Promo2SinceWeek$ числовому представлению, чтобы можно было сравнивать для каждой из покупок, была ли она совершена в данный период, или нет. Для этого введём переменную $Promo2SinceDate$. Если $Promo2SinceYear$ и $Promo2SinceWeek$ заданы для магазина, то $Promo2SinceDate$ = date($Promo2SinceYear$, $Promo2SinceWeek$).toordinal(), иначе  $Promo2SinceDate$ = 0 для магазинов с $Promo2$ == 0, $Promo2SinceDate$ = среднему для магазинов с $Promo2$ == 1."
   ]
  },
  {
   "cell_type": "code",
   "execution_count": 29,
   "metadata": {
    "collapsed": true
   },
   "outputs": [],
   "source": [
    "def Promo2Since_to_ordinal(row):\n",
    "    try:\n",
    "        date = '%d-W%d' % (int(row['Promo2SinceYear']), int(row['Promo2SinceWeek']))\n",
    "        return datetime.strptime(date + '-1', '%Y-W%W-%w').date().toordinal()\n",
    "    except:\n",
    "        return np.nan"
   ]
  },
  {
   "cell_type": "code",
   "execution_count": 30,
   "metadata": {
    "collapsed": false
   },
   "outputs": [
    {
     "data": {
      "text/html": [
       "<div>\n",
       "<table border=\"1\" class=\"dataframe\">\n",
       "  <thead>\n",
       "    <tr style=\"text-align: right;\">\n",
       "      <th></th>\n",
       "      <th>Store</th>\n",
       "      <th>StoreType</th>\n",
       "      <th>Assortment</th>\n",
       "      <th>CompetitionDistance</th>\n",
       "      <th>CompetitionOpenSinceMonth</th>\n",
       "      <th>CompetitionOpenSinceYear</th>\n",
       "      <th>Promo2</th>\n",
       "      <th>Promo2SinceWeek</th>\n",
       "      <th>Promo2SinceYear</th>\n",
       "      <th>PromoInterval</th>\n",
       "      <th>CompetitionOpenSinceDate</th>\n",
       "      <th>Promo2SinceDate</th>\n",
       "    </tr>\n",
       "  </thead>\n",
       "  <tbody>\n",
       "    <tr>\n",
       "      <th>0</th>\n",
       "      <td>1</td>\n",
       "      <td>2</td>\n",
       "      <td>0</td>\n",
       "      <td>1270.0</td>\n",
       "      <td>9.0</td>\n",
       "      <td>2008.0</td>\n",
       "      <td>0</td>\n",
       "      <td>NaN</td>\n",
       "      <td>NaN</td>\n",
       "      <td>NaN</td>\n",
       "      <td>733286</td>\n",
       "      <td>0</td>\n",
       "    </tr>\n",
       "    <tr>\n",
       "      <th>1</th>\n",
       "      <td>2</td>\n",
       "      <td>0</td>\n",
       "      <td>0</td>\n",
       "      <td>570.0</td>\n",
       "      <td>11.0</td>\n",
       "      <td>2007.0</td>\n",
       "      <td>1</td>\n",
       "      <td>13.0</td>\n",
       "      <td>2010.0</td>\n",
       "      <td>Jan,Apr,Jul,Oct</td>\n",
       "      <td>732981</td>\n",
       "      <td>733860</td>\n",
       "    </tr>\n",
       "    <tr>\n",
       "      <th>2</th>\n",
       "      <td>3</td>\n",
       "      <td>0</td>\n",
       "      <td>0</td>\n",
       "      <td>14130.0</td>\n",
       "      <td>12.0</td>\n",
       "      <td>2006.0</td>\n",
       "      <td>1</td>\n",
       "      <td>14.0</td>\n",
       "      <td>2011.0</td>\n",
       "      <td>Jan,Apr,Jul,Oct</td>\n",
       "      <td>732646</td>\n",
       "      <td>734231</td>\n",
       "    </tr>\n",
       "    <tr>\n",
       "      <th>3</th>\n",
       "      <td>4</td>\n",
       "      <td>2</td>\n",
       "      <td>2</td>\n",
       "      <td>620.0</td>\n",
       "      <td>9.0</td>\n",
       "      <td>2009.0</td>\n",
       "      <td>0</td>\n",
       "      <td>NaN</td>\n",
       "      <td>NaN</td>\n",
       "      <td>NaN</td>\n",
       "      <td>733651</td>\n",
       "      <td>0</td>\n",
       "    </tr>\n",
       "    <tr>\n",
       "      <th>4</th>\n",
       "      <td>5</td>\n",
       "      <td>0</td>\n",
       "      <td>0</td>\n",
       "      <td>29910.0</td>\n",
       "      <td>4.0</td>\n",
       "      <td>2015.0</td>\n",
       "      <td>0</td>\n",
       "      <td>NaN</td>\n",
       "      <td>NaN</td>\n",
       "      <td>NaN</td>\n",
       "      <td>735689</td>\n",
       "      <td>0</td>\n",
       "    </tr>\n",
       "  </tbody>\n",
       "</table>\n",
       "</div>"
      ],
      "text/plain": [
       "   Store  StoreType  Assortment  CompetitionDistance  \\\n",
       "0      1          2           0               1270.0   \n",
       "1      2          0           0                570.0   \n",
       "2      3          0           0              14130.0   \n",
       "3      4          2           2                620.0   \n",
       "4      5          0           0              29910.0   \n",
       "\n",
       "   CompetitionOpenSinceMonth  CompetitionOpenSinceYear  Promo2  \\\n",
       "0                        9.0                    2008.0       0   \n",
       "1                       11.0                    2007.0       1   \n",
       "2                       12.0                    2006.0       1   \n",
       "3                        9.0                    2009.0       0   \n",
       "4                        4.0                    2015.0       0   \n",
       "\n",
       "   Promo2SinceWeek  Promo2SinceYear    PromoInterval  \\\n",
       "0              NaN              NaN              NaN   \n",
       "1             13.0           2010.0  Jan,Apr,Jul,Oct   \n",
       "2             14.0           2011.0  Jan,Apr,Jul,Oct   \n",
       "3              NaN              NaN              NaN   \n",
       "4              NaN              NaN              NaN   \n",
       "\n",
       "   CompetitionOpenSinceDate  Promo2SinceDate  \n",
       "0                    733286                0  \n",
       "1                    732981           733860  \n",
       "2                    732646           734231  \n",
       "3                    733651                0  \n",
       "4                    735689                0  "
      ]
     },
     "execution_count": 30,
     "metadata": {},
     "output_type": "execute_result"
    }
   ],
   "source": [
    "store_df['Promo2SinceDate'] = store_df.apply(Promo2Since_to_ordinal, axis=1)\n",
    "mean_Promo2SinceDate = store_df['Promo2SinceDate'].mean()\n",
    "store_df['Promo2SinceDate'] = store_df['Promo2SinceDate'].fillna(mean_Promo2SinceDate).astype(np.int64)\n",
    "store_df.loc[store_df['Promo2'] == 0, 'Promo2SinceDate'] = 0\n",
    "store_df.head()"
   ]
  },
  {
   "cell_type": "markdown",
   "metadata": {},
   "source": [
    "И, наконец, необходимо преобразовать переменную $PromoInterval$: будем хранить кортеж номеров месяцев,  которые проходят сезонные распродажи, либо мода, если значение пропущенное."
   ]
  },
  {
   "cell_type": "code",
   "execution_count": 31,
   "metadata": {
    "collapsed": false
   },
   "outputs": [
    {
     "data": {
      "text/plain": [
       "array([nan, 'Jan,Apr,Jul,Oct', 'Feb,May,Aug,Nov', 'Mar,Jun,Sept,Dec'], dtype=object)"
      ]
     },
     "execution_count": 31,
     "metadata": {},
     "output_type": "execute_result"
    }
   ],
   "source": [
    "store_df['PromoInterval'].unique()"
   ]
  },
  {
   "cell_type": "code",
   "execution_count": 33,
   "metadata": {
    "collapsed": false
   },
   "outputs": [
    {
     "data": {
      "text/html": [
       "<div>\n",
       "<table border=\"1\" class=\"dataframe\">\n",
       "  <thead>\n",
       "    <tr style=\"text-align: right;\">\n",
       "      <th></th>\n",
       "      <th>Store</th>\n",
       "      <th>StoreType</th>\n",
       "      <th>Assortment</th>\n",
       "      <th>CompetitionDistance</th>\n",
       "      <th>CompetitionOpenSinceMonth</th>\n",
       "      <th>CompetitionOpenSinceYear</th>\n",
       "      <th>Promo2</th>\n",
       "      <th>Promo2SinceWeek</th>\n",
       "      <th>Promo2SinceYear</th>\n",
       "      <th>PromoInterval</th>\n",
       "      <th>CompetitionOpenSinceDate</th>\n",
       "      <th>Promo2SinceDate</th>\n",
       "    </tr>\n",
       "  </thead>\n",
       "  <tbody>\n",
       "    <tr>\n",
       "      <th>0</th>\n",
       "      <td>1</td>\n",
       "      <td>2</td>\n",
       "      <td>0</td>\n",
       "      <td>1270.0</td>\n",
       "      <td>9.0</td>\n",
       "      <td>2008.0</td>\n",
       "      <td>0</td>\n",
       "      <td>NaN</td>\n",
       "      <td>NaN</td>\n",
       "      <td>(1, 4, 7, 10)</td>\n",
       "      <td>733286</td>\n",
       "      <td>0</td>\n",
       "    </tr>\n",
       "    <tr>\n",
       "      <th>1</th>\n",
       "      <td>2</td>\n",
       "      <td>0</td>\n",
       "      <td>0</td>\n",
       "      <td>570.0</td>\n",
       "      <td>11.0</td>\n",
       "      <td>2007.0</td>\n",
       "      <td>1</td>\n",
       "      <td>13.0</td>\n",
       "      <td>2010.0</td>\n",
       "      <td>(1, 4, 7, 10)</td>\n",
       "      <td>732981</td>\n",
       "      <td>733860</td>\n",
       "    </tr>\n",
       "    <tr>\n",
       "      <th>2</th>\n",
       "      <td>3</td>\n",
       "      <td>0</td>\n",
       "      <td>0</td>\n",
       "      <td>14130.0</td>\n",
       "      <td>12.0</td>\n",
       "      <td>2006.0</td>\n",
       "      <td>1</td>\n",
       "      <td>14.0</td>\n",
       "      <td>2011.0</td>\n",
       "      <td>(1, 4, 7, 10)</td>\n",
       "      <td>732646</td>\n",
       "      <td>734231</td>\n",
       "    </tr>\n",
       "    <tr>\n",
       "      <th>3</th>\n",
       "      <td>4</td>\n",
       "      <td>2</td>\n",
       "      <td>2</td>\n",
       "      <td>620.0</td>\n",
       "      <td>9.0</td>\n",
       "      <td>2009.0</td>\n",
       "      <td>0</td>\n",
       "      <td>NaN</td>\n",
       "      <td>NaN</td>\n",
       "      <td>(1, 4, 7, 10)</td>\n",
       "      <td>733651</td>\n",
       "      <td>0</td>\n",
       "    </tr>\n",
       "    <tr>\n",
       "      <th>4</th>\n",
       "      <td>5</td>\n",
       "      <td>0</td>\n",
       "      <td>0</td>\n",
       "      <td>29910.0</td>\n",
       "      <td>4.0</td>\n",
       "      <td>2015.0</td>\n",
       "      <td>0</td>\n",
       "      <td>NaN</td>\n",
       "      <td>NaN</td>\n",
       "      <td>(1, 4, 7, 10)</td>\n",
       "      <td>735689</td>\n",
       "      <td>0</td>\n",
       "    </tr>\n",
       "  </tbody>\n",
       "</table>\n",
       "</div>"
      ],
      "text/plain": [
       "   Store  StoreType  Assortment  CompetitionDistance  \\\n",
       "0      1          2           0               1270.0   \n",
       "1      2          0           0                570.0   \n",
       "2      3          0           0              14130.0   \n",
       "3      4          2           2                620.0   \n",
       "4      5          0           0              29910.0   \n",
       "\n",
       "   CompetitionOpenSinceMonth  CompetitionOpenSinceYear  Promo2  \\\n",
       "0                        9.0                    2008.0       0   \n",
       "1                       11.0                    2007.0       1   \n",
       "2                       12.0                    2006.0       1   \n",
       "3                        9.0                    2009.0       0   \n",
       "4                        4.0                    2015.0       0   \n",
       "\n",
       "   Promo2SinceWeek  Promo2SinceYear  PromoInterval  CompetitionOpenSinceDate  \\\n",
       "0              NaN              NaN  (1, 4, 7, 10)                    733286   \n",
       "1             13.0           2010.0  (1, 4, 7, 10)                    732981   \n",
       "2             14.0           2011.0  (1, 4, 7, 10)                    732646   \n",
       "3              NaN              NaN  (1, 4, 7, 10)                    733651   \n",
       "4              NaN              NaN  (1, 4, 7, 10)                    735689   \n",
       "\n",
       "   Promo2SinceDate  \n",
       "0                0  \n",
       "1           733860  \n",
       "2           734231  \n",
       "3                0  \n",
       "4                0  "
      ]
     },
     "execution_count": 33,
     "metadata": {},
     "output_type": "execute_result"
    }
   ],
   "source": [
    "mode_PromoInterval = store_df[store_df['PromoInterval'].notnull()]['PromoInterval'].mode()[0]\n",
    "promo_intervals = {'Jan,Apr,Jul,Oct': (1,4,7,10), \n",
    "                   'Feb,May,Aug,Nov': (2,5,8,11), \n",
    "                   'Mar,Jun,Sept,Dec': (3,6,9,12)\n",
    "                  } # ()}\n",
    "promo_intervals[np.nan] = promo_intervals[mode_PromoInterval]\n",
    "store_df['PromoInterval'] = store_df['PromoInterval'].apply(lambda x: promo_intervals[x])\n",
    "store_df.head()"
   ]
  },
  {
   "cell_type": "markdown",
   "metadata": {},
   "source": [
    "<h3>7) Удаление ненужных признаков из данных о магазинах</h3>"
   ]
  },
  {
   "cell_type": "markdown",
   "metadata": {},
   "source": [
    "Выберем переменные, которые можно удалить из датасета с информацией о магазинах из-за ненадобности:"
   ]
  },
  {
   "cell_type": "code",
   "execution_count": 34,
   "metadata": {
    "collapsed": false
   },
   "outputs": [],
   "source": [
    "columns_to_drop = ['CompetitionOpenSinceMonth', 'CompetitionOpenSinceYear',\n",
    "                   'Promo2SinceWeek', 'Promo2SinceYear']"
   ]
  },
  {
   "cell_type": "markdown",
   "metadata": {},
   "source": [
    "Удалим все выбранные столбцы из датасета с информацией о магазинах:"
   ]
  },
  {
   "cell_type": "code",
   "execution_count": 35,
   "metadata": {
    "collapsed": false
   },
   "outputs": [
    {
     "data": {
      "text/html": [
       "<div>\n",
       "<table border=\"1\" class=\"dataframe\">\n",
       "  <thead>\n",
       "    <tr style=\"text-align: right;\">\n",
       "      <th></th>\n",
       "      <th>Store</th>\n",
       "      <th>StoreType</th>\n",
       "      <th>Assortment</th>\n",
       "      <th>CompetitionDistance</th>\n",
       "      <th>Promo2</th>\n",
       "      <th>PromoInterval</th>\n",
       "      <th>CompetitionOpenSinceDate</th>\n",
       "      <th>Promo2SinceDate</th>\n",
       "    </tr>\n",
       "  </thead>\n",
       "  <tbody>\n",
       "    <tr>\n",
       "      <th>0</th>\n",
       "      <td>1</td>\n",
       "      <td>2</td>\n",
       "      <td>0</td>\n",
       "      <td>1270.0</td>\n",
       "      <td>0</td>\n",
       "      <td>(1, 4, 7, 10)</td>\n",
       "      <td>733286</td>\n",
       "      <td>0</td>\n",
       "    </tr>\n",
       "    <tr>\n",
       "      <th>1</th>\n",
       "      <td>2</td>\n",
       "      <td>0</td>\n",
       "      <td>0</td>\n",
       "      <td>570.0</td>\n",
       "      <td>1</td>\n",
       "      <td>(1, 4, 7, 10)</td>\n",
       "      <td>732981</td>\n",
       "      <td>733860</td>\n",
       "    </tr>\n",
       "    <tr>\n",
       "      <th>2</th>\n",
       "      <td>3</td>\n",
       "      <td>0</td>\n",
       "      <td>0</td>\n",
       "      <td>14130.0</td>\n",
       "      <td>1</td>\n",
       "      <td>(1, 4, 7, 10)</td>\n",
       "      <td>732646</td>\n",
       "      <td>734231</td>\n",
       "    </tr>\n",
       "    <tr>\n",
       "      <th>3</th>\n",
       "      <td>4</td>\n",
       "      <td>2</td>\n",
       "      <td>2</td>\n",
       "      <td>620.0</td>\n",
       "      <td>0</td>\n",
       "      <td>(1, 4, 7, 10)</td>\n",
       "      <td>733651</td>\n",
       "      <td>0</td>\n",
       "    </tr>\n",
       "    <tr>\n",
       "      <th>4</th>\n",
       "      <td>5</td>\n",
       "      <td>0</td>\n",
       "      <td>0</td>\n",
       "      <td>29910.0</td>\n",
       "      <td>0</td>\n",
       "      <td>(1, 4, 7, 10)</td>\n",
       "      <td>735689</td>\n",
       "      <td>0</td>\n",
       "    </tr>\n",
       "  </tbody>\n",
       "</table>\n",
       "</div>"
      ],
      "text/plain": [
       "   Store  StoreType  Assortment  CompetitionDistance  Promo2  PromoInterval  \\\n",
       "0      1          2           0               1270.0       0  (1, 4, 7, 10)   \n",
       "1      2          0           0                570.0       1  (1, 4, 7, 10)   \n",
       "2      3          0           0              14130.0       1  (1, 4, 7, 10)   \n",
       "3      4          2           2                620.0       0  (1, 4, 7, 10)   \n",
       "4      5          0           0              29910.0       0  (1, 4, 7, 10)   \n",
       "\n",
       "   CompetitionOpenSinceDate  Promo2SinceDate  \n",
       "0                    733286                0  \n",
       "1                    732981           733860  \n",
       "2                    732646           734231  \n",
       "3                    733651                0  \n",
       "4                    735689                0  "
      ]
     },
     "execution_count": 35,
     "metadata": {},
     "output_type": "execute_result"
    }
   ],
   "source": [
    "store_df.drop(columns_to_drop, axis=1, inplace=True)\n",
    "store_df.head()"
   ]
  },
  {
   "cell_type": "markdown",
   "metadata": {},
   "source": [
    "<h3>8) Обработка пропущенных значений в данных о магазинах</h3>"
   ]
  },
  {
   "cell_type": "markdown",
   "metadata": {},
   "source": [
    "Во время обработки категориальных и временных признаков мы обработали часть пропущенных значений. Обработаем оставшиеся пропущенные значения в получившейся выборке."
   ]
  },
  {
   "cell_type": "code",
   "execution_count": 36,
   "metadata": {
    "collapsed": false
   },
   "outputs": [
    {
     "name": "stdout",
     "output_type": "stream",
     "text": [
      "<class 'pandas.core.frame.DataFrame'>\n",
      "RangeIndex: 1115 entries, 0 to 1114\n",
      "Data columns (total 8 columns):\n",
      "Store                       1115 non-null int64\n",
      "StoreType                   1115 non-null int8\n",
      "Assortment                  1115 non-null int8\n",
      "CompetitionDistance         1112 non-null float64\n",
      "Promo2                      1115 non-null int64\n",
      "PromoInterval               1115 non-null object\n",
      "CompetitionOpenSinceDate    1115 non-null int64\n",
      "Promo2SinceDate             1115 non-null int64\n",
      "dtypes: float64(1), int64(4), int8(2), object(1)\n",
      "memory usage: 54.5+ KB\n"
     ]
    }
   ],
   "source": [
    "store_df.info()"
   ]
  },
  {
   "cell_type": "markdown",
   "metadata": {
    "collapsed": false
   },
   "source": [
    "Пропущенные значения для признака $CompetitionDistance$ заполним средним значением:"
   ]
  },
  {
   "cell_type": "code",
   "execution_count": 37,
   "metadata": {
    "collapsed": true
   },
   "outputs": [],
   "source": [
    "mean_CompetitionDistance = store_df.CompetitionDistance.mean()\n",
    "store_df['CompetitionDistance'] = store_df['CompetitionDistance'].fillna(mean_CompetitionDistance)"
   ]
  },
  {
   "cell_type": "code",
   "execution_count": 38,
   "metadata": {
    "collapsed": false
   },
   "outputs": [
    {
     "name": "stdout",
     "output_type": "stream",
     "text": [
      "<class 'pandas.core.frame.DataFrame'>\n",
      "RangeIndex: 1115 entries, 0 to 1114\n",
      "Data columns (total 8 columns):\n",
      "Store                       1115 non-null int64\n",
      "StoreType                   1115 non-null int8\n",
      "Assortment                  1115 non-null int8\n",
      "CompetitionDistance         1115 non-null float64\n",
      "Promo2                      1115 non-null int64\n",
      "PromoInterval               1115 non-null object\n",
      "CompetitionOpenSinceDate    1115 non-null int64\n",
      "Promo2SinceDate             1115 non-null int64\n",
      "dtypes: float64(1), int64(4), int8(2), object(1)\n",
      "memory usage: 54.5+ KB\n"
     ]
    }
   ],
   "source": [
    "store_df.info()"
   ]
  },
  {
   "cell_type": "markdown",
   "metadata": {},
   "source": [
    "<h3>9) Слияние данных о продажах и о магазинах</h3>"
   ]
  },
  {
   "cell_type": "code",
   "execution_count": 39,
   "metadata": {
    "collapsed": false
   },
   "outputs": [
    {
     "data": {
      "text/html": [
       "<div>\n",
       "<table border=\"1\" class=\"dataframe\">\n",
       "  <thead>\n",
       "    <tr style=\"text-align: right;\">\n",
       "      <th></th>\n",
       "      <th>0</th>\n",
       "      <th>1</th>\n",
       "      <th>2</th>\n",
       "      <th>3</th>\n",
       "      <th>4</th>\n",
       "    </tr>\n",
       "  </thead>\n",
       "  <tbody>\n",
       "    <tr>\n",
       "      <th>Customers</th>\n",
       "      <td>555</td>\n",
       "      <td>625</td>\n",
       "      <td>821</td>\n",
       "      <td>1498</td>\n",
       "      <td>559</td>\n",
       "    </tr>\n",
       "    <tr>\n",
       "      <th>Date</th>\n",
       "      <td>735810</td>\n",
       "      <td>735810</td>\n",
       "      <td>735810</td>\n",
       "      <td>735810</td>\n",
       "      <td>735810</td>\n",
       "    </tr>\n",
       "    <tr>\n",
       "      <th>DayOfWeek</th>\n",
       "      <td>5</td>\n",
       "      <td>5</td>\n",
       "      <td>5</td>\n",
       "      <td>5</td>\n",
       "      <td>5</td>\n",
       "    </tr>\n",
       "    <tr>\n",
       "      <th>Id</th>\n",
       "      <td>NaN</td>\n",
       "      <td>NaN</td>\n",
       "      <td>NaN</td>\n",
       "      <td>NaN</td>\n",
       "      <td>NaN</td>\n",
       "    </tr>\n",
       "    <tr>\n",
       "      <th>Open</th>\n",
       "      <td>1</td>\n",
       "      <td>1</td>\n",
       "      <td>1</td>\n",
       "      <td>1</td>\n",
       "      <td>1</td>\n",
       "    </tr>\n",
       "    <tr>\n",
       "      <th>Promo</th>\n",
       "      <td>1</td>\n",
       "      <td>1</td>\n",
       "      <td>1</td>\n",
       "      <td>1</td>\n",
       "      <td>1</td>\n",
       "    </tr>\n",
       "    <tr>\n",
       "      <th>Sales</th>\n",
       "      <td>5263</td>\n",
       "      <td>6064</td>\n",
       "      <td>8314</td>\n",
       "      <td>13995</td>\n",
       "      <td>4822</td>\n",
       "    </tr>\n",
       "    <tr>\n",
       "      <th>SchoolHoliday</th>\n",
       "      <td>1</td>\n",
       "      <td>1</td>\n",
       "      <td>1</td>\n",
       "      <td>1</td>\n",
       "      <td>1</td>\n",
       "    </tr>\n",
       "    <tr>\n",
       "      <th>StateHoliday</th>\n",
       "      <td>0</td>\n",
       "      <td>0</td>\n",
       "      <td>0</td>\n",
       "      <td>0</td>\n",
       "      <td>0</td>\n",
       "    </tr>\n",
       "    <tr>\n",
       "      <th>Store</th>\n",
       "      <td>1</td>\n",
       "      <td>2</td>\n",
       "      <td>3</td>\n",
       "      <td>4</td>\n",
       "      <td>5</td>\n",
       "    </tr>\n",
       "    <tr>\n",
       "      <th>DateDayOfYear</th>\n",
       "      <td>212</td>\n",
       "      <td>212</td>\n",
       "      <td>212</td>\n",
       "      <td>212</td>\n",
       "      <td>212</td>\n",
       "    </tr>\n",
       "    <tr>\n",
       "      <th>DateYear</th>\n",
       "      <td>2015</td>\n",
       "      <td>2015</td>\n",
       "      <td>2015</td>\n",
       "      <td>2015</td>\n",
       "      <td>2015</td>\n",
       "    </tr>\n",
       "    <tr>\n",
       "      <th>DateMonthOfYear</th>\n",
       "      <td>7</td>\n",
       "      <td>7</td>\n",
       "      <td>7</td>\n",
       "      <td>7</td>\n",
       "      <td>7</td>\n",
       "    </tr>\n",
       "    <tr>\n",
       "      <th>DateWeekOfYear</th>\n",
       "      <td>31</td>\n",
       "      <td>31</td>\n",
       "      <td>31</td>\n",
       "      <td>31</td>\n",
       "      <td>31</td>\n",
       "    </tr>\n",
       "    <tr>\n",
       "      <th>DateDayOfMonth</th>\n",
       "      <td>31</td>\n",
       "      <td>31</td>\n",
       "      <td>31</td>\n",
       "      <td>31</td>\n",
       "      <td>31</td>\n",
       "    </tr>\n",
       "    <tr>\n",
       "      <th>StoreType</th>\n",
       "      <td>2</td>\n",
       "      <td>0</td>\n",
       "      <td>0</td>\n",
       "      <td>2</td>\n",
       "      <td>0</td>\n",
       "    </tr>\n",
       "    <tr>\n",
       "      <th>Assortment</th>\n",
       "      <td>0</td>\n",
       "      <td>0</td>\n",
       "      <td>0</td>\n",
       "      <td>2</td>\n",
       "      <td>0</td>\n",
       "    </tr>\n",
       "    <tr>\n",
       "      <th>CompetitionDistance</th>\n",
       "      <td>1270</td>\n",
       "      <td>570</td>\n",
       "      <td>14130</td>\n",
       "      <td>620</td>\n",
       "      <td>29910</td>\n",
       "    </tr>\n",
       "    <tr>\n",
       "      <th>Promo2</th>\n",
       "      <td>0</td>\n",
       "      <td>1</td>\n",
       "      <td>1</td>\n",
       "      <td>0</td>\n",
       "      <td>0</td>\n",
       "    </tr>\n",
       "    <tr>\n",
       "      <th>PromoInterval</th>\n",
       "      <td>(1, 4, 7, 10)</td>\n",
       "      <td>(1, 4, 7, 10)</td>\n",
       "      <td>(1, 4, 7, 10)</td>\n",
       "      <td>(1, 4, 7, 10)</td>\n",
       "      <td>(1, 4, 7, 10)</td>\n",
       "    </tr>\n",
       "    <tr>\n",
       "      <th>CompetitionOpenSinceDate</th>\n",
       "      <td>733286</td>\n",
       "      <td>732981</td>\n",
       "      <td>732646</td>\n",
       "      <td>733651</td>\n",
       "      <td>735689</td>\n",
       "    </tr>\n",
       "    <tr>\n",
       "      <th>Promo2SinceDate</th>\n",
       "      <td>0</td>\n",
       "      <td>733860</td>\n",
       "      <td>734231</td>\n",
       "      <td>0</td>\n",
       "      <td>0</td>\n",
       "    </tr>\n",
       "  </tbody>\n",
       "</table>\n",
       "</div>"
      ],
      "text/plain": [
       "                                      0              1              2  \\\n",
       "Customers                           555            625            821   \n",
       "Date                             735810         735810         735810   \n",
       "DayOfWeek                             5              5              5   \n",
       "Id                                  NaN            NaN            NaN   \n",
       "Open                                  1              1              1   \n",
       "Promo                                 1              1              1   \n",
       "Sales                              5263           6064           8314   \n",
       "SchoolHoliday                         1              1              1   \n",
       "StateHoliday                          0              0              0   \n",
       "Store                                 1              2              3   \n",
       "DateDayOfYear                       212            212            212   \n",
       "DateYear                           2015           2015           2015   \n",
       "DateMonthOfYear                       7              7              7   \n",
       "DateWeekOfYear                       31             31             31   \n",
       "DateDayOfMonth                       31             31             31   \n",
       "StoreType                             2              0              0   \n",
       "Assortment                            0              0              0   \n",
       "CompetitionDistance                1270            570          14130   \n",
       "Promo2                                0              1              1   \n",
       "PromoInterval             (1, 4, 7, 10)  (1, 4, 7, 10)  (1, 4, 7, 10)   \n",
       "CompetitionOpenSinceDate         733286         732981         732646   \n",
       "Promo2SinceDate                       0         733860         734231   \n",
       "\n",
       "                                      3              4  \n",
       "Customers                          1498            559  \n",
       "Date                             735810         735810  \n",
       "DayOfWeek                             5              5  \n",
       "Id                                  NaN            NaN  \n",
       "Open                                  1              1  \n",
       "Promo                                 1              1  \n",
       "Sales                             13995           4822  \n",
       "SchoolHoliday                         1              1  \n",
       "StateHoliday                          0              0  \n",
       "Store                                 4              5  \n",
       "DateDayOfYear                       212            212  \n",
       "DateYear                           2015           2015  \n",
       "DateMonthOfYear                       7              7  \n",
       "DateWeekOfYear                       31             31  \n",
       "DateDayOfMonth                       31             31  \n",
       "StoreType                             2              0  \n",
       "Assortment                            2              0  \n",
       "CompetitionDistance                 620          29910  \n",
       "Promo2                                0              0  \n",
       "PromoInterval             (1, 4, 7, 10)  (1, 4, 7, 10)  \n",
       "CompetitionOpenSinceDate         733651         735689  \n",
       "Promo2SinceDate                       0              0  "
      ]
     },
     "execution_count": 39,
     "metadata": {},
     "output_type": "execute_result"
    }
   ],
   "source": [
    "df = pd.merge(all_df, store_df, how='left', on=['Store'])\n",
    "df.head().T"
   ]
  },
  {
   "cell_type": "code",
   "execution_count": 40,
   "metadata": {
    "collapsed": false
   },
   "outputs": [
    {
     "name": "stdout",
     "output_type": "stream",
     "text": [
      "<class 'pandas.core.frame.DataFrame'>\n",
      "Int64Index: 1058297 entries, 0 to 1058296\n",
      "Data columns (total 22 columns):\n",
      "Customers                   1017209 non-null float64\n",
      "Date                        1058297 non-null int64\n",
      "DayOfWeek                   1058297 non-null int64\n",
      "Id                          41088 non-null float64\n",
      "Open                        1058297 non-null float64\n",
      "Promo                       1058297 non-null int64\n",
      "Sales                       1017209 non-null float64\n",
      "SchoolHoliday               1058297 non-null int64\n",
      "StateHoliday                1058297 non-null int8\n",
      "Store                       1058297 non-null int64\n",
      "DateDayOfYear               1058297 non-null int32\n",
      "DateYear                    1058297 non-null int32\n",
      "DateMonthOfYear             1058297 non-null int32\n",
      "DateWeekOfYear              1058297 non-null int32\n",
      "DateDayOfMonth              1058297 non-null int32\n",
      "StoreType                   1058297 non-null int8\n",
      "Assortment                  1058297 non-null int8\n",
      "CompetitionDistance         1058297 non-null float64\n",
      "Promo2                      1058297 non-null int64\n",
      "PromoInterval               1058297 non-null object\n",
      "CompetitionOpenSinceDate    1058297 non-null int64\n",
      "Promo2SinceDate             1058297 non-null int64\n",
      "dtypes: float64(5), int32(5), int64(8), int8(3), object(1)\n",
      "memory usage: 144.3+ MB\n"
     ]
    }
   ],
   "source": [
    "df.info()"
   ]
  },
  {
   "cell_type": "markdown",
   "metadata": {},
   "source": [
    "<h3>10) Введение новых признаков для учёта промоакций и конкурентов</h3>"
   ]
  },
  {
   "cell_type": "markdown",
   "metadata": {},
   "source": [
    "Введём 3 новых переменных:<br>\n",
    "1) $Promo2Today$ - есть ли сегодня сезонная распродажа в этом магазине<br>\n",
    "2) $CompetitionIsOpen$ - открыт ли сегодня какой-либо конкурент этого магазина<br>\n",
    "3) $AverageCheck$ - средний чек для этого магазина за всё время<br>"
   ]
  },
  {
   "cell_type": "code",
   "execution_count": 41,
   "metadata": {
    "collapsed": true
   },
   "outputs": [],
   "source": [
    "def is_promo2_today(row):\n",
    "    return int(row['Promo2'] == 1 and row['Promo2SinceDate'] <= row['Date'] \\\n",
    "           and row['DateMonthOfYear'] in row['PromoInterval'])\n",
    "\n",
    "def is_competition_open(row):\n",
    "    return int(row['CompetitionOpenSinceDate'] <= row['Date'])"
   ]
  },
  {
   "cell_type": "code",
   "execution_count": 42,
   "metadata": {
    "collapsed": false
   },
   "outputs": [
    {
     "data": {
      "text/html": [
       "<div>\n",
       "<table border=\"1\" class=\"dataframe\">\n",
       "  <thead>\n",
       "    <tr style=\"text-align: right;\">\n",
       "      <th></th>\n",
       "      <th>0</th>\n",
       "      <th>1</th>\n",
       "      <th>2</th>\n",
       "      <th>3</th>\n",
       "      <th>4</th>\n",
       "    </tr>\n",
       "  </thead>\n",
       "  <tbody>\n",
       "    <tr>\n",
       "      <th>Customers</th>\n",
       "      <td>555</td>\n",
       "      <td>625</td>\n",
       "      <td>821</td>\n",
       "      <td>1498</td>\n",
       "      <td>559</td>\n",
       "    </tr>\n",
       "    <tr>\n",
       "      <th>Date</th>\n",
       "      <td>735810</td>\n",
       "      <td>735810</td>\n",
       "      <td>735810</td>\n",
       "      <td>735810</td>\n",
       "      <td>735810</td>\n",
       "    </tr>\n",
       "    <tr>\n",
       "      <th>DayOfWeek</th>\n",
       "      <td>5</td>\n",
       "      <td>5</td>\n",
       "      <td>5</td>\n",
       "      <td>5</td>\n",
       "      <td>5</td>\n",
       "    </tr>\n",
       "    <tr>\n",
       "      <th>Id</th>\n",
       "      <td>NaN</td>\n",
       "      <td>NaN</td>\n",
       "      <td>NaN</td>\n",
       "      <td>NaN</td>\n",
       "      <td>NaN</td>\n",
       "    </tr>\n",
       "    <tr>\n",
       "      <th>Open</th>\n",
       "      <td>1</td>\n",
       "      <td>1</td>\n",
       "      <td>1</td>\n",
       "      <td>1</td>\n",
       "      <td>1</td>\n",
       "    </tr>\n",
       "    <tr>\n",
       "      <th>Promo</th>\n",
       "      <td>1</td>\n",
       "      <td>1</td>\n",
       "      <td>1</td>\n",
       "      <td>1</td>\n",
       "      <td>1</td>\n",
       "    </tr>\n",
       "    <tr>\n",
       "      <th>Sales</th>\n",
       "      <td>5263</td>\n",
       "      <td>6064</td>\n",
       "      <td>8314</td>\n",
       "      <td>13995</td>\n",
       "      <td>4822</td>\n",
       "    </tr>\n",
       "    <tr>\n",
       "      <th>SchoolHoliday</th>\n",
       "      <td>1</td>\n",
       "      <td>1</td>\n",
       "      <td>1</td>\n",
       "      <td>1</td>\n",
       "      <td>1</td>\n",
       "    </tr>\n",
       "    <tr>\n",
       "      <th>StateHoliday</th>\n",
       "      <td>0</td>\n",
       "      <td>0</td>\n",
       "      <td>0</td>\n",
       "      <td>0</td>\n",
       "      <td>0</td>\n",
       "    </tr>\n",
       "    <tr>\n",
       "      <th>Store</th>\n",
       "      <td>1</td>\n",
       "      <td>2</td>\n",
       "      <td>3</td>\n",
       "      <td>4</td>\n",
       "      <td>5</td>\n",
       "    </tr>\n",
       "    <tr>\n",
       "      <th>DateDayOfYear</th>\n",
       "      <td>212</td>\n",
       "      <td>212</td>\n",
       "      <td>212</td>\n",
       "      <td>212</td>\n",
       "      <td>212</td>\n",
       "    </tr>\n",
       "    <tr>\n",
       "      <th>DateYear</th>\n",
       "      <td>2015</td>\n",
       "      <td>2015</td>\n",
       "      <td>2015</td>\n",
       "      <td>2015</td>\n",
       "      <td>2015</td>\n",
       "    </tr>\n",
       "    <tr>\n",
       "      <th>DateMonthOfYear</th>\n",
       "      <td>7</td>\n",
       "      <td>7</td>\n",
       "      <td>7</td>\n",
       "      <td>7</td>\n",
       "      <td>7</td>\n",
       "    </tr>\n",
       "    <tr>\n",
       "      <th>DateWeekOfYear</th>\n",
       "      <td>31</td>\n",
       "      <td>31</td>\n",
       "      <td>31</td>\n",
       "      <td>31</td>\n",
       "      <td>31</td>\n",
       "    </tr>\n",
       "    <tr>\n",
       "      <th>DateDayOfMonth</th>\n",
       "      <td>31</td>\n",
       "      <td>31</td>\n",
       "      <td>31</td>\n",
       "      <td>31</td>\n",
       "      <td>31</td>\n",
       "    </tr>\n",
       "    <tr>\n",
       "      <th>StoreType</th>\n",
       "      <td>2</td>\n",
       "      <td>0</td>\n",
       "      <td>0</td>\n",
       "      <td>2</td>\n",
       "      <td>0</td>\n",
       "    </tr>\n",
       "    <tr>\n",
       "      <th>Assortment</th>\n",
       "      <td>0</td>\n",
       "      <td>0</td>\n",
       "      <td>0</td>\n",
       "      <td>2</td>\n",
       "      <td>0</td>\n",
       "    </tr>\n",
       "    <tr>\n",
       "      <th>CompetitionDistance</th>\n",
       "      <td>1270</td>\n",
       "      <td>570</td>\n",
       "      <td>14130</td>\n",
       "      <td>620</td>\n",
       "      <td>29910</td>\n",
       "    </tr>\n",
       "    <tr>\n",
       "      <th>Promo2</th>\n",
       "      <td>0</td>\n",
       "      <td>1</td>\n",
       "      <td>1</td>\n",
       "      <td>0</td>\n",
       "      <td>0</td>\n",
       "    </tr>\n",
       "    <tr>\n",
       "      <th>PromoInterval</th>\n",
       "      <td>(1, 4, 7, 10)</td>\n",
       "      <td>(1, 4, 7, 10)</td>\n",
       "      <td>(1, 4, 7, 10)</td>\n",
       "      <td>(1, 4, 7, 10)</td>\n",
       "      <td>(1, 4, 7, 10)</td>\n",
       "    </tr>\n",
       "    <tr>\n",
       "      <th>CompetitionOpenSinceDate</th>\n",
       "      <td>733286</td>\n",
       "      <td>732981</td>\n",
       "      <td>732646</td>\n",
       "      <td>733651</td>\n",
       "      <td>735689</td>\n",
       "    </tr>\n",
       "    <tr>\n",
       "      <th>Promo2SinceDate</th>\n",
       "      <td>0</td>\n",
       "      <td>733860</td>\n",
       "      <td>734231</td>\n",
       "      <td>0</td>\n",
       "      <td>0</td>\n",
       "    </tr>\n",
       "    <tr>\n",
       "      <th>Promo2Today</th>\n",
       "      <td>0</td>\n",
       "      <td>1</td>\n",
       "      <td>1</td>\n",
       "      <td>0</td>\n",
       "      <td>0</td>\n",
       "    </tr>\n",
       "    <tr>\n",
       "      <th>CompetitionIsOpen</th>\n",
       "      <td>1</td>\n",
       "      <td>1</td>\n",
       "      <td>1</td>\n",
       "      <td>1</td>\n",
       "      <td>1</td>\n",
       "    </tr>\n",
       "    <tr>\n",
       "      <th>AverageCheck</th>\n",
       "      <td>8.43737</td>\n",
       "      <td>8.48272</td>\n",
       "      <td>9.25581</td>\n",
       "      <td>7.29214</td>\n",
       "      <td>8.70263</td>\n",
       "    </tr>\n",
       "  </tbody>\n",
       "</table>\n",
       "</div>"
      ],
      "text/plain": [
       "                                      0              1              2  \\\n",
       "Customers                           555            625            821   \n",
       "Date                             735810         735810         735810   \n",
       "DayOfWeek                             5              5              5   \n",
       "Id                                  NaN            NaN            NaN   \n",
       "Open                                  1              1              1   \n",
       "Promo                                 1              1              1   \n",
       "Sales                              5263           6064           8314   \n",
       "SchoolHoliday                         1              1              1   \n",
       "StateHoliday                          0              0              0   \n",
       "Store                                 1              2              3   \n",
       "DateDayOfYear                       212            212            212   \n",
       "DateYear                           2015           2015           2015   \n",
       "DateMonthOfYear                       7              7              7   \n",
       "DateWeekOfYear                       31             31             31   \n",
       "DateDayOfMonth                       31             31             31   \n",
       "StoreType                             2              0              0   \n",
       "Assortment                            0              0              0   \n",
       "CompetitionDistance                1270            570          14130   \n",
       "Promo2                                0              1              1   \n",
       "PromoInterval             (1, 4, 7, 10)  (1, 4, 7, 10)  (1, 4, 7, 10)   \n",
       "CompetitionOpenSinceDate         733286         732981         732646   \n",
       "Promo2SinceDate                       0         733860         734231   \n",
       "Promo2Today                           0              1              1   \n",
       "CompetitionIsOpen                     1              1              1   \n",
       "AverageCheck                    8.43737        8.48272        9.25581   \n",
       "\n",
       "                                      3              4  \n",
       "Customers                          1498            559  \n",
       "Date                             735810         735810  \n",
       "DayOfWeek                             5              5  \n",
       "Id                                  NaN            NaN  \n",
       "Open                                  1              1  \n",
       "Promo                                 1              1  \n",
       "Sales                             13995           4822  \n",
       "SchoolHoliday                         1              1  \n",
       "StateHoliday                          0              0  \n",
       "Store                                 4              5  \n",
       "DateDayOfYear                       212            212  \n",
       "DateYear                           2015           2015  \n",
       "DateMonthOfYear                       7              7  \n",
       "DateWeekOfYear                       31             31  \n",
       "DateDayOfMonth                       31             31  \n",
       "StoreType                             2              0  \n",
       "Assortment                            2              0  \n",
       "CompetitionDistance                 620          29910  \n",
       "Promo2                                0              0  \n",
       "PromoInterval             (1, 4, 7, 10)  (1, 4, 7, 10)  \n",
       "CompetitionOpenSinceDate         733651         735689  \n",
       "Promo2SinceDate                       0              0  \n",
       "Promo2Today                           0              0  \n",
       "CompetitionIsOpen                     1              1  \n",
       "AverageCheck                    7.29214        8.70263  "
      ]
     },
     "execution_count": 42,
     "metadata": {},
     "output_type": "execute_result"
    }
   ],
   "source": [
    "df['Promo2Today'] = df.apply(is_promo2_today, axis=1)\n",
    "df['CompetitionIsOpen'] = df.apply(is_competition_open, axis=1)\n",
    "avg_checks = pd.DataFrame(df.groupby('Store')['Sales'].sum().astype(np.float64) \\\n",
    "             / df.groupby('Store')['Customers'].sum().astype(np.float64), \n",
    "                          columns=['AverageCheck']).reset_index()\n",
    "df = df.merge(avg_checks, on='Store', how='left')\n",
    "df.head().T"
   ]
  },
  {
   "cell_type": "markdown",
   "metadata": {},
   "source": [
    "Удаление столбцов, не нужных для применения модели:"
   ]
  },
  {
   "cell_type": "code",
   "execution_count": 43,
   "metadata": {
    "collapsed": true
   },
   "outputs": [],
   "source": [
    "# TODO: delete numeric dates, compare with model with them\n",
    "columns_to_drop = ['PromoInterval', 'Date', 'CompetitionOpenSinceDate', 'Promo2SinceDate']\n",
    "df.drop(columns_to_drop, axis=1, inplace=True)"
   ]
  },
  {
   "cell_type": "markdown",
   "metadata": {},
   "source": [
    "<h2>Применение Random Forest для предсказания продаж</h2>"
   ]
  },
  {
   "cell_type": "code",
   "execution_count": 44,
   "metadata": {
    "collapsed": false
   },
   "outputs": [
    {
     "name": "stdout",
     "output_type": "stream",
     "text": [
      "<class 'pandas.core.frame.DataFrame'>\n",
      "Int64Index: 1017209 entries, 0 to 1017208\n",
      "Data columns (total 20 columns):\n",
      "Customers              1017209 non-null float64\n",
      "DayOfWeek              1017209 non-null int64\n",
      "Open                   1017209 non-null float64\n",
      "Promo                  1017209 non-null int64\n",
      "Sales                  1017209 non-null float64\n",
      "SchoolHoliday          1017209 non-null int64\n",
      "StateHoliday           1017209 non-null int8\n",
      "Store                  1017209 non-null int64\n",
      "DateDayOfYear          1017209 non-null int32\n",
      "DateYear               1017209 non-null int32\n",
      "DateMonthOfYear        1017209 non-null int32\n",
      "DateWeekOfYear         1017209 non-null int32\n",
      "DateDayOfMonth         1017209 non-null int32\n",
      "StoreType              1017209 non-null int8\n",
      "Assortment             1017209 non-null int8\n",
      "CompetitionDistance    1017209 non-null float64\n",
      "Promo2                 1017209 non-null int64\n",
      "Promo2Today            1017209 non-null int64\n",
      "CompetitionIsOpen      1017209 non-null int64\n",
      "AverageCheck           1017209 non-null float64\n",
      "dtypes: float64(5), int32(5), int64(7), int8(3)\n",
      "memory usage: 123.2 MB\n"
     ]
    }
   ],
   "source": [
    "train_df = df[df['Id'].isnull()].drop(['Id'], axis=1)\n",
    "train_df.info()"
   ]
  },
  {
   "cell_type": "code",
   "execution_count": 45,
   "metadata": {
    "collapsed": false
   },
   "outputs": [
    {
     "name": "stdout",
     "output_type": "stream",
     "text": [
      "<class 'pandas.core.frame.DataFrame'>\n",
      "Int64Index: 41088 entries, 1017209 to 1058296\n",
      "Data columns (total 19 columns):\n",
      "DayOfWeek              41088 non-null int64\n",
      "Id                     41088 non-null float64\n",
      "Open                   41088 non-null float64\n",
      "Promo                  41088 non-null int64\n",
      "SchoolHoliday          41088 non-null int64\n",
      "StateHoliday           41088 non-null int8\n",
      "Store                  41088 non-null int64\n",
      "DateDayOfYear          41088 non-null int32\n",
      "DateYear               41088 non-null int32\n",
      "DateMonthOfYear        41088 non-null int32\n",
      "DateWeekOfYear         41088 non-null int32\n",
      "DateDayOfMonth         41088 non-null int32\n",
      "StoreType              41088 non-null int8\n",
      "Assortment             41088 non-null int8\n",
      "CompetitionDistance    41088 non-null float64\n",
      "Promo2                 41088 non-null int64\n",
      "Promo2Today            41088 non-null int64\n",
      "CompetitionIsOpen      41088 non-null int64\n",
      "AverageCheck           41088 non-null float64\n",
      "dtypes: float64(4), int32(5), int64(7), int8(3)\n",
      "memory usage: 4.7 MB\n"
     ]
    }
   ],
   "source": [
    "test_df = df[df['Id'].notnull()].drop(['Sales', 'Customers'], axis=1)\n",
    "test_df.info()"
   ]
  },
  {
   "cell_type": "code",
   "execution_count": 46,
   "metadata": {
    "collapsed": false
   },
   "outputs": [
    {
     "name": "stdout",
     "output_type": "stream",
     "text": [
      "(1017209L, 18L) (1017209L,)\n"
     ]
    }
   ],
   "source": [
    "X_train = train_df[train_df.columns.drop(['Customers', 'Sales'])].values\n",
    "y_train = train_df['Sales'].values\n",
    "print X_train.shape, y_train.shape"
   ]
  },
  {
   "cell_type": "code",
   "execution_count": 47,
   "metadata": {
    "collapsed": false
   },
   "outputs": [
    {
     "data": {
      "text/plain": [
       "(41088L, 18L)"
      ]
     },
     "execution_count": 47,
     "metadata": {},
     "output_type": "execute_result"
    }
   ],
   "source": [
    "X_test = test_df[test_df.columns.drop(['Id'])].values\n",
    "X_test.shape"
   ]
  },
  {
   "cell_type": "code",
   "execution_count": 66,
   "metadata": {
    "collapsed": false
   },
   "outputs": [
    {
     "name": "stdout",
     "output_type": "stream",
     "text": [
      "(8137L, 18L) (2035L, 18L) (8137L,) (2035L,)\n"
     ]
    }
   ],
   "source": [
    "X_train_train, X_train_test, y_train_train, y_train_test = train_test_split(X_train, y_train,\n",
    "                                                                           train_size=0.008,\n",
    "                                                                           test_size=0.002,\n",
    "                                                                           random_state=SEED)\n",
    "print X_train_train.shape, X_train_test.shape, y_train_train.shape, y_train_test.shape"
   ]
  },
  {
   "cell_type": "code",
   "execution_count": 64,
   "metadata": {
    "collapsed": true
   },
   "outputs": [],
   "source": [
    "from sklearn.model_selection import GridSearchCV\n",
    "from sklearn.metrics import make_scorer"
   ]
  },
  {
   "cell_type": "code",
   "execution_count": 65,
   "metadata": {
    "collapsed": true
   },
   "outputs": [],
   "source": [
    "param_grid = {'n_estimators': (10, 50, 80, 100),\n",
    "              'criterion': ('mse', 'mae')}\n",
    "rmspe_scorer = make_scorer(rmspe, greater_is_better=False)\n",
    "rf_model = RandomForestRegressor(random_state=SEED)\n",
    "grid_cv = GridSearchCV(rf_model, param_grid, rmspe_scorer, n_jobs=-1, cv=5)"
   ]
  },
  {
   "cell_type": "code",
   "execution_count": null,
   "metadata": {
    "collapsed": true
   },
   "outputs": [],
   "source": [
    "grid_cv.fit(X_train_train, y_train_train)\n",
    "grid_cv.best_params_"
   ]
  },
  {
   "cell_type": "code",
   "execution_count": 49,
   "metadata": {
    "collapsed": false
   },
   "outputs": [
    {
     "data": {
      "text/plain": [
       "RandomForestRegressor(bootstrap=True, criterion='mse', max_depth=None,\n",
       "           max_features='auto', max_leaf_nodes=None,\n",
       "           min_impurity_split=1e-07, min_samples_leaf=1,\n",
       "           min_samples_split=2, min_weight_fraction_leaf=0.0,\n",
       "           n_estimators=10, n_jobs=1, oob_score=False, random_state=42,\n",
       "           verbose=0, warm_start=False)"
      ]
     },
     "execution_count": 49,
     "metadata": {},
     "output_type": "execute_result"
    }
   ],
   "source": [
    "rf = RandomForestRegressor(random_state=SEED)\n",
    "rf.fit(X_train, y_train)"
   ]
  },
  {
   "cell_type": "code",
   "execution_count": 50,
   "metadata": {
    "collapsed": false
   },
   "outputs": [
    {
     "name": "stdout",
     "output_type": "stream",
     "text": [
      "0.0453670326573\n"
     ]
    }
   ],
   "source": [
    "print rmspe(rf.predict(X_train_test), y_train_test)"
   ]
  },
  {
   "cell_type": "code",
   "execution_count": 51,
   "metadata": {
    "collapsed": false
   },
   "outputs": [
    {
     "data": {
      "text/plain": [
       "(41088L,)"
      ]
     },
     "execution_count": 51,
     "metadata": {},
     "output_type": "execute_result"
    }
   ],
   "source": [
    "test_predicted = rf.predict(X_test)\n",
    "test_predicted.shape"
   ]
  },
  {
   "cell_type": "code",
   "execution_count": 52,
   "metadata": {
    "collapsed": false
   },
   "outputs": [
    {
     "data": {
      "text/html": [
       "<div>\n",
       "<table border=\"1\" class=\"dataframe\">\n",
       "  <thead>\n",
       "    <tr style=\"text-align: right;\">\n",
       "      <th></th>\n",
       "      <th>Id</th>\n",
       "      <th>Sales</th>\n",
       "    </tr>\n",
       "  </thead>\n",
       "  <tbody>\n",
       "    <tr>\n",
       "      <th>1017209</th>\n",
       "      <td>1</td>\n",
       "      <td>4128.8</td>\n",
       "    </tr>\n",
       "    <tr>\n",
       "      <th>1017210</th>\n",
       "      <td>2</td>\n",
       "      <td>7470.1</td>\n",
       "    </tr>\n",
       "    <tr>\n",
       "      <th>1017211</th>\n",
       "      <td>3</td>\n",
       "      <td>9244.3</td>\n",
       "    </tr>\n",
       "    <tr>\n",
       "      <th>1017212</th>\n",
       "      <td>4</td>\n",
       "      <td>8185.0</td>\n",
       "    </tr>\n",
       "    <tr>\n",
       "      <th>1017213</th>\n",
       "      <td>5</td>\n",
       "      <td>7717.0</td>\n",
       "    </tr>\n",
       "  </tbody>\n",
       "</table>\n",
       "</div>"
      ],
      "text/plain": [
       "         Id   Sales\n",
       "1017209   1  4128.8\n",
       "1017210   2  7470.1\n",
       "1017211   3  9244.3\n",
       "1017212   4  8185.0\n",
       "1017213   5  7717.0"
      ]
     },
     "execution_count": 52,
     "metadata": {},
     "output_type": "execute_result"
    }
   ],
   "source": [
    "sumbission = pd.concat([test_df.Id.astype(int), pd.DataFrame(test_predicted, \n",
    "                                                 columns=['Sales'], index=test_df.index)], axis=1)\n",
    "sumbission.head()"
   ]
  },
  {
   "cell_type": "code",
   "execution_count": 53,
   "metadata": {
    "collapsed": false
   },
   "outputs": [],
   "source": [
    "sumbission[['Id', 'Sales']].to_csv('./answers/sumbission_4.csv', index=False)"
   ]
  },
  {
   "cell_type": "markdown",
   "metadata": {},
   "source": [
    "Посмотрим важность признаков:"
   ]
  },
  {
   "cell_type": "code",
   "execution_count": 60,
   "metadata": {
    "collapsed": false
   },
   "outputs": [
    {
     "data": {
      "text/plain": [
       "[('Open', 0.46002171293277855),\n",
       " ('AverageCheck', 0.11673335823400777),\n",
       " ('Store', 0.10379562317574345),\n",
       " ('CompetitionDistance', 0.098309469282372705),\n",
       " ('Promo', 0.073175265093846267),\n",
       " ('DayOfWeek', 0.036680042879749845),\n",
       " ('DateDayOfYear', 0.027365113610595106),\n",
       " ('DateDayOfMonth', 0.019757018281633888),\n",
       " ('StoreType', 0.013653122545519088),\n",
       " ('Assortment', 0.012957132985978245),\n",
       " ('Promo2', 0.010682808463835566),\n",
       " ('DateWeekOfYear', 0.0081089762757163893),\n",
       " ('DateYear', 0.0076072911494376224),\n",
       " ('CompetitionIsOpen', 0.0039697935610801113),\n",
       " ('DateMonthOfYear', 0.0029616514028404082),\n",
       " ('SchoolHoliday', 0.0021483871777868311),\n",
       " ('Promo2Today', 0.0011975973768591015),\n",
       " ('StateHoliday', 0.00087563557021916435)]"
      ]
     },
     "execution_count": 60,
     "metadata": {},
     "output_type": "execute_result"
    }
   ],
   "source": [
    "features = {}\n",
    "columns = train_df.columns.drop(['Sales', 'Customers'])\n",
    "for i, column in enumerate(columns):\n",
    "    features[column] = rf.feature_importances_[i] \n",
    "features = sorted(features.items(), key=operator.itemgetter(1), reverse=True)\n",
    "features"
   ]
  },
  {
   "cell_type": "code",
   "execution_count": null,
   "metadata": {
    "collapsed": true
   },
   "outputs": [],
   "source": []
  }
 ],
 "metadata": {
  "anaconda-cloud": {},
  "kernelspec": {
   "display_name": "Python [conda root]",
   "language": "python",
   "name": "conda-root-py"
  },
  "language_info": {
   "codemirror_mode": {
    "name": "ipython",
    "version": 2
   },
   "file_extension": ".py",
   "mimetype": "text/x-python",
   "name": "python",
   "nbconvert_exporter": "python",
   "pygments_lexer": "ipython2",
   "version": "2.7.12"
  }
 },
 "nbformat": 4,
 "nbformat_minor": 1
}
