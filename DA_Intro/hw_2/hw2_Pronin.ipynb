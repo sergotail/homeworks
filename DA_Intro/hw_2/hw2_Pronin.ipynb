{
 "cells": [
  {
   "cell_type": "markdown",
   "metadata": {},
   "source": [
    "# Введение в анализ данных (первый семестр)\n",
    "## Домашнее задание №2 - Ускорение k-means\n"
   ]
  },
  {
   "cell_type": "code",
   "execution_count": 1,
   "metadata": {
    "collapsed": true
   },
   "outputs": [],
   "source": [
    "import pandas as pd\n",
    "import numpy as np\n",
    "import matplotlib.pyplot as plt\n",
    "\n",
    "from sklearn.base import BaseEstimator, ClusterMixin\n",
    "from sklearn.metrics.pairwise import distance_metrics, pairwise_distances\n",
    "\n",
    "from sklearn.datasets import make_blobs\n",
    "from sklearn.preprocessing import StandardScaler\n",
    "\n",
    "from line_profiler import LineProfiler\n",
    "\n",
    "%matplotlib inline\n",
    "\n",
    "plt.style.use('ggplot')\n",
    "plt.rcParams['figure.figsize'] = (12,5)"
   ]
  },
  {
   "cell_type": "code",
   "execution_count": 2,
   "metadata": {
    "collapsed": true
   },
   "outputs": [],
   "source": [
    "def profile_print(func_to_call, *args):\n",
    "    profiler = LineProfiler()\n",
    "    profiler.add_function(func_to_call)\n",
    "    profiler.runcall(func_to_call, *args)\n",
    "    profiler.print_stats()"
   ]
  },
  {
   "cell_type": "markdown",
   "metadata": {},
   "source": [
    "# Имплементация K-means"
   ]
  },
  {
   "cell_type": "markdown",
   "metadata": {},
   "source": [
    "### Имплементация в виде функции"
   ]
  },
  {
   "cell_type": "code",
   "execution_count": 3,
   "metadata": {
    "collapsed": false
   },
   "outputs": [],
   "source": [
    "def k_means(X, n_clusters=2, metric='euclidean', max_iter=1000, random_state=None):\n",
    "    # Инициализация генератора случайных чисел\n",
    "    np.random.seed(random_state)\n",
    "\n",
    "    # Массив с метками кластеров для каждого объекта из X\n",
    "    labels = np.zeros(X.shape[0], dtype=int)\n",
    "    labels.fill(-1)\n",
    "\n",
    "    # Массив с центроидами кластеров\n",
    "    centroids = np.random.random((n_clusters, X.shape[1]))\n",
    "    min_values = np.min(X, axis=0) \n",
    "    values_ranges = np.max(X, axis=0) - min_values\n",
    "    centroids = min_values + (values_ranges * centroids)\n",
    "\n",
    "    # init tmp (old) centroids and labels\n",
    "    old_centroids = centroids.copy()\n",
    "    old_labels = labels.copy()\n",
    "\n",
    "    # loop over iterations and while centroids not found\n",
    "    n_iters = 0\n",
    "    for n_iters in xrange(max_iter):\n",
    "        # store prev iteration params\n",
    "        np.copyto(old_centroids, centroids)\n",
    "        np.copyto(old_labels, labels)\n",
    "\n",
    "        # for each sample, give it a label of nearest centroid\n",
    "        labels = distance_metrics()[metric](X, centroids).argmin(axis=1)\n",
    "\n",
    "        # for each cluster, compute average, it will be a new centroid   \n",
    "        for c in xrange(centroids.shape[0]):\n",
    "            centroids[c] = np.average(X[(labels == c)], axis=0)\n",
    "\n",
    "        # if no points assigned to centroid, do not change centroid coords\n",
    "        nan_rows = np.isnan(centroids).any(axis=1)\n",
    "        centroids[nan_rows] = old_centroids[nan_rows]\n",
    "\n",
    "        # check if clusters change, if not, stop\n",
    "        if np.array_equal(labels, old_labels):\n",
    "            break\n",
    "    \n",
    "    return labels, centroids, n_iters"
   ]
  },
  {
   "cell_type": "markdown",
   "metadata": {},
   "source": [
    "### Имплементация в виде класса"
   ]
  },
  {
   "cell_type": "code",
   "execution_count": 32,
   "metadata": {
    "collapsed": false
   },
   "outputs": [],
   "source": [
    "class Kmeans(BaseEstimator, ClusterMixin): \n",
    "    \n",
    "    def __init__(self, n_clusters=2, metric='euclidean', max_iter=1000, random_state=None):\n",
    "        \"\"\"\n",
    "        Инициализация метода\n",
    "        :k - количество кластеров\n",
    "        :metric - функция расстояния между объектами\n",
    "        :max_iter - максимальное количество итераций\n",
    "        :random_state - seed для инициализации генератора случайных чисел\n",
    "        \"\"\"\n",
    "        \n",
    "        self.n_clusters = n_clusters\n",
    "        self.random_state = random_state\n",
    "        self.metric = metric\n",
    "        self.max_iter = max_iter\n",
    "        self.n_iters = None\n",
    "        self.X = None\n",
    "        self.labels = None\n",
    "        self.centroids = None\n",
    "        self._check_params()\n",
    "        \n",
    "    def _check_params(self):\n",
    "        if self.max_iter < 0:\n",
    "            raise ValueError(\"number of iterations (set %d) must be non-negative\" % (self.max_iter))\n",
    "        if self.n_clusters < 1:\n",
    "            raise ValueError(\"number of clusters (set %d) must be positive\" % (self.n_clusters))\n",
    "        if self.metric not in distance_metrics().keys():\n",
    "            raise ValueError(\"specified metric (%s) is not supported. List of supported metrics:\\n%s\" % \n",
    "                             (self.metric, ', '.join(distance_metrics().keys())))\n",
    "        \n",
    "    def _check_and_prepare_X(self, X):\n",
    "        if not isinstance(X, np.ndarray) and not isinstance(X, pd.DataFrame):\n",
    "            raise ValueError(\"X must have numpy.ndarray or pandas.DataFrame type, but given X has type \" +  str(type(X)))\n",
    "        if self.n_clusters > X.shape[0]:\n",
    "            raise ValueError(\"number of clusters (set %d) must be not greater than number of samples (set %d)\" % \n",
    "                             (self.n_clusters, X.shape[0]))\n",
    "        if isinstance(X, pd.DataFrame):\n",
    "            self.X = X.as_matrix()\n",
    "        else:\n",
    "            self.X = X\n",
    "            \n",
    "    def _check_if_fitted(self):\n",
    "        if self.centroids is None:\n",
    "            raise RuntimeError(\"clustering object is not fitted yet, so centroids are not set\")\n",
    "                             \n",
    "    def fit(self, X, y=None):\n",
    "        \"\"\"\n",
    "        Процедура обучения k-means\n",
    "        :X - матрица наблюдений (numpy.ndarray или pandas.DataFrame)\n",
    "        :y - вектор меток (данный параметр не используется в обучении без учителя)\n",
    "        \"\"\"\n",
    "        \n",
    "        # Проверяем входной датасет и подготавливаем его к обработке\n",
    "        self._check_and_prepare_X(X)\n",
    "        \n",
    "        self.labels, self.centroids, self.n_iters = k_means(self.X, self.n_clusters, self.metric, \n",
    "                                                            self.max_iter, self.random_state)\n",
    "        return self\n",
    "\n",
    "    def predict(self, X, y=None):\n",
    "        \"\"\"\n",
    "        Процедура предсказания кластера\n",
    "        \n",
    "        Возвращает метку ближайшего кластера для каждого объекта\n",
    "        \"\"\"\n",
    "        # Проверяем входной датасет  подготавливаем его к обработке\n",
    "        self._check_and_prepare_X(X)\n",
    "        \n",
    "        # Массив с метками кластеров для каждого объекта из X\n",
    "        self.labels = np.zeros(self.X.shape[0], dtype=int)\n",
    "        self.labels.fill(-1)\n",
    "        \n",
    "        self._check_if_fitted()\n",
    "        self.labels = distance_metrics()[self.metric](X, self.centroids).argmin(axis=1)\n",
    "        \n",
    "        return self.labels"
   ]
  },
  {
   "cell_type": "markdown",
   "metadata": {},
   "source": [
    "### Проверка корректности метода"
   ]
  },
  {
   "cell_type": "code",
   "execution_count": 33,
   "metadata": {
    "collapsed": false
   },
   "outputs": [
    {
     "name": "stdout",
     "output_type": "stream",
     "text": [
      "Number of iterations: 3\n"
     ]
    },
    {
     "data": {
      "text/plain": [
       "<matplotlib.collections.PathCollection at 0xc7ffa58>"
      ]
     },
     "execution_count": 33,
     "metadata": {},
     "output_type": "execute_result"
    },
    {
     "data": {
      "image/png": "[encoded data removed]",
      "text/plain": [
       "<matplotlib.figure.Figure at 0xa362c88>"
      ]
     },
     "metadata": {},
     "output_type": "display_data"
    }
   ],
   "source": [
    "def check_kmeans(func, *args):\n",
    "    \n",
    "    X, y = make_blobs(n_samples=100, n_features=2, centers=3, cluster_std=1, \n",
    "               center_box=(-10.0, 10.0), shuffle=False, random_state=1234)\n",
    "\n",
    "    sc = StandardScaler()\n",
    "    X = sc.fit_transform(X)\n",
    "    km = Kmeans(max_iter=100, n_clusters=3, random_state=42)\n",
    "    km.fit(X)\n",
    "    lbls, _, ntrs = func(*args)\n",
    "    labels = km.predict(X)\n",
    "    print \"Number of iterations:\", km.n_iters\n",
    "\n",
    "    plt.scatter(X[:,0], X[:, 1], c=labels)\n",
    "    plt.scatter(km.centroids[:,0], km.centroids[:,1], c='red', marker='x', s=140, linewidths=2)\n",
    "    \n",
    "    return"
   ]
  },
  {
   "cell_type": "markdown",
   "metadata": {},
   "source": [
    "# Применение K-means на реальных данных"
   ]
  },
  {
   "cell_type": "code",
   "execution_count": 22,
   "metadata": {
    "collapsed": false
   },
   "outputs": [
    {
     "data": {
      "text/html": [
       "<div>\n",
       "<table border=\"1\" class=\"dataframe\">\n",
       "  <thead>\n",
       "    <tr style=\"text-align: right;\">\n",
       "      <th></th>\n",
       "      <th>basketball</th>\n",
       "      <th>football</th>\n",
       "      <th>soccer</th>\n",
       "      <th>softball</th>\n",
       "      <th>volleyball</th>\n",
       "      <th>swimming</th>\n",
       "      <th>cheerleading</th>\n",
       "      <th>baseball</th>\n",
       "      <th>tennis</th>\n",
       "      <th>sports</th>\n",
       "      <th>...</th>\n",
       "      <th>blonde</th>\n",
       "      <th>mall</th>\n",
       "      <th>shopping</th>\n",
       "      <th>clothes</th>\n",
       "      <th>hollister</th>\n",
       "      <th>abercrombie</th>\n",
       "      <th>die</th>\n",
       "      <th>death</th>\n",
       "      <th>drunk</th>\n",
       "      <th>drugs</th>\n",
       "    </tr>\n",
       "  </thead>\n",
       "  <tbody>\n",
       "    <tr>\n",
       "      <th>0</th>\n",
       "      <td>-0.412835</td>\n",
       "      <td>-0.507107</td>\n",
       "      <td>-0.264788</td>\n",
       "      <td>-0.294609</td>\n",
       "      <td>-0.349509</td>\n",
       "      <td>-0.502846</td>\n",
       "      <td>-0.403092</td>\n",
       "      <td>-0.385504</td>\n",
       "      <td>-0.326787</td>\n",
       "      <td>-0.630717</td>\n",
       "      <td>...</td>\n",
       "      <td>-0.026224</td>\n",
       "      <td>-0.531663</td>\n",
       "      <td>-0.672712</td>\n",
       "      <td>-0.664761</td>\n",
       "      <td>-0.580983</td>\n",
       "      <td>-0.654713</td>\n",
       "      <td>-0.472027</td>\n",
       "      <td>-0.598737</td>\n",
       "      <td>-0.552206</td>\n",
       "      <td>-0.506205</td>\n",
       "    </tr>\n",
       "    <tr>\n",
       "      <th>1</th>\n",
       "      <td>-0.412835</td>\n",
       "      <td>1.502830</td>\n",
       "      <td>-0.264788</td>\n",
       "      <td>-0.294609</td>\n",
       "      <td>-0.349509</td>\n",
       "      <td>-0.502846</td>\n",
       "      <td>-0.403092</td>\n",
       "      <td>-0.385504</td>\n",
       "      <td>-0.326787</td>\n",
       "      <td>-0.630717</td>\n",
       "      <td>...</td>\n",
       "      <td>-0.026224</td>\n",
       "      <td>1.534117</td>\n",
       "      <td>-0.672712</td>\n",
       "      <td>-0.664761</td>\n",
       "      <td>-0.580983</td>\n",
       "      <td>-0.654713</td>\n",
       "      <td>-0.472027</td>\n",
       "      <td>-0.598737</td>\n",
       "      <td>-0.552206</td>\n",
       "      <td>-0.506205</td>\n",
       "    </tr>\n",
       "    <tr>\n",
       "      <th>2</th>\n",
       "      <td>-0.412835</td>\n",
       "      <td>1.502830</td>\n",
       "      <td>-0.264788</td>\n",
       "      <td>-0.294609</td>\n",
       "      <td>-0.349509</td>\n",
       "      <td>-0.502846</td>\n",
       "      <td>-0.403092</td>\n",
       "      <td>-0.385504</td>\n",
       "      <td>-0.326787</td>\n",
       "      <td>-0.630717</td>\n",
       "      <td>...</td>\n",
       "      <td>-0.026224</td>\n",
       "      <td>-0.531663</td>\n",
       "      <td>-0.672712</td>\n",
       "      <td>-0.664761</td>\n",
       "      <td>-0.580983</td>\n",
       "      <td>-0.654713</td>\n",
       "      <td>-0.472027</td>\n",
       "      <td>4.642616</td>\n",
       "      <td>-0.552206</td>\n",
       "      <td>-0.506205</td>\n",
       "    </tr>\n",
       "    <tr>\n",
       "      <th>3</th>\n",
       "      <td>-0.412835</td>\n",
       "      <td>-0.507107</td>\n",
       "      <td>-0.264788</td>\n",
       "      <td>-0.294609</td>\n",
       "      <td>-0.349509</td>\n",
       "      <td>-0.502846</td>\n",
       "      <td>-0.403092</td>\n",
       "      <td>-0.385504</td>\n",
       "      <td>-0.326787</td>\n",
       "      <td>-0.630717</td>\n",
       "      <td>...</td>\n",
       "      <td>-0.026224</td>\n",
       "      <td>-0.531663</td>\n",
       "      <td>-0.672712</td>\n",
       "      <td>-0.664761</td>\n",
       "      <td>-0.580983</td>\n",
       "      <td>-0.654713</td>\n",
       "      <td>-0.472027</td>\n",
       "      <td>-0.598737</td>\n",
       "      <td>-0.552206</td>\n",
       "      <td>-0.506205</td>\n",
       "    </tr>\n",
       "    <tr>\n",
       "      <th>4</th>\n",
       "      <td>-0.412835</td>\n",
       "      <td>-0.507107</td>\n",
       "      <td>-0.264788</td>\n",
       "      <td>-0.294609</td>\n",
       "      <td>-0.349509</td>\n",
       "      <td>-0.502846</td>\n",
       "      <td>-0.403092</td>\n",
       "      <td>-0.385504</td>\n",
       "      <td>-0.326787</td>\n",
       "      <td>-0.630717</td>\n",
       "      <td>...</td>\n",
       "      <td>-0.026224</td>\n",
       "      <td>-0.531663</td>\n",
       "      <td>3.138686</td>\n",
       "      <td>-0.664761</td>\n",
       "      <td>-0.580983</td>\n",
       "      <td>-0.654713</td>\n",
       "      <td>-0.472027</td>\n",
       "      <td>-0.598737</td>\n",
       "      <td>5.725238</td>\n",
       "      <td>7.870048</td>\n",
       "    </tr>\n",
       "  </tbody>\n",
       "</table>\n",
       "<p>5 rows × 36 columns</p>\n",
       "</div>"
      ],
      "text/plain": [
       "   basketball  football    soccer  softball  volleyball  swimming  \\\n",
       "0   -0.412835 -0.507107 -0.264788 -0.294609   -0.349509 -0.502846   \n",
       "1   -0.412835  1.502830 -0.264788 -0.294609   -0.349509 -0.502846   \n",
       "2   -0.412835  1.502830 -0.264788 -0.294609   -0.349509 -0.502846   \n",
       "3   -0.412835 -0.507107 -0.264788 -0.294609   -0.349509 -0.502846   \n",
       "4   -0.412835 -0.507107 -0.264788 -0.294609   -0.349509 -0.502846   \n",
       "\n",
       "   cheerleading  baseball    tennis    sports    ...       blonde      mall  \\\n",
       "0     -0.403092 -0.385504 -0.326787 -0.630717    ...    -0.026224 -0.531663   \n",
       "1     -0.403092 -0.385504 -0.326787 -0.630717    ...    -0.026224  1.534117   \n",
       "2     -0.403092 -0.385504 -0.326787 -0.630717    ...    -0.026224 -0.531663   \n",
       "3     -0.403092 -0.385504 -0.326787 -0.630717    ...    -0.026224 -0.531663   \n",
       "4     -0.403092 -0.385504 -0.326787 -0.630717    ...    -0.026224 -0.531663   \n",
       "\n",
       "   shopping   clothes  hollister  abercrombie       die     death     drunk  \\\n",
       "0 -0.672712 -0.664761  -0.580983    -0.654713 -0.472027 -0.598737 -0.552206   \n",
       "1 -0.672712 -0.664761  -0.580983    -0.654713 -0.472027 -0.598737 -0.552206   \n",
       "2 -0.672712 -0.664761  -0.580983    -0.654713 -0.472027  4.642616 -0.552206   \n",
       "3 -0.672712 -0.664761  -0.580983    -0.654713 -0.472027 -0.598737 -0.552206   \n",
       "4  3.138686 -0.664761  -0.580983    -0.654713 -0.472027 -0.598737  5.725238   \n",
       "\n",
       "      drugs  \n",
       "0 -0.506205  \n",
       "1 -0.506205  \n",
       "2 -0.506205  \n",
       "3 -0.506205  \n",
       "4  7.870048  \n",
       "\n",
       "[5 rows x 36 columns]"
      ]
     },
     "execution_count": 22,
     "metadata": {},
     "output_type": "execute_result"
    }
   ],
   "source": [
    "df_sns = pd.read_csv('snsdata.csv', sep=',')\n",
    "\n",
    "# delete all features except 36 keywords\n",
    "df_sns_restricted = df_sns[df_sns.columns[4:]]\n",
    "\n",
    "# normalize\n",
    "for column in df_sns_restricted.columns:\n",
    "    df_sns_restricted.loc[:,column] = (df_sns_restricted[column] - df_sns_restricted[column].mean())/\\\n",
    "    df_sns_restricted[column].var()\n",
    "df_sns_restricted.head()"
   ]
  },
  {
   "cell_type": "code",
   "execution_count": 39,
   "metadata": {
    "collapsed": false
   },
   "outputs": [
    {
     "name": "stdout",
     "output_type": "stream",
     "text": [
      "1 loop, best of 3: 465 ms per loop\n",
      "1 loop, best of 3: 408 ms per loop\n",
      "Class: [0 1 2 3 4 5 7 8] 21\n",
      "Func:  [0 1 2 3 4 5 7 8] 21\n"
     ]
    }
   ],
   "source": [
    "# found random states and non-empty clusters for them\n",
    "# [0 1 2 3 5 6 7 8] 201949\n",
    "# [0 1 2 3 4 5 7 8] 1515\n",
    "X = df_sns_restricted.as_matrix()\n",
    "km = Kmeans(n_clusters=9, random_state=1515)\n",
    "%timeit -n 1 km.fit(X)\n",
    "%timeit -n 1 k_means(X, n_clusters=9, random_state=1515)\n",
    "lbls, cntrds, ntrs = k_means(X, n_clusters=9, random_state=1515)\n",
    "print \"Class:\", np.unique(km.labels), km.n_iters\n",
    "print \"Func: \", np.unique(lbls), ntrs"
   ]
  },
  {
   "cell_type": "markdown",
   "metadata": {},
   "source": [
    "Из замеров времени видно, что разница между функцией и классом по времени незначительная в пользу функции (т.к. нет никаких проверок входных аргументов, в отличие от класса). Поэтому, в дальнейшем будем модифицировать функцию, т.к. это более удобно."
   ]
  },
  {
   "cell_type": "code",
   "execution_count": 25,
   "metadata": {
    "collapsed": false
   },
   "outputs": [
    {
     "name": "stdout",
     "output_type": "stream",
     "text": [
      "Timer unit: 5.70181e-07 s\n",
      "\n",
      "Total time: 0.488389 s\n",
      "File: <ipython-input-3-22bc051143a0>\n",
      "Function: k_means at line 1\n",
      "\n",
      "Line #      Hits         Time  Per Hit   % Time  Line Contents\n",
      "==============================================================\n",
      "     1                                           def k_means(X, n_clusters=2, metric='euclidean', max_iter=1000, random_state=None):\n",
      "     2                                               # Инициализация генератора случайных чисел\n",
      "     3         1           33     33.0      0.0      np.random.seed(random_state)\n",
      "     4                                           \n",
      "     5                                               # Массив с метками кластеров для каждого объекта из X\n",
      "     6         1           62     62.0      0.0      labels = np.zeros(X.shape[0], dtype=int)\n",
      "     7         1           26     26.0      0.0      labels.fill(-1)\n",
      "     8                                           \n",
      "     9                                               # Массив с центроидами кластеров\n",
      "    10         1           44     44.0      0.0      centroids = np.random.random((n_clusters, X.shape[1]))\n",
      "    11         1         2098   2098.0      0.2      min_values = np.min(X, axis=0) \n",
      "    12         1         1466   1466.0      0.2      values_ranges = np.max(X, axis=0) - min_values\n",
      "    13         1           52     52.0      0.0      centroids = min_values + (values_ranges * centroids)\n",
      "    14                                           \n",
      "    15                                               # init tmp (old) centroids and labels\n",
      "    16         1           17     17.0      0.0      old_centroids = centroids.copy()\n",
      "    17         1           40     40.0      0.0      old_labels = labels.copy()\n",
      "    18                                           \n",
      "    19                                               # loop over iterations and while centroids not found\n",
      "    20         1            2      2.0      0.0      n_iters = 0\n",
      "    21        22           68      3.1      0.0      for n_iters in xrange(max_iter):\n",
      "    22                                                   # store prev iteration params\n",
      "    23        22          178      8.1      0.0          np.copyto(old_centroids, centroids)\n",
      "    24        22         1175     53.4      0.1          np.copyto(old_labels, labels)\n",
      "    25                                           \n",
      "    26                                                   # for each sample, give it a label of nearest centroid\n",
      "    27        22       411629  18710.4     48.1          labels = distance_metrics()[metric](X, centroids).argmin(axis=1)\n",
      "    28                                           \n",
      "    29                                                   # for each cluster, compute average, it will be a new centroid   \n",
      "    30       220         1574      7.2      0.2          for c in xrange(centroids.shape[0]):\n",
      "    31       198       431989   2181.8     50.4              centroids[c] = np.average(X[(labels == c)], axis=0)\n",
      "    32                                           \n",
      "    33                                                   # if no points assigned to centroid, do not change centroid coords\n",
      "    34        22          904     41.1      0.1          nan_rows = np.isnan(centroids).any(axis=1)\n",
      "    35        22          560     25.5      0.1          centroids[nan_rows] = old_centroids[nan_rows]\n",
      "    36                                           \n",
      "    37                                                   # check if clusters change, if not, stop\n",
      "    38        22         4629    210.4      0.5          if np.array_equal(labels, old_labels):\n",
      "    39         1            3      3.0      0.0              break\n",
      "    40                                               \n",
      "    41         1            1      1.0      0.0      return labels, centroids, n_iters\n",
      "\n"
     ]
    }
   ],
   "source": [
    "profile_print(k_means, X, 9, 'euclidean', 1000, 1515)"
   ]
  },
  {
   "cell_type": "code",
   "execution_count": null,
   "metadata": {
    "collapsed": true
   },
   "outputs": [],
   "source": []
  }
 ],
 "metadata": {
  "anaconda-cloud": {},
  "kernelspec": {
   "display_name": "Python [default]",
   "language": "python",
   "name": "python2"
  },
  "language_info": {
   "codemirror_mode": {
    "name": "ipython",
    "version": 2
   },
   "file_extension": ".py",
   "mimetype": "text/x-python",
   "name": "python",
   "nbconvert_exporter": "python",
   "pygments_lexer": "ipython2",
   "version": "2.7.12"
  },
  "nav_menu": {},
  "toc": {
   "navigate_menu": true,
   "number_sections": false,
   "sideBar": true,
   "threshold": 6,
   "toc_cell": false,
   "toc_section_display": "block",
   "toc_window_display": true
  }
 },
 "nbformat": 4,
 "nbformat_minor": 2
}
