{
 "cells": [
  {
   "cell_type": "markdown",
   "metadata": {},
   "source": [
    "# Алгоритмы интеллектуальной обработки больших объемов данных\n",
    "## Домашнее задание №4: Линейные модели, введение в конкурсную задачу\n"
   ]
  },
  {
   "cell_type": "markdown",
   "metadata": {},
   "source": [
    "###### <hr\\>\n",
    "**Общая информация**\n",
    "\n",
    "**Срок сдачи:** 17 апреля 2017, 06:00 <br\\>\n",
    "**Штраф за опоздание:** -2 балла после 06:00 17 апреля, -4 балла после 06:00 24 апреля, -6 баллов после 06:00 1 мая\n",
    "\n",
    "Имеется ввиду именно сдача данного ДЗ, а не конечного результата по конкурсу (см ниже).<br\\>\n",
    "Жесткий дедлайн по конкурсной задаче - 14 мая 23:59 GMT.\n",
    "\n",
    "При отправлении ДЗ указывайте фамилию в названии файла<br\\>\n",
    "\n",
    "Используйте данный Ipython Notebook при оформлении домашнего задания.\n",
    "<hr\\>"
   ]
  },
  {
   "cell_type": "code",
   "execution_count": 1,
   "metadata": {
    "collapsed": true
   },
   "outputs": [],
   "source": [
    "import gc\n",
    "import datetime\n",
    "import pandas as pd\n",
    "import numpy as np\n",
    "import matplotlib.pyplot as plt\n",
    "from sklearn.metrics import accuracy_score, roc_auc_score\n",
    "from sklearn.preprocessing import OneHotEncoder, StandardScaler\n",
    "from sklearn.model_selection import train_test_split, GridSearchCV\n",
    "\n",
    "%matplotlib inline\n",
    "\n",
    "plt.style.use('ggplot')\n",
    "plt.rcParams['figure.figsize'] = (12,5)"
   ]
  },
  {
   "cell_type": "markdown",
   "metadata": {},
   "source": [
    "# Определяем, что вам досталось"
   ]
  },
  {
   "cell_type": "markdown",
   "metadata": {},
   "source": [
    "<center><img src='https://static1.squarespace.com/static/571a6e39b6aa608067028725/t/577988518419c2d62fb5922f/1467582555915/'></center>"
   ]
  },
  {
   "cell_type": "markdown",
   "metadata": {},
   "source": [
    "Укажите свою фамилию на русском языке в поле ниже."
   ]
  },
  {
   "cell_type": "code",
   "execution_count": 2,
   "metadata": {
    "collapsed": false
   },
   "outputs": [
    {
     "name": "stdout",
     "output_type": "stream",
     "text": [
      "Имплементируйте обучение логистической регрессии с L2 регуляризацией с помощью метода Mini Batch Stochastic Gradient Descent (SGD)\n"
     ]
    }
   ],
   "source": [
    "USER_NAME = u\"Пронин\".lower()\n",
    "REGULARIZATIONS = [\"L1\", \"L2\"]\n",
    "ALGORITHM = [\"\", \"Mini Batch\"]\n",
    "\n",
    "print \"Имплементируйте обучение логистической регрессии с %s регуляризацией с помощью метода %s Stochastic Gradient Descent (SGD)\"\\\n",
    "% (\n",
    "    REGULARIZATIONS[hash(USER_NAME) % 2],\n",
    "    ALGORITHM[hash(USER_NAME[::-1]) % 2]\n",
    ")"
   ]
  },
  {
   "cell_type": "markdown",
   "metadata": {},
   "source": [
    "#### Замечания\n",
    "* В SGD градиент расчитывается по одному случайному объекту\n",
    "* В Mini Batch SGD - по подвыборке объектов т.е в алгоритме надо\n",
    "    * Перемешать выборку\n",
    "    * Разбить на части (примерно) одинакового размера - мини батчи\n",
    "    * Считать градиент по мини батчам\n",
    "* Сделайте убывающую скорость спуска, например `alpha/n_epoch` или `alpha/n_iter` или `alpha/n_batch` или ...\n",
    "* Для отладки работы алгоритма, реализуйте возможность сохранения или вывода ошибки модели после очередной итерации/батча/эпохи.\n",
    "* Правило останова - максимальное количество эпох\n",
    "    \n",
    "Эпохой в SGD и MB-SGD называется один проход по **всем** объектам в выборке (тем или иным способом)"
   ]
  },
  {
   "cell_type": "markdown",
   "metadata": {},
   "source": [
    "# Реализация модели"
   ]
  },
  {
   "cell_type": "markdown",
   "metadata": {},
   "source": [
    "## Имплементация (6 баллов)"
   ]
  },
  {
   "cell_type": "markdown",
   "metadata": {},
   "source": [
    "Автоматическая инициализация членов класса параметрами конструктора:"
   ]
  },
  {
   "cell_type": "code",
   "execution_count": 3,
   "metadata": {
    "collapsed": true
   },
   "outputs": [],
   "source": [
    "import inspect\n",
    "import functools\n",
    "\n",
    "def autoargs(*include,**kwargs):   \n",
    "    def _autoargs(func):\n",
    "        attrs,varargs,varkw,defaults=inspect.getargspec(func)\n",
    "        def sieve(attr):\n",
    "            if kwargs and attr in kwargs['exclude']: return False\n",
    "            if not include or attr in include: return True\n",
    "            else: return False            \n",
    "        @functools.wraps(func)\n",
    "        def wrapper(self,*args,**kwargs):\n",
    "            # handle default values\n",
    "            for attr,val in zip(reversed(attrs),reversed(defaults)):\n",
    "                if sieve(attr): setattr(self, attr, val)\n",
    "            # handle positional arguments\n",
    "            positional_attrs=attrs[1:]            \n",
    "            for attr,val in zip(positional_attrs,args):\n",
    "                if sieve(attr): setattr(self, attr, val)\n",
    "            # handle varargs\n",
    "            if varargs:\n",
    "                remaining_args=args[len(positional_attrs):]\n",
    "                if sieve(varargs): setattr(self, varargs, remaining_args)                \n",
    "            # handle varkw\n",
    "            if kwargs:\n",
    "                for attr,val in kwargs.iteritems():\n",
    "                    if sieve(attr): setattr(self,attr,val)            \n",
    "            return func(self,*args,**kwargs)\n",
    "        return wrapper\n",
    "    return _autoargs"
   ]
  },
  {
   "cell_type": "code",
   "execution_count": 26,
   "metadata": {
    "collapsed": false
   },
   "outputs": [],
   "source": [
    "import numpy as np\n",
    "from sklearn.base import BaseEstimator, ClassifierMixin\n",
    "from sklearn.utils.validation import check_X_y, check_array, check_is_fitted\n",
    "from sklearn.exceptions import NotFittedError\n",
    "from sklearn.utils.multiclass import unique_labels\n",
    "\n",
    "class MiniBatchSGDClassifier(BaseEstimator, ClassifierMixin):\n",
    "    \"\"\"\n",
    "    Предполагается, что в выборке всегда 2 класса\n",
    "    \"\"\"\n",
    "    def __init__(self, C=1., alpha=0.1, max_epoch=10, batch_size=3, log_costs=False, random_state=None):\n",
    "        self.__dict__.update(locals())\n",
    "        del self.self\n",
    "        self._validate_params()\n",
    "        \n",
    "    def _validate_params(self):\n",
    "        if self.C <= 0:\n",
    "            raise ValueError(\"Penalty term C must be positive (set %f)\" % (self.C))\n",
    "        if self.alpha < 0:\n",
    "            raise ValueError(\"alpha must be >= 0 (set %f)\" % (self.alpha))\n",
    "        if self.max_epoch <= 0:\n",
    "            raise ValueError(\"max_epoch must be positive (set %d)\" % (self.max_epoch))\n",
    "        if self.batch_size <= 0:\n",
    "            raise ValueError(\"batch_size must be positive (set %d)\" % (self.batch_size))\n",
    "        if self.random_state is not None and (self.random_state < 0 \\\n",
    "                                               or self.random_state > 4294967295):\n",
    "            raise ValueError(\"random_state must be between 0 and 4294967295\");\n",
    "    \n",
    "    def _is_fitted(self, raise_exception=False):\n",
    "        try:\n",
    "            check_is_fitted(self, ['X_', 'y_'])\n",
    "            return True\n",
    "        except NotFittedError:\n",
    "            if raise_exception:\n",
    "                raise\n",
    "            return False\n",
    "        \n",
    "    def _sigmoid(self, z):\n",
    "        return 1.0 / (1.0 + np.exp(-z))\n",
    "    \n",
    "    def _cost_function(self, X, y, w):\n",
    "        cost = -np.average(np.log(self._sigmoid(y * np.dot(X, w.T))), axis=0)\n",
    "        L2_reg = (self.C / (2 * X.shape[0])) * np.sum(np.power(w, 2), axis=0)\n",
    "        return cost + L2_reg\n",
    "    \n",
    "    def _gradient(self, X, y, w):\n",
    "        grad = -np.average((y[:, np.newaxis] * X) * self._sigmoid(-y * np.dot(X, w.T))[:, np.newaxis],\n",
    "                           axis=0)\n",
    "        w[0] = 0\n",
    "        L2_reg = (self.C / X.shape[0]) * w\n",
    "        return grad + L2_reg\n",
    "    \n",
    "    def _get_batches(self, perm, batch_size):\n",
    "        batches_num = perm.shape[0] / batch_size + (1 if perm.shape[0] % batch_size else 0)\n",
    "        return np.array_split(perm, batches_num)\n",
    "\n",
    "    def fit(self, X, y):\n",
    "        # Check X and y and that X and y have correct shape\n",
    "        X, y = check_X_y(X, y)\n",
    "        \n",
    "        # Add column of ones to X (free terms)\n",
    "        X = np.c_[np.ones(X.shape[0]), X]\n",
    "        \n",
    "        # Check batch_size\n",
    "        if self.batch_size > X.shape[0]:\n",
    "            warnings.warn(\"Batch size is greater than number of samples in X, so it set to \\\n",
    "            number of samples in X\");\n",
    "            self.batch_size = X.shape[0]\n",
    "        \n",
    "        # Store the classes seen during fit\n",
    "        self.classes_ = unique_labels(y)\n",
    "        \n",
    "        # Check if there are exactly two classes\n",
    "        if self.classes_.shape[0] != 2:\n",
    "            raise ValueError(\"This classifier implemented only for two classes \\\n",
    "            (or check if y is a vector of two classes labels)\");\n",
    "        \n",
    "        # Convert y labels to +1 and -1\n",
    "        y = np.copy(y)\n",
    "        y[y == self.classes_[0]] = -1\n",
    "        y[y == self.classes_[1]] = 1\n",
    "        \n",
    "        # Seed random\n",
    "        np.random.seed(self.random_state)\n",
    "        \n",
    "        if not self._is_fitted():\n",
    "            self.weights_ = np.random.uniform(-1.0 / X.shape[1], 1.0 / X.shape[1], X.shape[1])\n",
    "        new_weights = np.copy(self.weights_)\n",
    "        self.costs_log_ = []\n",
    "        for epoch in xrange(self.max_epoch):\n",
    "            perm = np.random.permutation(X.shape[0])\n",
    "            for batch_n, batch in enumerate(self._get_batches(perm, self.batch_size), 1):\n",
    "                new_weights -= (self.alpha / (epoch + 1)) * self._gradient(X[batch], y[batch], \n",
    "                                                                           self.weights_)\n",
    "                self.weights_ = np.copy(new_weights)\n",
    "            if self.log_costs:\n",
    "                self.costs_log_.append(self._cost_function(X, y, self.weights_))\n",
    "        \n",
    "        self.X_ = X\n",
    "        self.y_ = y\n",
    "        print \"Fitted with params:\", self.get_params()\n",
    "        \n",
    "        return self\n",
    "    \n",
    "    def partial_fit(self, X, y):\n",
    "        '''\n",
    "        По желанию - метод дообучения модели на новых данных\n",
    "        '''\n",
    "        if not self._is_fitted():\n",
    "            warnings.warn(\"Model not fitted yet, so partial fit will be initial fit\\n\");\n",
    "            return self.fit(X, y)\n",
    "        # Check if number of features in additional dataset the same as while fitting the model\n",
    "        if X.shape[1] + 1 != self.X_.shape[1]:\n",
    "            raise ValueError(\"Additional dataset and initial fit dataset must have \\\n",
    "                             equal number of features\");\n",
    "        return self.fit(X, y)\n",
    "\n",
    "    def predict_proba(self, X):\n",
    "        # Check is fit had been called\n",
    "        self._is_fitted(raise_exception=True)\n",
    "        \n",
    "        # Input validation\n",
    "        X = check_array(X)\n",
    "        \n",
    "        # add column of ones\n",
    "        X = np.c_[np.ones(X.shape[0]), X]\n",
    "        \n",
    "        # build classes probabilities classes\n",
    "        y = np.zeros((X.shape[0], 2), dtype=np.float64)\n",
    "        y[:,1] = self._sigmoid(np.dot(X, self.weights_.T))\n",
    "        y[:,0] = 1.0 - y[:,1]\n",
    "        \n",
    "        return y\n",
    "    \n",
    "    def predict(self, X):\n",
    "        # Check is fit had been called\n",
    "        self._is_fitted(raise_exception=True)\n",
    "        \n",
    "        # Input validation\n",
    "        X = check_array(X)\n",
    "        \n",
    "        # add column of ones\n",
    "        X = np.c_[np.ones(X.shape[0]), X]\n",
    "        \n",
    "        # build classes predictions vector\n",
    "        y_hat = np.sign(np.dot(X, self.weights_.T))\n",
    "        y_hat[y_hat == -1] = self.classes_[0]\n",
    "        y_hat[y_hat == 1] = self.classes_[1]\n",
    "        \n",
    "        return y_hat"
   ]
  },
  {
   "cell_type": "markdown",
   "metadata": {},
   "source": [
    "## Проверка на синтетических данных (2 балл)"
   ]
  },
  {
   "cell_type": "markdown",
   "metadata": {},
   "source": [
    "Запустите ваш алгоритм на синтетических данных. \n",
    "Выведите полученные веса и нарисуйте разделяющую границу между классами."
   ]
  },
  {
   "cell_type": "code",
   "execution_count": 8,
   "metadata": {
    "collapsed": false
   },
   "outputs": [],
   "source": [
    "np.random.seed(42)\n",
    "\n",
    "C1 = np.array([[0., -0.8], [1.5, 0.8]])\n",
    "C2 = np.array([[1., -0.7], [2., 0.7]])\n",
    "gauss1_1 = np.dot(np.random.randn(200, 2) + np.array([-3, -1]), C1)\n",
    "gauss1_2 = np.dot(np.random.randn(200, 2) + np.array([5, 3]), C1)\n",
    "gauss2 = np.dot(np.random.randn(200, 2) + np.array([1.5, 0]), C2)\n",
    "\n",
    "X_1 = np.vstack([gauss1_1, gauss2])\n",
    "X_2 = np.vstack([gauss1_2, gauss2])\n",
    "y = np.r_[np.ones(200), np.zeros(200)]"
   ]
  },
  {
   "cell_type": "code",
   "execution_count": 9,
   "metadata": {
    "collapsed": false
   },
   "outputs": [
    {
     "name": "stdout",
     "output_type": "stream",
     "text": [
      "Fitted with params: {'C': 0.01, 'max_epoch': 100, 'batch_size': 3, 'random_state': 42, 'log_costs': False, 'alpha': 0.5}\n",
      "Weights: [-0.74667354 -1.51741203  2.84186083]\n",
      "Accuracy: 0.9875\n",
      "ROCAUC:   0.99985\n"
     ]
    },
    {
     "data": {
      "text/plain": [
       "[<matplotlib.lines.Line2D at 0xe2e6518>]"
      ]
     },
     "execution_count": 9,
     "metadata": {},
     "output_type": "execute_result"
    },
    {
     "data": {
      "image/png": "[encoded data removed]",
      "text/plain": [
       "<matplotlib.figure.Figure at 0xce9aa58>"
      ]
     },
     "metadata": {},
     "output_type": "display_data"
    }
   ],
   "source": [
    "clf_1 = MiniBatchSGDClassifier(C = 0.01, alpha=0.5, batch_size=3, max_epoch=100, random_state=42)\n",
    "clf_1.fit(X_1[:300,:],y[:300])\n",
    "print \"Weights:\", clf_1.weights_\n",
    "print \"Accuracy:\", accuracy_score(y, clf_1.predict(X_1))\n",
    "print \"ROCAUC:  \", roc_auc_score(y, clf_1.predict_proba(X_1)[:,1])\n",
    "\n",
    "plt.scatter(X_1[:,0], X_1[:,1], c=y)\n",
    "min_max = np.array([X_1[:,1].min(), X_1[:,1].max()])\n",
    "plt.plot(-(min_max * clf_1.weights_[2] + clf_1.weights_[0]) / clf_1.weights_[1], min_max)   "
   ]
  },
  {
   "cell_type": "code",
   "execution_count": 10,
   "metadata": {
    "collapsed": false
   },
   "outputs": [
    {
     "name": "stdout",
     "output_type": "stream",
     "text": [
      "Fitted with params: {'C': 0.01, 'max_epoch': 100, 'batch_size': 3, 'random_state': 42, 'log_costs': False, 'alpha': 0.5}\n",
      "Updated weights: [-1.70411346 -1.62192559  2.90377519]\n",
      "Accuracy: 0.9975\n",
      "ROCAUC:   0.99985\n"
     ]
    },
    {
     "data": {
      "text/plain": [
       "[<matplotlib.lines.Line2D at 0xe5dc2e8>]"
      ]
     },
     "execution_count": 10,
     "metadata": {},
     "output_type": "execute_result"
    },
    {
     "data": {
      "image/png": "[encoded data removed]",
      "text/plain": [
       "<matplotlib.figure.Figure at 0xe1e3c88>"
      ]
     },
     "metadata": {},
     "output_type": "display_data"
    }
   ],
   "source": [
    "clf_1.partial_fit(X_1[100:,:],y[100:])\n",
    "print \"Updated weights:\", clf_1.weights_\n",
    "print \"Accuracy:\", accuracy_score(y, clf_1.predict(X_1))\n",
    "print \"ROCAUC:  \", roc_auc_score(y, clf_1.predict_proba(X_1)[:,1])\n",
    "\n",
    "plt.scatter(X_1[:,0], X_1[:,1], c=y)\n",
    "min_max = np.array([X_1[:,1].min(), X_1[:,1].max()])\n",
    "plt.plot(-(min_max * clf_1.weights_[2] + clf_1.weights_[0]) / clf_1.weights_[1], min_max)  "
   ]
  },
  {
   "cell_type": "code",
   "execution_count": 11,
   "metadata": {
    "collapsed": false
   },
   "outputs": [
    {
     "name": "stdout",
     "output_type": "stream",
     "text": [
      "Fitted with params: {'C': 0.01, 'max_epoch': 100, 'batch_size': 3, 'random_state': 42, 'log_costs': False, 'alpha': 0.5}\n",
      "Weights: [-6.25909771  1.26000675 -1.451504  ]\n"
     ]
    },
    {
     "data": {
      "text/plain": [
       "[<matplotlib.lines.Line2D at 0xe92cac8>]"
      ]
     },
     "execution_count": 11,
     "metadata": {},
     "output_type": "execute_result"
    },
    {
     "data": {
      "image/png": "[encoded data removed]",
      "text/plain": [
       "<matplotlib.figure.Figure at 0xce9a898>"
      ]
     },
     "metadata": {},
     "output_type": "display_data"
    }
   ],
   "source": [
    "clf_2 = MiniBatchSGDClassifier(C = 0.01, alpha=0.5, batch_size=3, max_epoch=100, random_state=42)\n",
    "clf_2.fit(X_2,y)\n",
    "print \"Weights:\", clf_2.weights_\n",
    "\n",
    "plt.scatter(X_2[:,0], X_2[:,1], c=y)\n",
    "min_max = np.array([X_2[:,1].min(), X_2[:,1].max()])\n",
    "plt.plot(-(min_max * clf_2.weights_[2] + clf_2.weights_[0]) / clf_2.weights_[1], min_max)   "
   ]
  },
  {
   "cell_type": "markdown",
   "metadata": {},
   "source": [
    "## Анализ сходимости (2 балл)"
   ]
  },
  {
   "cell_type": "markdown",
   "metadata": {},
   "source": [
    "Покажите сходимость вашего метода: изобразите графики зависимости значения функции потерь (по всей выборке) после очередной итерации/батча/эпохи (выбрать одно) для разных `alpha`."
   ]
  },
  {
   "cell_type": "code",
   "execution_count": 12,
   "metadata": {
    "collapsed": false
   },
   "outputs": [
    {
     "name": "stdout",
     "output_type": "stream",
     "text": [
      "Fitted with params: {'C': 0.01, 'max_epoch': 100, 'batch_size': 3, 'random_state': 42, 'log_costs': True, 'alpha': 0.005}\n",
      "Fitted with params: {'C': 0.01, 'max_epoch': 100, 'batch_size': 3, 'random_state': 42, 'log_costs': True, 'alpha': 0.05}\n",
      "Fitted with params: {'C': 0.01, 'max_epoch': 100, 'batch_size': 3, 'random_state': 42, 'log_costs': True, 'alpha': 0.5}\n",
      "Fitted with params: {'C': 0.01, 'max_epoch': 100, 'batch_size': 3, 'random_state': 42, 'log_costs': True, 'alpha': 1.0}\n",
      "Fitted with params: {'C': 0.01, 'max_epoch': 100, 'batch_size': 3, 'random_state': 42, 'log_costs': True, 'alpha': 2.0}\n"
     ]
    },
    {
     "data": {
      "text/plain": [
       "<matplotlib.legend.Legend at 0xe7c7828>"
      ]
     },
     "execution_count": 12,
     "metadata": {},
     "output_type": "execute_result"
    },
    {
     "data": {
      "image/png": "[encoded data removed]",
      "text/plain": [
       "<matplotlib.figure.Figure at 0xe7c72b0>"
      ]
     },
     "metadata": {},
     "output_type": "display_data"
    }
   ],
   "source": [
    "for alpha in (0.005, 0.05, 0.5, 1.0, 2.0):\n",
    "    clf = MiniBatchSGDClassifier(C=0.01, alpha=alpha, max_epoch=100, batch_size=3,\n",
    "                                 log_costs=True, random_state=42).fit(X_1, y)\n",
    "    plt.plot(xrange(1, len(clf.costs_log_) + 1), clf.costs_log_, label=str(alpha))\n",
    "plt.xlabel(u'Epoch')\n",
    "plt.ylabel(u'Cost function value')\n",
    "plt.legend()"
   ]
  },
  {
   "cell_type": "markdown",
   "metadata": {},
   "source": [
    "Как видно из графика, при маленьких alpha алгоритм попадает в локальный минимум. При alpha = 0.5 достигается минимальная ошибка при увеличении числа эпох. Однако, выборка практически целиком линейно разделима, поэтому при более-менее удачных (больших) alpha достигается точность в почти 100%. Правило уменьшения alpha: cur_alpha = alpha/epoch - благодаря этому правилу мы не получаем \"блужданий\" при работа алгоритма."
   ]
  },
  {
   "cell_type": "markdown",
   "metadata": {},
   "source": [
    "# Введение в конкурсную задачу"
   ]
  },
  {
   "cell_type": "markdown",
   "metadata": {},
   "source": [
    "## О hearthstone"
   ]
  },
  {
   "cell_type": "markdown",
   "metadata": {},
   "source": [
    "[Hearthstone](http://eu.battle.net/hearthstone/ru/) - карточная он-лайн игра по мотивам вселенной Warcraft.\n",
    "\n",
    "Каждый игрок играет за персонажа определенного класса и собирает колоду карт которую может разыгрывать во время игры. Для дальнейших деталей обратитесь к [wiki](https://ru.wikipedia.org/wiki/Hearthstone), посмотрите youtube или поиграйте сами (но не долго =) ).\n",
    "\n",
    "Теми или иными способами игрок может отнимать жизни у своего оппонента, таким образом цель раунда - побить другого игрока."
   ]
  },
  {
   "cell_type": "markdown",
   "metadata": {},
   "source": [
    "<center><img src='http://ps3hits.ru/wp-content/uploads/2015/08/hearthstone-game-sshot-1.jpg'></center>"
   ]
  },
  {
   "cell_type": "markdown",
   "metadata": {},
   "source": [
    "## Постановка задачи"
   ]
  },
  {
   "cell_type": "markdown",
   "metadata": {},
   "source": [
    "В рамках конференции [AAIA 17](https://fedcsis.org/2017/aaia) было запущено [соревнование](https://knowledgepit.fedcsis.org/contest/view.php?id=120) по предсказанию исхода раунда в heartstone. \n",
    "\n",
    "Используя признаки, которые описывают текущее состояние раунда необходимо предсказать **вероятность** победы игрока в этом раунде.\n",
    "\n",
    "Качество модели измеряется с помощью **ROC-AUC**\n",
    "\n",
    "### Правила\n",
    "* Объединяться в команды по правилам конкурса можно, но по правилам нашего курса - нельзя)\n",
    "* Вы можете использовать любой алгоритм, даже неизученный в нашем курсе (если на защите сможете объяснить как он работает)\n",
    "* Имейте ввиду, что вы должны отправить результаты строго до 14 мая 23:59 GMT на сайт соревнования (раздел submission). Без результата в leaderboard оценка выставлена не будет."
   ]
  },
  {
   "cell_type": "markdown",
   "metadata": {},
   "source": [
    "## Данные\n",
    "\n",
    "Для того, чтобы получить данные необходимо зарегистрироваться на сайте соревнования. \n",
    "\n",
    "Данные содержат набор информации о раунде в некоторый момент времени: жизни игрока и оппонента, номер хода, карты на столе, карты в руке игрока, количество карт в руке оппонента и тп.<br/>\n",
    "По игроку №1 (далее просто **игрок**) помимо всего прочего известен набор карт \"в руке\".</br>\n",
    "По игроку №2 (далее просто **оппонент**) эта информация отсутствует.</br>\n",
    "\n",
    "\n",
    "Данные поставляются в двух форматах:\n",
    "* В формате json содержится полная информация по текущему состоянию раунда\n",
    "* В табличном формате упрощенная аггрерированная информация по текущему состоянию раунда\n",
    "\n",
    "В данных для обучению содержится 2 млн. игр, разбитых на 4 файла. Названия признаков говорят сами за себя.\n",
    "Целевой признак - `decision` (1 - победил игрок, 0 - победил оппонент)."
   ]
  },
  {
   "cell_type": "markdown",
   "metadata": {},
   "source": [
    "## Работа с простыми табличными данными (1 балл)\n",
    "\n",
    "По соображениям сокращения времени вычислений, проделаем основные шаги по одной части данных.\n",
    "\n",
    "Если данные не будут помещаться вам с оперативную память, рекомендуется совершить предобработку в python, а  моделирование выполнять с помощью [vowpal wabbit](https://github.com/JohnLangford/vowpal_wabbit)."
   ]
  },
  {
   "cell_type": "markdown",
   "metadata": {},
   "source": [
    "Загружаем все тренировочные данные"
   ]
  },
  {
   "cell_type": "code",
   "execution_count": 30,
   "metadata": {
    "collapsed": false
   },
   "outputs": [
    {
     "name": "stdout",
     "output_type": "stream",
     "text": [
      "Training data shape:  (2000000, 44)\n",
      "Classes distribution: 0.5047995\n"
     ]
    }
   ],
   "source": [
    "# load all training data from all 4 chunks\n",
    "df_list = []\n",
    "for chunk in xrange(1,5):\n",
    "    filepath = './csv/trainingData_tabular_chunk%d.csv' % chunk\n",
    "    df_list.append(pd.read_csv(filepath, sep=','))\n",
    "\n",
    "df_train_data = pd.concat(df_list)\n",
    "\n",
    "# for better usage of training data\n",
    "df_train_data.columns = df_train_data.columns.str.replace('.', '_')\n",
    "df_train_data = df_train_data.set_index('gamestate_id')\n",
    "\n",
    "# collect garbage due to memory economy\n",
    "del df_list\n",
    "gc.collect()\n",
    "\n",
    "print \"Training data shape: \", df_train_data.shape\n",
    "print \"Classes distribution:\", df_train_data.decision.mean()\n",
    "#df_train_data.head().T"
   ]
  },
  {
   "cell_type": "markdown",
   "metadata": {},
   "source": [
    "#### Задание\n",
    "\n",
    "* Определите количество уникальных карт героя у игрока и оппонента.\n",
    "* Преобразуйте категориальные переменные с помощьб one-hot кодирования, добавьте к датасету и удалите прежние столбцы"
   ]
  },
  {
   "cell_type": "markdown",
   "metadata": {},
   "source": [
    "Категориальные признаки - это player_hero_card_id и opponent_hero_card_id.</br>\n",
    "Проверка ниже показала, все возможные значения категориальных переменных содержатся в тренировочном наборе и множества этих значений в тренировочном и тестовом наборах совпадают."
   ]
  },
  {
   "cell_type": "code",
   "execution_count": 31,
   "metadata": {
    "collapsed": false
   },
   "outputs": [],
   "source": [
    "#print set(df_train_data.player_hero_card_id.unique()) - set(df_test_data.player_hero_card_id.unique())\n",
    "#print set(df_train_data.opponent_hero_card_id.unique()) - set(df_test_data.opponent_hero_card_id.unique())"
   ]
  },
  {
   "cell_type": "markdown",
   "metadata": {},
   "source": [
    "Определим количество уникальных карт героя у игрока и оппонента, а также эти карты:"
   ]
  },
  {
   "cell_type": "code",
   "execution_count": 32,
   "metadata": {
    "collapsed": false
   },
   "outputs": [
    {
     "name": "stdout",
     "output_type": "stream",
     "text": [
      "Player`s unique cards: [ 981  754  612  494   25 1235  326  390  798]\n",
      "Player`s unique cards count: 9\n",
      "Opponent`s unique cards: [ 798  754  612  390   25 1235  494  981  326]\n",
      "Opponent`s unique cards count: 9\n"
     ]
    }
   ],
   "source": [
    "player_cards = df_train_data.player_hero_card_id.unique()\n",
    "opponent_cards = df_train_data.opponent_hero_card_id.unique()\n",
    "print \"Player`s unique cards:\", player_cards\n",
    "print \"Player`s unique cards count:\", player_cards.shape[0]\n",
    "print \"Opponent`s unique cards:\", opponent_cards\n",
    "print \"Opponent`s unique cards count:\", opponent_cards.shape[0]"
   ]
  },
  {
   "cell_type": "markdown",
   "metadata": {},
   "source": [
    "Векторизуем с помощью OneHotEncoder категориальные признаки, добавим их в датасет, и удалим старые признаки."
   ]
  },
  {
   "cell_type": "code",
   "execution_count": 33,
   "metadata": {
    "collapsed": true
   },
   "outputs": [],
   "source": [
    "player_columns = [\"player_hero_card_id_\" + \"%d\" % n for n in xrange(1, player_cards.shape[0] + 1)]\n",
    "opponent_columns = [\"opponent_hero_card_id_\" + \"%d\" % n for n in xrange(1, opponent_cards.shape[0] + 1)]"
   ]
  },
  {
   "cell_type": "code",
   "execution_count": 34,
   "metadata": {
    "collapsed": false
   },
   "outputs": [
    {
     "name": "stdout",
     "output_type": "stream",
     "text": [
      "New training data shape is: (2000000, 60)\n"
     ]
    },
    {
     "data": {
      "text/plain": [
       "14"
      ]
     },
     "execution_count": 34,
     "metadata": {},
     "output_type": "execute_result"
    }
   ],
   "source": [
    "player_values_train = OneHotEncoder().fit_transform(\n",
    "    df_train_data.player_hero_card_id.values.reshape(-1, 1)).toarray().astype(int)\n",
    "opponent_values_train = OneHotEncoder().fit_transform(\n",
    "    df_train_data.opponent_hero_card_id.values.reshape(-1, 1)).toarray().astype(int)\n",
    "df_train_data = pd.concat([df_train_data,\n",
    "                           pd.DataFrame(player_values_train, columns=player_columns,\n",
    "                                        index=df_train_data.index),\n",
    "                           pd.DataFrame(opponent_values_train, columns=opponent_columns,\n",
    "                                        index=df_train_data.index)],\n",
    "                           axis=1)\n",
    "\n",
    "# drop old features\n",
    "df_train_data.drop(['opponent_hero_card_id', 'player_hero_card_id'], axis=1, inplace=True)\n",
    "print \"New training data shape is:\", df_train_data.shape\n",
    "\n",
    "# collect garbage due to memory economy\n",
    "del player_values_train\n",
    "del opponent_values_train\n",
    "gc.collect()\n",
    "\n",
    "#df_train_data.head().T"
   ]
  },
  {
   "cell_type": "markdown",
   "metadata": {},
   "source": [
    "## Обучение модели (1 балл)"
   ]
  },
  {
   "cell_type": "markdown",
   "metadata": {},
   "source": [
    "#### Задание\n",
    "\n",
    "* Получите матрицу объект признак `X` и вектор целевого признака `y`\n",
    "* Обучите модуль из первой части этого ДЗ на данных"
   ]
  },
  {
   "cell_type": "markdown",
   "metadata": {},
   "source": [
    "Получаем матрицу наблюдений X и вектор целевого признака y"
   ]
  },
  {
   "cell_type": "code",
   "execution_count": 35,
   "metadata": {
    "collapsed": false
   },
   "outputs": [
    {
     "name": "stdout",
     "output_type": "stream",
     "text": [
      "(2000000L, 59L) (2000000L,)\n"
     ]
    },
    {
     "data": {
      "text/plain": [
       "34"
      ]
     },
     "execution_count": 35,
     "metadata": {},
     "output_type": "execute_result"
    }
   ],
   "source": [
    "X = df_train_data.iloc[:,1:].values\n",
    "y = df_train_data.iloc[:,0].values\n",
    "print X.shape, y.shape\n",
    "\n",
    "# collect garbage due to memory economy\n",
    "del df_train_data\n",
    "gc.collect()"
   ]
  },
  {
   "cell_type": "markdown",
   "metadata": {},
   "source": [
    "Нормализуем данные:"
   ]
  },
  {
   "cell_type": "code",
   "execution_count": 36,
   "metadata": {
    "collapsed": false
   },
   "outputs": [
    {
     "data": {
      "text/plain": [
       "array([[ 1.16292076, -0.25878141, -0.2706061 , -1.93569616, -0.27062792],\n",
       "       [-0.39967732, -0.25878141, -0.2706061 ,  0.08838259, -0.27062792],\n",
       "       [-0.84613392,  2.56170396, -0.2706061 ,  0.92182678, -0.27062792],\n",
       "       [-0.17644902, -0.25878141, -0.2706061 ,  0.56463641, -0.27062792],\n",
       "       [ 0.93969247, -0.25878141, -0.2706061 ,  1.04089024, -0.27062792],\n",
       "       [ 0.93969247, -0.25878141, -0.2706061 ,  0.56463641, -0.27062792],\n",
       "       [ 0.04677928, -0.25878141, -0.2706061 , -0.14974432, -0.27062792],\n",
       "       [-1.51581881, -0.25878141, -0.2706061 ,  1.04089024, -0.27062792],\n",
       "       [ 0.71646417,  1.62154217, -0.2706061 , -0.38787123, -0.27062792],\n",
       "       [ 0.27000757, -0.25878141, -0.2706061 , -0.62599815, -0.27062792]])"
      ]
     },
     "execution_count": 36,
     "metadata": {},
     "output_type": "execute_result"
    }
   ],
   "source": [
    "X = StandardScaler().fit_transform(X)\n",
    "\n",
    "# collect garbage due to memory economy\n",
    "gc.collect()\n",
    "\n",
    "X[:10,:5]"
   ]
  },
  {
   "cell_type": "markdown",
   "metadata": {},
   "source": [
    "Разбиваем тренировочные данные на небольшие обучающую и тестовую подвыборки:"
   ]
  },
  {
   "cell_type": "code",
   "execution_count": 37,
   "metadata": {
    "collapsed": false
   },
   "outputs": [
    {
     "name": "stdout",
     "output_type": "stream",
     "text": [
      "Shapes: (15000L, 59L) (5000L, 59L) (15000L,) (5000L,)\n",
      "Train classes distribution: 0.5048\n",
      "Test classes distribution:  0.5048\n"
     ]
    },
    {
     "data": {
      "text/plain": [
       "0"
      ]
     },
     "execution_count": 37,
     "metadata": {},
     "output_type": "execute_result"
    }
   ],
   "source": [
    "X_train, X_test, y_train, y_test = train_test_split(X, y, train_size=0.0075, test_size=0.0025,\n",
    "                                                    stratify=y, random_state=42)\n",
    "print \"Shapes:\", X_train.shape, X_test.shape, y_train.shape, y_test.shape\n",
    "print \"Train classes distribution:\", y_train.mean()\n",
    "print \"Test classes distribution: \", y_test.mean()\n",
    "\n",
    "# collect garbage due to memory economy\n",
    "gc.collect()"
   ]
  },
  {
   "cell_type": "markdown",
   "metadata": {},
   "source": [
    "Подбираем наилучшие параметры модели с помощью GridSearchCV:"
   ]
  },
  {
   "cell_type": "code",
   "execution_count": 21,
   "metadata": {
    "collapsed": false
   },
   "outputs": [
    {
     "name": "stdout",
     "output_type": "stream",
     "text": [
      "Fitted with params: {'C': 0.01, 'max_epoch': 100, 'batch_size': 2, 'random_state': 42, 'log_costs': False, 'alpha': 0.05}\n",
      "Fitted with params: {'C': 0.01, 'max_epoch': 100, 'batch_size': 2, 'random_state': 42, 'log_costs': False, 'alpha': 0.05}\n",
      "Fitted with params: {'C': 0.01, 'max_epoch': 100, 'batch_size': 2, 'random_state': 42, 'log_costs': False, 'alpha': 0.05}\n",
      "Fitted with params: {'C': 0.01, 'max_epoch': 100, 'batch_size': 2, 'random_state': 42, 'log_costs': False, 'alpha': 0.05}\n",
      "Fitted with params: {'C': 0.01, 'max_epoch': 100, 'batch_size': 2, 'random_state': 42, 'log_costs': False, 'alpha': 0.05}\n",
      "Fitted with params: {'C': 0.01, 'max_epoch': 100, 'batch_size': 3, 'random_state': 42, 'log_costs': False, 'alpha': 0.05}\n",
      "Fitted with params: {'C': 0.01, 'max_epoch': 100, 'batch_size': 3, 'random_state': 42, 'log_costs': False, 'alpha': 0.05}\n",
      "Fitted with params: {'C': 0.01, 'max_epoch': 100, 'batch_size': 3, 'random_state': 42, 'log_costs': False, 'alpha': 0.05}\n",
      "Fitted with params: {'C': 0.01, 'max_epoch': 100, 'batch_size': 3, 'random_state': 42, 'log_costs': False, 'alpha': 0.05}\n",
      "Fitted with params: {'C': 0.01, 'max_epoch': 100, 'batch_size': 3, 'random_state': 42, 'log_costs': False, 'alpha': 0.05}\n",
      "Fitted with params: {'C': 0.01, 'max_epoch': 100, 'batch_size': 5, 'random_state': 42, 'log_costs': False, 'alpha': 0.05}\n",
      "Fitted with params: {'C': 0.01, 'max_epoch': 100, 'batch_size': 5, 'random_state': 42, 'log_costs': False, 'alpha': 0.05}\n",
      "Fitted with params: {'C': 0.01, 'max_epoch': 100, 'batch_size': 5, 'random_state': 42, 'log_costs': False, 'alpha': 0.05}\n",
      "Fitted with params: {'C': 0.01, 'max_epoch': 100, 'batch_size': 5, 'random_state': 42, 'log_costs': False, 'alpha': 0.05}\n",
      "Fitted with params: {'C': 0.01, 'max_epoch': 100, 'batch_size': 5, 'random_state': 42, 'log_costs': False, 'alpha': 0.05}\n",
      "Fitted with params: {'C': 0.01, 'max_epoch': 100, 'batch_size': 10, 'random_state': 42, 'log_costs': False, 'alpha': 0.05}\n",
      "Fitted with params: {'C': 0.01, 'max_epoch': 100, 'batch_size': 10, 'random_state': 42, 'log_costs': False, 'alpha': 0.05}\n",
      "Fitted with params: {'C': 0.01, 'max_epoch': 100, 'batch_size': 10, 'random_state': 42, 'log_costs': False, 'alpha': 0.05}\n",
      "Fitted with params: {'C': 0.01, 'max_epoch': 100, 'batch_size': 10, 'random_state': 42, 'log_costs': False, 'alpha': 0.05}\n",
      "Fitted with params: {'C': 0.01, 'max_epoch': 100, 'batch_size': 10, 'random_state': 42, 'log_costs': False, 'alpha': 0.05}\n",
      "Fitted with params: {'C': 0.01, 'max_epoch': 100, 'batch_size': 2, 'random_state': 42, 'log_costs': False, 'alpha': 0.5}\n",
      "Fitted with params: {'C': 0.01, 'max_epoch': 100, 'batch_size': 2, 'random_state': 42, 'log_costs': False, 'alpha': 0.5}\n",
      "Fitted with params: {'C': 0.01, 'max_epoch': 100, 'batch_size': 2, 'random_state': 42, 'log_costs': False, 'alpha': 0.5}\n",
      "Fitted with params: {'C': 0.01, 'max_epoch': 100, 'batch_size': 2, 'random_state': 42, 'log_costs': False, 'alpha': 0.5}\n",
      "Fitted with params: {'C': 0.01, 'max_epoch': 100, 'batch_size': 2, 'random_state': 42, 'log_costs': False, 'alpha': 0.5}\n",
      "Fitted with params: {'C': 0.01, 'max_epoch': 100, 'batch_size': 3, 'random_state': 42, 'log_costs': False, 'alpha': 0.5}\n",
      "Fitted with params: {'C': 0.01, 'max_epoch': 100, 'batch_size': 3, 'random_state': 42, 'log_costs': False, 'alpha': 0.5}\n",
      "Fitted with params: {'C': 0.01, 'max_epoch': 100, 'batch_size': 3, 'random_state': 42, 'log_costs': False, 'alpha': 0.5}\n",
      "Fitted with params: {'C': 0.01, 'max_epoch': 100, 'batch_size': 3, 'random_state': 42, 'log_costs': False, 'alpha': 0.5}\n",
      "Fitted with params: {'C': 0.01, 'max_epoch': 100, 'batch_size': 3, 'random_state': 42, 'log_costs': False, 'alpha': 0.5}\n",
      "Fitted with params: {'C': 0.01, 'max_epoch': 100, 'batch_size': 5, 'random_state': 42, 'log_costs': False, 'alpha': 0.5}\n",
      "Fitted with params: {'C': 0.01, 'max_epoch': 100, 'batch_size': 5, 'random_state': 42, 'log_costs': False, 'alpha': 0.5}\n",
      "Fitted with params: {'C': 0.01, 'max_epoch': 100, 'batch_size': 5, 'random_state': 42, 'log_costs': False, 'alpha': 0.5}\n",
      "Fitted with params: {'C': 0.01, 'max_epoch': 100, 'batch_size': 5, 'random_state': 42, 'log_costs': False, 'alpha': 0.5}\n",
      "Fitted with params: {'C': 0.01, 'max_epoch': 100, 'batch_size': 5, 'random_state': 42, 'log_costs': False, 'alpha': 0.5}\n",
      "Fitted with params: {'C': 0.01, 'max_epoch': 100, 'batch_size': 10, 'random_state': 42, 'log_costs': False, 'alpha': 0.5}\n",
      "Fitted with params: {'C': 0.01, 'max_epoch': 100, 'batch_size': 10, 'random_state': 42, 'log_costs': False, 'alpha': 0.5}\n",
      "Fitted with params: {'C': 0.01, 'max_epoch': 100, 'batch_size': 10, 'random_state': 42, 'log_costs': False, 'alpha': 0.5}\n",
      "Fitted with params: {'C': 0.01, 'max_epoch': 100, 'batch_size': 10, 'random_state': 42, 'log_costs': False, 'alpha': 0.5}\n",
      "Fitted with params: {'C': 0.01, 'max_epoch': 100, 'batch_size': 10, 'random_state': 42, 'log_costs': False, 'alpha': 0.5}\n"
     ]
    },
    {
     "name": "stderr",
     "output_type": "stream",
     "text": [
      "C:\\Dev\\Python\\2\\Anaconda2\\lib\\site-packages\\ipykernel\\__main__.py:38: RuntimeWarning: overflow encountered in exp\n"
     ]
    },
    {
     "name": "stdout",
     "output_type": "stream",
     "text": [
      "Fitted with params: {'C': 0.01, 'max_epoch': 100, 'batch_size': 2, 'random_state': 42, 'log_costs': False, 'alpha': 1.0}\n",
      "Fitted with params: {'C': 0.01, 'max_epoch': 100, 'batch_size': 2, 'random_state': 42, 'log_costs': False, 'alpha': 1.0}\n",
      "Fitted with params: {'C': 0.01, 'max_epoch': 100, 'batch_size': 2, 'random_state': 42, 'log_costs': False, 'alpha': 1.0}\n",
      "Fitted with params: {'C': 0.01, 'max_epoch': 100, 'batch_size': 2, 'random_state': 42, 'log_costs': False, 'alpha': 1.0}\n",
      "Fitted with params: {'C': 0.01, 'max_epoch': 100, 'batch_size': 2, 'random_state': 42, 'log_costs': False, 'alpha': 1.0}\n",
      "Fitted with params: {'C': 0.01, 'max_epoch': 100, 'batch_size': 3, 'random_state': 42, 'log_costs': False, 'alpha': 1.0}\n",
      "Fitted with params: {'C': 0.01, 'max_epoch': 100, 'batch_size': 3, 'random_state': 42, 'log_costs': False, 'alpha': 1.0}\n",
      "Fitted with params: {'C': 0.01, 'max_epoch': 100, 'batch_size': 3, 'random_state': 42, 'log_costs': False, 'alpha': 1.0}\n",
      "Fitted with params: {'C': 0.01, 'max_epoch': 100, 'batch_size': 3, 'random_state': 42, 'log_costs': False, 'alpha': 1.0}\n",
      "Fitted with params: {'C': 0.01, 'max_epoch': 100, 'batch_size': 3, 'random_state': 42, 'log_costs': False, 'alpha': 1.0}\n",
      "Fitted with params: {'C': 0.01, 'max_epoch': 100, 'batch_size': 5, 'random_state': 42, 'log_costs': False, 'alpha': 1.0}\n",
      "Fitted with params: {'C': 0.01, 'max_epoch': 100, 'batch_size': 5, 'random_state': 42, 'log_costs': False, 'alpha': 1.0}\n",
      "Fitted with params: {'C': 0.01, 'max_epoch': 100, 'batch_size': 5, 'random_state': 42, 'log_costs': False, 'alpha': 1.0}\n",
      "Fitted with params: {'C': 0.01, 'max_epoch': 100, 'batch_size': 5, 'random_state': 42, 'log_costs': False, 'alpha': 1.0}\n",
      "Fitted with params: {'C': 0.01, 'max_epoch': 100, 'batch_size': 5, 'random_state': 42, 'log_costs': False, 'alpha': 1.0}\n",
      "Fitted with params: {'C': 0.01, 'max_epoch': 100, 'batch_size': 10, 'random_state': 42, 'log_costs': False, 'alpha': 1.0}\n",
      "Fitted with params: {'C': 0.01, 'max_epoch': 100, 'batch_size': 10, 'random_state': 42, 'log_costs': False, 'alpha': 1.0}\n",
      "Fitted with params: {'C': 0.01, 'max_epoch': 100, 'batch_size': 10, 'random_state': 42, 'log_costs': False, 'alpha': 1.0}\n",
      "Fitted with params: {'C': 0.01, 'max_epoch': 100, 'batch_size': 10, 'random_state': 42, 'log_costs': False, 'alpha': 1.0}\n",
      "Fitted with params: {'C': 0.01, 'max_epoch': 100, 'batch_size': 10, 'random_state': 42, 'log_costs': False, 'alpha': 1.0}\n",
      "Fitted with params: {'C': 0.01, 'max_epoch': 100, 'batch_size': 2, 'random_state': 42, 'log_costs': False, 'alpha': 2.0}\n",
      "Fitted with params: {'C': 0.01, 'max_epoch': 100, 'batch_size': 2, 'random_state': 42, 'log_costs': False, 'alpha': 2.0}\n",
      "Fitted with params: {'C': 0.01, 'max_epoch': 100, 'batch_size': 2, 'random_state': 42, 'log_costs': False, 'alpha': 2.0}\n",
      "Fitted with params: {'C': 0.01, 'max_epoch': 100, 'batch_size': 2, 'random_state': 42, 'log_costs': False, 'alpha': 2.0}\n",
      "Fitted with params: {'C': 0.01, 'max_epoch': 100, 'batch_size': 2, 'random_state': 42, 'log_costs': False, 'alpha': 2.0}\n",
      "Fitted with params: {'C': 0.01, 'max_epoch': 100, 'batch_size': 3, 'random_state': 42, 'log_costs': False, 'alpha': 2.0}\n",
      "Fitted with params: {'C': 0.01, 'max_epoch': 100, 'batch_size': 3, 'random_state': 42, 'log_costs': False, 'alpha': 2.0}\n",
      "Fitted with params: {'C': 0.01, 'max_epoch': 100, 'batch_size': 3, 'random_state': 42, 'log_costs': False, 'alpha': 2.0}\n",
      "Fitted with params: {'C': 0.01, 'max_epoch': 100, 'batch_size': 3, 'random_state': 42, 'log_costs': False, 'alpha': 2.0}\n",
      "Fitted with params: {'C': 0.01, 'max_epoch': 100, 'batch_size': 3, 'random_state': 42, 'log_costs': False, 'alpha': 2.0}\n",
      "Fitted with params: {'C': 0.01, 'max_epoch': 100, 'batch_size': 5, 'random_state': 42, 'log_costs': False, 'alpha': 2.0}\n",
      "Fitted with params: {'C': 0.01, 'max_epoch': 100, 'batch_size': 5, 'random_state': 42, 'log_costs': False, 'alpha': 2.0}\n",
      "Fitted with params: {'C': 0.01, 'max_epoch': 100, 'batch_size': 5, 'random_state': 42, 'log_costs': False, 'alpha': 2.0}\n",
      "Fitted with params: {'C': 0.01, 'max_epoch': 100, 'batch_size': 5, 'random_state': 42, 'log_costs': False, 'alpha': 2.0}\n",
      "Fitted with params: {'C': 0.01, 'max_epoch': 100, 'batch_size': 5, 'random_state': 42, 'log_costs': False, 'alpha': 2.0}\n",
      "Fitted with params: {'C': 0.01, 'max_epoch': 100, 'batch_size': 10, 'random_state': 42, 'log_costs': False, 'alpha': 2.0}\n",
      "Fitted with params: {'C': 0.01, 'max_epoch': 100, 'batch_size': 10, 'random_state': 42, 'log_costs': False, 'alpha': 2.0}\n",
      "Fitted with params: {'C': 0.01, 'max_epoch': 100, 'batch_size': 10, 'random_state': 42, 'log_costs': False, 'alpha': 2.0}\n",
      "Fitted with params: {'C': 0.01, 'max_epoch': 100, 'batch_size': 10, 'random_state': 42, 'log_costs': False, 'alpha': 2.0}\n",
      "Fitted with params: {'C': 0.01, 'max_epoch': 100, 'batch_size': 10, 'random_state': 42, 'log_costs': False, 'alpha': 2.0}\n",
      "Fitted with params: {'C': 0.1, 'max_epoch': 100, 'batch_size': 2, 'random_state': 42, 'log_costs': False, 'alpha': 0.05}\n",
      "Fitted with params: {'C': 0.1, 'max_epoch': 100, 'batch_size': 2, 'random_state': 42, 'log_costs': False, 'alpha': 0.05}\n",
      "Fitted with params: {'C': 0.1, 'max_epoch': 100, 'batch_size': 2, 'random_state': 42, 'log_costs': False, 'alpha': 0.05}\n",
      "Fitted with params: {'C': 0.1, 'max_epoch': 100, 'batch_size': 2, 'random_state': 42, 'log_costs': False, 'alpha': 0.05}\n",
      "Fitted with params: {'C': 0.1, 'max_epoch': 100, 'batch_size': 2, 'random_state': 42, 'log_costs': False, 'alpha': 0.05}\n",
      "Fitted with params: {'C': 0.1, 'max_epoch': 100, 'batch_size': 3, 'random_state': 42, 'log_costs': False, 'alpha': 0.05}\n",
      "Fitted with params: {'C': 0.1, 'max_epoch': 100, 'batch_size': 3, 'random_state': 42, 'log_costs': False, 'alpha': 0.05}\n",
      "Fitted with params: {'C': 0.1, 'max_epoch': 100, 'batch_size': 3, 'random_state': 42, 'log_costs': False, 'alpha': 0.05}\n",
      "Fitted with params: {'C': 0.1, 'max_epoch': 100, 'batch_size': 3, 'random_state': 42, 'log_costs': False, 'alpha': 0.05}\n",
      "Fitted with params: {'C': 0.1, 'max_epoch': 100, 'batch_size': 3, 'random_state': 42, 'log_costs': False, 'alpha': 0.05}\n",
      "Fitted with params: {'C': 0.1, 'max_epoch': 100, 'batch_size': 5, 'random_state': 42, 'log_costs': False, 'alpha': 0.05}\n",
      "Fitted with params: {'C': 0.1, 'max_epoch': 100, 'batch_size': 5, 'random_state': 42, 'log_costs': False, 'alpha': 0.05}\n",
      "Fitted with params: {'C': 0.1, 'max_epoch': 100, 'batch_size': 5, 'random_state': 42, 'log_costs': False, 'alpha': 0.05}\n",
      "Fitted with params: {'C': 0.1, 'max_epoch': 100, 'batch_size': 5, 'random_state': 42, 'log_costs': False, 'alpha': 0.05}\n",
      "Fitted with params: {'C': 0.1, 'max_epoch': 100, 'batch_size': 5, 'random_state': 42, 'log_costs': False, 'alpha': 0.05}\n",
      "Fitted with params: {'C': 0.1, 'max_epoch': 100, 'batch_size': 10, 'random_state': 42, 'log_costs': False, 'alpha': 0.05}\n",
      "Fitted with params: {'C': 0.1, 'max_epoch': 100, 'batch_size': 10, 'random_state': 42, 'log_costs': False, 'alpha': 0.05}\n",
      "Fitted with params: {'C': 0.1, 'max_epoch': 100, 'batch_size': 10, 'random_state': 42, 'log_costs': False, 'alpha': 0.05}\n",
      "Fitted with params: {'C': 0.1, 'max_epoch': 100, 'batch_size': 10, 'random_state': 42, 'log_costs': False, 'alpha': 0.05}\n",
      "Fitted with params: {'C': 0.1, 'max_epoch': 100, 'batch_size': 10, 'random_state': 42, 'log_costs': False, 'alpha': 0.05}\n",
      "Fitted with params: {'C': 0.1, 'max_epoch': 100, 'batch_size': 2, 'random_state': 42, 'log_costs': False, 'alpha': 0.5}\n",
      "Fitted with params: {'C': 0.1, 'max_epoch': 100, 'batch_size': 2, 'random_state': 42, 'log_costs': False, 'alpha': 0.5}\n",
      "Fitted with params: {'C': 0.1, 'max_epoch': 100, 'batch_size': 2, 'random_state': 42, 'log_costs': False, 'alpha': 0.5}\n",
      "Fitted with params: {'C': 0.1, 'max_epoch': 100, 'batch_size': 2, 'random_state': 42, 'log_costs': False, 'alpha': 0.5}\n",
      "Fitted with params: {'C': 0.1, 'max_epoch': 100, 'batch_size': 2, 'random_state': 42, 'log_costs': False, 'alpha': 0.5}\n",
      "Fitted with params: {'C': 0.1, 'max_epoch': 100, 'batch_size': 3, 'random_state': 42, 'log_costs': False, 'alpha': 0.5}\n",
      "Fitted with params: {'C': 0.1, 'max_epoch': 100, 'batch_size': 3, 'random_state': 42, 'log_costs': False, 'alpha': 0.5}\n",
      "Fitted with params: {'C': 0.1, 'max_epoch': 100, 'batch_size': 3, 'random_state': 42, 'log_costs': False, 'alpha': 0.5}\n",
      "Fitted with params: {'C': 0.1, 'max_epoch': 100, 'batch_size': 3, 'random_state': 42, 'log_costs': False, 'alpha': 0.5}\n",
      "Fitted with params: {'C': 0.1, 'max_epoch': 100, 'batch_size': 3, 'random_state': 42, 'log_costs': False, 'alpha': 0.5}\n",
      "Fitted with params: {'C': 0.1, 'max_epoch': 100, 'batch_size': 5, 'random_state': 42, 'log_costs': False, 'alpha': 0.5}\n",
      "Fitted with params: {'C': 0.1, 'max_epoch': 100, 'batch_size': 5, 'random_state': 42, 'log_costs': False, 'alpha': 0.5}\n",
      "Fitted with params: {'C': 0.1, 'max_epoch': 100, 'batch_size': 5, 'random_state': 42, 'log_costs': False, 'alpha': 0.5}\n",
      "Fitted with params: {'C': 0.1, 'max_epoch': 100, 'batch_size': 5, 'random_state': 42, 'log_costs': False, 'alpha': 0.5}\n",
      "Fitted with params: {'C': 0.1, 'max_epoch': 100, 'batch_size': 5, 'random_state': 42, 'log_costs': False, 'alpha': 0.5}\n",
      "Fitted with params: {'C': 0.1, 'max_epoch': 100, 'batch_size': 10, 'random_state': 42, 'log_costs': False, 'alpha': 0.5}\n",
      "Fitted with params: {'C': 0.1, 'max_epoch': 100, 'batch_size': 10, 'random_state': 42, 'log_costs': False, 'alpha': 0.5}\n",
      "Fitted with params: {'C': 0.1, 'max_epoch': 100, 'batch_size': 10, 'random_state': 42, 'log_costs': False, 'alpha': 0.5}\n",
      "Fitted with params: {'C': 0.1, 'max_epoch': 100, 'batch_size': 10, 'random_state': 42, 'log_costs': False, 'alpha': 0.5}\n",
      "Fitted with params: {'C': 0.1, 'max_epoch': 100, 'batch_size': 10, 'random_state': 42, 'log_costs': False, 'alpha': 0.5}\n",
      "Fitted with params: {'C': 0.1, 'max_epoch': 100, 'batch_size': 2, 'random_state': 42, 'log_costs': False, 'alpha': 1.0}\n",
      "Fitted with params: {'C': 0.1, 'max_epoch': 100, 'batch_size': 2, 'random_state': 42, 'log_costs': False, 'alpha': 1.0}\n",
      "Fitted with params: {'C': 0.1, 'max_epoch': 100, 'batch_size': 2, 'random_state': 42, 'log_costs': False, 'alpha': 1.0}\n",
      "Fitted with params: {'C': 0.1, 'max_epoch': 100, 'batch_size': 2, 'random_state': 42, 'log_costs': False, 'alpha': 1.0}\n",
      "Fitted with params: {'C': 0.1, 'max_epoch': 100, 'batch_size': 2, 'random_state': 42, 'log_costs': False, 'alpha': 1.0}\n",
      "Fitted with params: {'C': 0.1, 'max_epoch': 100, 'batch_size': 3, 'random_state': 42, 'log_costs': False, 'alpha': 1.0}\n",
      "Fitted with params: {'C': 0.1, 'max_epoch': 100, 'batch_size': 3, 'random_state': 42, 'log_costs': False, 'alpha': 1.0}\n",
      "Fitted with params: {'C': 0.1, 'max_epoch': 100, 'batch_size': 3, 'random_state': 42, 'log_costs': False, 'alpha': 1.0}\n",
      "Fitted with params: {'C': 0.1, 'max_epoch': 100, 'batch_size': 3, 'random_state': 42, 'log_costs': False, 'alpha': 1.0}\n",
      "Fitted with params: {'C': 0.1, 'max_epoch': 100, 'batch_size': 3, 'random_state': 42, 'log_costs': False, 'alpha': 1.0}\n",
      "Fitted with params: {'C': 0.1, 'max_epoch': 100, 'batch_size': 5, 'random_state': 42, 'log_costs': False, 'alpha': 1.0}\n",
      "Fitted with params: {'C': 0.1, 'max_epoch': 100, 'batch_size': 5, 'random_state': 42, 'log_costs': False, 'alpha': 1.0}\n",
      "Fitted with params: {'C': 0.1, 'max_epoch': 100, 'batch_size': 5, 'random_state': 42, 'log_costs': False, 'alpha': 1.0}\n",
      "Fitted with params: {'C': 0.1, 'max_epoch': 100, 'batch_size': 5, 'random_state': 42, 'log_costs': False, 'alpha': 1.0}\n",
      "Fitted with params: {'C': 0.1, 'max_epoch': 100, 'batch_size': 5, 'random_state': 42, 'log_costs': False, 'alpha': 1.0}\n",
      "Fitted with params: {'C': 0.1, 'max_epoch': 100, 'batch_size': 10, 'random_state': 42, 'log_costs': False, 'alpha': 1.0}\n",
      "Fitted with params: {'C': 0.1, 'max_epoch': 100, 'batch_size': 10, 'random_state': 42, 'log_costs': False, 'alpha': 1.0}\n",
      "Fitted with params: {'C': 0.1, 'max_epoch': 100, 'batch_size': 10, 'random_state': 42, 'log_costs': False, 'alpha': 1.0}\n",
      "Fitted with params: {'C': 0.1, 'max_epoch': 100, 'batch_size': 10, 'random_state': 42, 'log_costs': False, 'alpha': 1.0}\n",
      "Fitted with params: {'C': 0.1, 'max_epoch': 100, 'batch_size': 10, 'random_state': 42, 'log_costs': False, 'alpha': 1.0}\n",
      "Fitted with params: {'C': 0.1, 'max_epoch': 100, 'batch_size': 2, 'random_state': 42, 'log_costs': False, 'alpha': 2.0}\n",
      "Fitted with params: {'C': 0.1, 'max_epoch': 100, 'batch_size': 2, 'random_state': 42, 'log_costs': False, 'alpha': 2.0}\n",
      "Fitted with params: {'C': 0.1, 'max_epoch': 100, 'batch_size': 2, 'random_state': 42, 'log_costs': False, 'alpha': 2.0}\n",
      "Fitted with params: {'C': 0.1, 'max_epoch': 100, 'batch_size': 2, 'random_state': 42, 'log_costs': False, 'alpha': 2.0}\n",
      "Fitted with params: {'C': 0.1, 'max_epoch': 100, 'batch_size': 2, 'random_state': 42, 'log_costs': False, 'alpha': 2.0}\n",
      "Fitted with params: {'C': 0.1, 'max_epoch': 100, 'batch_size': 3, 'random_state': 42, 'log_costs': False, 'alpha': 2.0}\n",
      "Fitted with params: {'C': 0.1, 'max_epoch': 100, 'batch_size': 3, 'random_state': 42, 'log_costs': False, 'alpha': 2.0}\n",
      "Fitted with params: {'C': 0.1, 'max_epoch': 100, 'batch_size': 3, 'random_state': 42, 'log_costs': False, 'alpha': 2.0}\n",
      "Fitted with params: {'C': 0.1, 'max_epoch': 100, 'batch_size': 3, 'random_state': 42, 'log_costs': False, 'alpha': 2.0}\n",
      "Fitted with params: {'C': 0.1, 'max_epoch': 100, 'batch_size': 3, 'random_state': 42, 'log_costs': False, 'alpha': 2.0}\n",
      "Fitted with params: {'C': 0.1, 'max_epoch': 100, 'batch_size': 5, 'random_state': 42, 'log_costs': False, 'alpha': 2.0}\n",
      "Fitted with params: {'C': 0.1, 'max_epoch': 100, 'batch_size': 5, 'random_state': 42, 'log_costs': False, 'alpha': 2.0}\n",
      "Fitted with params: {'C': 0.1, 'max_epoch': 100, 'batch_size': 5, 'random_state': 42, 'log_costs': False, 'alpha': 2.0}\n",
      "Fitted with params: {'C': 0.1, 'max_epoch': 100, 'batch_size': 5, 'random_state': 42, 'log_costs': False, 'alpha': 2.0}\n",
      "Fitted with params: {'C': 0.1, 'max_epoch': 100, 'batch_size': 5, 'random_state': 42, 'log_costs': False, 'alpha': 2.0}\n",
      "Fitted with params: {'C': 0.1, 'max_epoch': 100, 'batch_size': 10, 'random_state': 42, 'log_costs': False, 'alpha': 2.0}\n",
      "Fitted with params: {'C': 0.1, 'max_epoch': 100, 'batch_size': 10, 'random_state': 42, 'log_costs': False, 'alpha': 2.0}\n",
      "Fitted with params: {'C': 0.1, 'max_epoch': 100, 'batch_size': 10, 'random_state': 42, 'log_costs': False, 'alpha': 2.0}\n",
      "Fitted with params: {'C': 0.1, 'max_epoch': 100, 'batch_size': 10, 'random_state': 42, 'log_costs': False, 'alpha': 2.0}\n",
      "Fitted with params: {'C': 0.1, 'max_epoch': 100, 'batch_size': 10, 'random_state': 42, 'log_costs': False, 'alpha': 2.0}\n",
      "Fitted with params: {'C': 1.0, 'max_epoch': 100, 'batch_size': 2, 'random_state': 42, 'log_costs': False, 'alpha': 0.05}\n",
      "Fitted with params: {'C': 1.0, 'max_epoch': 100, 'batch_size': 2, 'random_state': 42, 'log_costs': False, 'alpha': 0.05}\n",
      "Fitted with params: {'C': 1.0, 'max_epoch': 100, 'batch_size': 2, 'random_state': 42, 'log_costs': False, 'alpha': 0.05}\n",
      "Fitted with params: {'C': 1.0, 'max_epoch': 100, 'batch_size': 2, 'random_state': 42, 'log_costs': False, 'alpha': 0.05}\n",
      "Fitted with params: {'C': 1.0, 'max_epoch': 100, 'batch_size': 2, 'random_state': 42, 'log_costs': False, 'alpha': 0.05}\n",
      "Fitted with params: {'C': 1.0, 'max_epoch': 100, 'batch_size': 3, 'random_state': 42, 'log_costs': False, 'alpha': 0.05}\n",
      "Fitted with params: {'C': 1.0, 'max_epoch': 100, 'batch_size': 3, 'random_state': 42, 'log_costs': False, 'alpha': 0.05}\n",
      "Fitted with params: {'C': 1.0, 'max_epoch': 100, 'batch_size': 3, 'random_state': 42, 'log_costs': False, 'alpha': 0.05}\n",
      "Fitted with params: {'C': 1.0, 'max_epoch': 100, 'batch_size': 3, 'random_state': 42, 'log_costs': False, 'alpha': 0.05}\n",
      "Fitted with params: {'C': 1.0, 'max_epoch': 100, 'batch_size': 3, 'random_state': 42, 'log_costs': False, 'alpha': 0.05}\n",
      "Fitted with params: {'C': 1.0, 'max_epoch': 100, 'batch_size': 5, 'random_state': 42, 'log_costs': False, 'alpha': 0.05}\n",
      "Fitted with params: {'C': 1.0, 'max_epoch': 100, 'batch_size': 5, 'random_state': 42, 'log_costs': False, 'alpha': 0.05}\n",
      "Fitted with params: {'C': 1.0, 'max_epoch': 100, 'batch_size': 5, 'random_state': 42, 'log_costs': False, 'alpha': 0.05}\n",
      "Fitted with params: {'C': 1.0, 'max_epoch': 100, 'batch_size': 5, 'random_state': 42, 'log_costs': False, 'alpha': 0.05}\n",
      "Fitted with params: {'C': 1.0, 'max_epoch': 100, 'batch_size': 5, 'random_state': 42, 'log_costs': False, 'alpha': 0.05}\n",
      "Fitted with params: {'C': 1.0, 'max_epoch': 100, 'batch_size': 10, 'random_state': 42, 'log_costs': False, 'alpha': 0.05}\n",
      "Fitted with params: {'C': 1.0, 'max_epoch': 100, 'batch_size': 10, 'random_state': 42, 'log_costs': False, 'alpha': 0.05}\n",
      "Fitted with params: {'C': 1.0, 'max_epoch': 100, 'batch_size': 10, 'random_state': 42, 'log_costs': False, 'alpha': 0.05}\n",
      "Fitted with params: {'C': 1.0, 'max_epoch': 100, 'batch_size': 10, 'random_state': 42, 'log_costs': False, 'alpha': 0.05}\n",
      "Fitted with params: {'C': 1.0, 'max_epoch': 100, 'batch_size': 10, 'random_state': 42, 'log_costs': False, 'alpha': 0.05}\n",
      "Fitted with params: {'C': 1.0, 'max_epoch': 100, 'batch_size': 2, 'random_state': 42, 'log_costs': False, 'alpha': 0.5}\n",
      "Fitted with params: {'C': 1.0, 'max_epoch': 100, 'batch_size': 2, 'random_state': 42, 'log_costs': False, 'alpha': 0.5}\n",
      "Fitted with params: {'C': 1.0, 'max_epoch': 100, 'batch_size': 2, 'random_state': 42, 'log_costs': False, 'alpha': 0.5}\n",
      "Fitted with params: {'C': 1.0, 'max_epoch': 100, 'batch_size': 2, 'random_state': 42, 'log_costs': False, 'alpha': 0.5}\n",
      "Fitted with params: {'C': 1.0, 'max_epoch': 100, 'batch_size': 2, 'random_state': 42, 'log_costs': False, 'alpha': 0.5}\n",
      "Fitted with params: {'C': 1.0, 'max_epoch': 100, 'batch_size': 3, 'random_state': 42, 'log_costs': False, 'alpha': 0.5}\n",
      "Fitted with params: {'C': 1.0, 'max_epoch': 100, 'batch_size': 3, 'random_state': 42, 'log_costs': False, 'alpha': 0.5}\n",
      "Fitted with params: {'C': 1.0, 'max_epoch': 100, 'batch_size': 3, 'random_state': 42, 'log_costs': False, 'alpha': 0.5}\n",
      "Fitted with params: {'C': 1.0, 'max_epoch': 100, 'batch_size': 3, 'random_state': 42, 'log_costs': False, 'alpha': 0.5}\n",
      "Fitted with params: {'C': 1.0, 'max_epoch': 100, 'batch_size': 3, 'random_state': 42, 'log_costs': False, 'alpha': 0.5}\n",
      "Fitted with params: {'C': 1.0, 'max_epoch': 100, 'batch_size': 5, 'random_state': 42, 'log_costs': False, 'alpha': 0.5}\n",
      "Fitted with params: {'C': 1.0, 'max_epoch': 100, 'batch_size': 5, 'random_state': 42, 'log_costs': False, 'alpha': 0.5}\n",
      "Fitted with params: {'C': 1.0, 'max_epoch': 100, 'batch_size': 5, 'random_state': 42, 'log_costs': False, 'alpha': 0.5}\n",
      "Fitted with params: {'C': 1.0, 'max_epoch': 100, 'batch_size': 5, 'random_state': 42, 'log_costs': False, 'alpha': 0.5}\n",
      "Fitted with params: {'C': 1.0, 'max_epoch': 100, 'batch_size': 5, 'random_state': 42, 'log_costs': False, 'alpha': 0.5}\n",
      "Fitted with params: {'C': 1.0, 'max_epoch': 100, 'batch_size': 10, 'random_state': 42, 'log_costs': False, 'alpha': 0.5}\n",
      "Fitted with params: {'C': 1.0, 'max_epoch': 100, 'batch_size': 10, 'random_state': 42, 'log_costs': False, 'alpha': 0.5}\n",
      "Fitted with params: {'C': 1.0, 'max_epoch': 100, 'batch_size': 10, 'random_state': 42, 'log_costs': False, 'alpha': 0.5}\n",
      "Fitted with params: {'C': 1.0, 'max_epoch': 100, 'batch_size': 10, 'random_state': 42, 'log_costs': False, 'alpha': 0.5}\n",
      "Fitted with params: {'C': 1.0, 'max_epoch': 100, 'batch_size': 10, 'random_state': 42, 'log_costs': False, 'alpha': 0.5}\n",
      "Fitted with params: {'C': 1.0, 'max_epoch': 100, 'batch_size': 2, 'random_state': 42, 'log_costs': False, 'alpha': 1.0}\n",
      "Fitted with params: {'C': 1.0, 'max_epoch': 100, 'batch_size': 2, 'random_state': 42, 'log_costs': False, 'alpha': 1.0}\n",
      "Fitted with params: {'C': 1.0, 'max_epoch': 100, 'batch_size': 2, 'random_state': 42, 'log_costs': False, 'alpha': 1.0}\n",
      "Fitted with params: {'C': 1.0, 'max_epoch': 100, 'batch_size': 2, 'random_state': 42, 'log_costs': False, 'alpha': 1.0}\n",
      "Fitted with params: {'C': 1.0, 'max_epoch': 100, 'batch_size': 2, 'random_state': 42, 'log_costs': False, 'alpha': 1.0}\n",
      "Fitted with params: {'C': 1.0, 'max_epoch': 100, 'batch_size': 3, 'random_state': 42, 'log_costs': False, 'alpha': 1.0}\n",
      "Fitted with params: {'C': 1.0, 'max_epoch': 100, 'batch_size': 3, 'random_state': 42, 'log_costs': False, 'alpha': 1.0}\n",
      "Fitted with params: {'C': 1.0, 'max_epoch': 100, 'batch_size': 3, 'random_state': 42, 'log_costs': False, 'alpha': 1.0}\n",
      "Fitted with params: {'C': 1.0, 'max_epoch': 100, 'batch_size': 3, 'random_state': 42, 'log_costs': False, 'alpha': 1.0}\n",
      "Fitted with params: {'C': 1.0, 'max_epoch': 100, 'batch_size': 3, 'random_state': 42, 'log_costs': False, 'alpha': 1.0}\n",
      "Fitted with params: {'C': 1.0, 'max_epoch': 100, 'batch_size': 5, 'random_state': 42, 'log_costs': False, 'alpha': 1.0}\n",
      "Fitted with params: {'C': 1.0, 'max_epoch': 100, 'batch_size': 5, 'random_state': 42, 'log_costs': False, 'alpha': 1.0}\n",
      "Fitted with params: {'C': 1.0, 'max_epoch': 100, 'batch_size': 5, 'random_state': 42, 'log_costs': False, 'alpha': 1.0}\n",
      "Fitted with params: {'C': 1.0, 'max_epoch': 100, 'batch_size': 5, 'random_state': 42, 'log_costs': False, 'alpha': 1.0}\n",
      "Fitted with params: {'C': 1.0, 'max_epoch': 100, 'batch_size': 5, 'random_state': 42, 'log_costs': False, 'alpha': 1.0}\n",
      "Fitted with params: {'C': 1.0, 'max_epoch': 100, 'batch_size': 10, 'random_state': 42, 'log_costs': False, 'alpha': 1.0}\n",
      "Fitted with params: {'C': 1.0, 'max_epoch': 100, 'batch_size': 10, 'random_state': 42, 'log_costs': False, 'alpha': 1.0}\n",
      "Fitted with params: {'C': 1.0, 'max_epoch': 100, 'batch_size': 10, 'random_state': 42, 'log_costs': False, 'alpha': 1.0}\n",
      "Fitted with params: {'C': 1.0, 'max_epoch': 100, 'batch_size': 10, 'random_state': 42, 'log_costs': False, 'alpha': 1.0}\n",
      "Fitted with params: {'C': 1.0, 'max_epoch': 100, 'batch_size': 10, 'random_state': 42, 'log_costs': False, 'alpha': 1.0}\n",
      "Fitted with params: {'C': 1.0, 'max_epoch': 100, 'batch_size': 2, 'random_state': 42, 'log_costs': False, 'alpha': 2.0}\n",
      "Fitted with params: {'C': 1.0, 'max_epoch': 100, 'batch_size': 2, 'random_state': 42, 'log_costs': False, 'alpha': 2.0}\n",
      "Fitted with params: {'C': 1.0, 'max_epoch': 100, 'batch_size': 2, 'random_state': 42, 'log_costs': False, 'alpha': 2.0}\n",
      "Fitted with params: {'C': 1.0, 'max_epoch': 100, 'batch_size': 2, 'random_state': 42, 'log_costs': False, 'alpha': 2.0}\n",
      "Fitted with params: {'C': 1.0, 'max_epoch': 100, 'batch_size': 2, 'random_state': 42, 'log_costs': False, 'alpha': 2.0}\n",
      "Fitted with params: {'C': 1.0, 'max_epoch': 100, 'batch_size': 3, 'random_state': 42, 'log_costs': False, 'alpha': 2.0}\n",
      "Fitted with params: {'C': 1.0, 'max_epoch': 100, 'batch_size': 3, 'random_state': 42, 'log_costs': False, 'alpha': 2.0}\n",
      "Fitted with params: {'C': 1.0, 'max_epoch': 100, 'batch_size': 3, 'random_state': 42, 'log_costs': False, 'alpha': 2.0}\n",
      "Fitted with params: {'C': 1.0, 'max_epoch': 100, 'batch_size': 3, 'random_state': 42, 'log_costs': False, 'alpha': 2.0}\n",
      "Fitted with params: {'C': 1.0, 'max_epoch': 100, 'batch_size': 3, 'random_state': 42, 'log_costs': False, 'alpha': 2.0}\n",
      "Fitted with params: {'C': 1.0, 'max_epoch': 100, 'batch_size': 5, 'random_state': 42, 'log_costs': False, 'alpha': 2.0}\n",
      "Fitted with params: {'C': 1.0, 'max_epoch': 100, 'batch_size': 5, 'random_state': 42, 'log_costs': False, 'alpha': 2.0}\n",
      "Fitted with params: {'C': 1.0, 'max_epoch': 100, 'batch_size': 5, 'random_state': 42, 'log_costs': False, 'alpha': 2.0}\n",
      "Fitted with params: {'C': 1.0, 'max_epoch': 100, 'batch_size': 5, 'random_state': 42, 'log_costs': False, 'alpha': 2.0}\n",
      "Fitted with params: {'C': 1.0, 'max_epoch': 100, 'batch_size': 5, 'random_state': 42, 'log_costs': False, 'alpha': 2.0}\n",
      "Fitted with params: {'C': 1.0, 'max_epoch': 100, 'batch_size': 10, 'random_state': 42, 'log_costs': False, 'alpha': 2.0}\n",
      "Fitted with params: {'C': 1.0, 'max_epoch': 100, 'batch_size': 10, 'random_state': 42, 'log_costs': False, 'alpha': 2.0}\n",
      "Fitted with params: {'C': 1.0, 'max_epoch': 100, 'batch_size': 10, 'random_state': 42, 'log_costs': False, 'alpha': 2.0}\n",
      "Fitted with params: {'C': 1.0, 'max_epoch': 100, 'batch_size': 10, 'random_state': 42, 'log_costs': False, 'alpha': 2.0}\n",
      "Fitted with params: {'C': 1.0, 'max_epoch': 100, 'batch_size': 10, 'random_state': 42, 'log_costs': False, 'alpha': 2.0}\n",
      "Fitted with params: {'C': 10.0, 'max_epoch': 100, 'batch_size': 2, 'random_state': 42, 'log_costs': False, 'alpha': 0.05}\n",
      "Fitted with params: {'C': 10.0, 'max_epoch': 100, 'batch_size': 2, 'random_state': 42, 'log_costs': False, 'alpha': 0.05}\n",
      "Fitted with params: {'C': 10.0, 'max_epoch': 100, 'batch_size': 2, 'random_state': 42, 'log_costs': False, 'alpha': 0.05}\n",
      "Fitted with params: {'C': 10.0, 'max_epoch': 100, 'batch_size': 2, 'random_state': 42, 'log_costs': False, 'alpha': 0.05}\n",
      "Fitted with params: {'C': 10.0, 'max_epoch': 100, 'batch_size': 2, 'random_state': 42, 'log_costs': False, 'alpha': 0.05}\n",
      "Fitted with params: {'C': 10.0, 'max_epoch': 100, 'batch_size': 3, 'random_state': 42, 'log_costs': False, 'alpha': 0.05}\n",
      "Fitted with params: {'C': 10.0, 'max_epoch': 100, 'batch_size': 3, 'random_state': 42, 'log_costs': False, 'alpha': 0.05}\n",
      "Fitted with params: {'C': 10.0, 'max_epoch': 100, 'batch_size': 3, 'random_state': 42, 'log_costs': False, 'alpha': 0.05}\n",
      "Fitted with params: {'C': 10.0, 'max_epoch': 100, 'batch_size': 3, 'random_state': 42, 'log_costs': False, 'alpha': 0.05}\n",
      "Fitted with params: {'C': 10.0, 'max_epoch': 100, 'batch_size': 3, 'random_state': 42, 'log_costs': False, 'alpha': 0.05}\n",
      "Fitted with params: {'C': 10.0, 'max_epoch': 100, 'batch_size': 5, 'random_state': 42, 'log_costs': False, 'alpha': 0.05}\n",
      "Fitted with params: {'C': 10.0, 'max_epoch': 100, 'batch_size': 5, 'random_state': 42, 'log_costs': False, 'alpha': 0.05}\n",
      "Fitted with params: {'C': 10.0, 'max_epoch': 100, 'batch_size': 5, 'random_state': 42, 'log_costs': False, 'alpha': 0.05}\n",
      "Fitted with params: {'C': 10.0, 'max_epoch': 100, 'batch_size': 5, 'random_state': 42, 'log_costs': False, 'alpha': 0.05}\n",
      "Fitted with params: {'C': 10.0, 'max_epoch': 100, 'batch_size': 5, 'random_state': 42, 'log_costs': False, 'alpha': 0.05}\n",
      "Fitted with params: {'C': 10.0, 'max_epoch': 100, 'batch_size': 10, 'random_state': 42, 'log_costs': False, 'alpha': 0.05}\n",
      "Fitted with params: {'C': 10.0, 'max_epoch': 100, 'batch_size': 10, 'random_state': 42, 'log_costs': False, 'alpha': 0.05}\n",
      "Fitted with params: {'C': 10.0, 'max_epoch': 100, 'batch_size': 10, 'random_state': 42, 'log_costs': False, 'alpha': 0.05}\n",
      "Fitted with params: {'C': 10.0, 'max_epoch': 100, 'batch_size': 10, 'random_state': 42, 'log_costs': False, 'alpha': 0.05}\n",
      "Fitted with params: {'C': 10.0, 'max_epoch': 100, 'batch_size': 10, 'random_state': 42, 'log_costs': False, 'alpha': 0.05}\n",
      "Fitted with params: {'C': 10.0, 'max_epoch': 100, 'batch_size': 2, 'random_state': 42, 'log_costs': False, 'alpha': 0.5}\n",
      "Fitted with params: {'C': 10.0, 'max_epoch': 100, 'batch_size': 2, 'random_state': 42, 'log_costs': False, 'alpha': 0.5}\n",
      "Fitted with params: {'C': 10.0, 'max_epoch': 100, 'batch_size': 2, 'random_state': 42, 'log_costs': False, 'alpha': 0.5}\n",
      "Fitted with params: {'C': 10.0, 'max_epoch': 100, 'batch_size': 2, 'random_state': 42, 'log_costs': False, 'alpha': 0.5}\n",
      "Fitted with params: {'C': 10.0, 'max_epoch': 100, 'batch_size': 2, 'random_state': 42, 'log_costs': False, 'alpha': 0.5}\n",
      "Fitted with params: {'C': 10.0, 'max_epoch': 100, 'batch_size': 3, 'random_state': 42, 'log_costs': False, 'alpha': 0.5}\n",
      "Fitted with params: {'C': 10.0, 'max_epoch': 100, 'batch_size': 3, 'random_state': 42, 'log_costs': False, 'alpha': 0.5}\n",
      "Fitted with params: {'C': 10.0, 'max_epoch': 100, 'batch_size': 3, 'random_state': 42, 'log_costs': False, 'alpha': 0.5}\n",
      "Fitted with params: {'C': 10.0, 'max_epoch': 100, 'batch_size': 3, 'random_state': 42, 'log_costs': False, 'alpha': 0.5}\n",
      "Fitted with params: {'C': 10.0, 'max_epoch': 100, 'batch_size': 3, 'random_state': 42, 'log_costs': False, 'alpha': 0.5}\n",
      "Fitted with params: {'C': 10.0, 'max_epoch': 100, 'batch_size': 5, 'random_state': 42, 'log_costs': False, 'alpha': 0.5}\n",
      "Fitted with params: {'C': 10.0, 'max_epoch': 100, 'batch_size': 5, 'random_state': 42, 'log_costs': False, 'alpha': 0.5}\n",
      "Fitted with params: {'C': 10.0, 'max_epoch': 100, 'batch_size': 5, 'random_state': 42, 'log_costs': False, 'alpha': 0.5}\n",
      "Fitted with params: {'C': 10.0, 'max_epoch': 100, 'batch_size': 5, 'random_state': 42, 'log_costs': False, 'alpha': 0.5}\n",
      "Fitted with params: {'C': 10.0, 'max_epoch': 100, 'batch_size': 5, 'random_state': 42, 'log_costs': False, 'alpha': 0.5}\n",
      "Fitted with params: {'C': 10.0, 'max_epoch': 100, 'batch_size': 10, 'random_state': 42, 'log_costs': False, 'alpha': 0.5}\n",
      "Fitted with params: {'C': 10.0, 'max_epoch': 100, 'batch_size': 10, 'random_state': 42, 'log_costs': False, 'alpha': 0.5}\n",
      "Fitted with params: {'C': 10.0, 'max_epoch': 100, 'batch_size': 10, 'random_state': 42, 'log_costs': False, 'alpha': 0.5}\n",
      "Fitted with params: {'C': 10.0, 'max_epoch': 100, 'batch_size': 10, 'random_state': 42, 'log_costs': False, 'alpha': 0.5}\n",
      "Fitted with params: {'C': 10.0, 'max_epoch': 100, 'batch_size': 10, 'random_state': 42, 'log_costs': False, 'alpha': 0.5}\n",
      "Fitted with params: {'C': 10.0, 'max_epoch': 100, 'batch_size': 2, 'random_state': 42, 'log_costs': False, 'alpha': 1.0}\n",
      "Fitted with params: {'C': 10.0, 'max_epoch': 100, 'batch_size': 2, 'random_state': 42, 'log_costs': False, 'alpha': 1.0}\n",
      "Fitted with params: {'C': 10.0, 'max_epoch': 100, 'batch_size': 2, 'random_state': 42, 'log_costs': False, 'alpha': 1.0}\n",
      "Fitted with params: {'C': 10.0, 'max_epoch': 100, 'batch_size': 2, 'random_state': 42, 'log_costs': False, 'alpha': 1.0}\n",
      "Fitted with params: {'C': 10.0, 'max_epoch': 100, 'batch_size': 2, 'random_state': 42, 'log_costs': False, 'alpha': 1.0}\n",
      "Fitted with params: {'C': 10.0, 'max_epoch': 100, 'batch_size': 3, 'random_state': 42, 'log_costs': False, 'alpha': 1.0}\n",
      "Fitted with params: {'C': 10.0, 'max_epoch': 100, 'batch_size': 3, 'random_state': 42, 'log_costs': False, 'alpha': 1.0}\n",
      "Fitted with params: {'C': 10.0, 'max_epoch': 100, 'batch_size': 3, 'random_state': 42, 'log_costs': False, 'alpha': 1.0}\n",
      "Fitted with params: {'C': 10.0, 'max_epoch': 100, 'batch_size': 3, 'random_state': 42, 'log_costs': False, 'alpha': 1.0}\n",
      "Fitted with params: {'C': 10.0, 'max_epoch': 100, 'batch_size': 3, 'random_state': 42, 'log_costs': False, 'alpha': 1.0}\n",
      "Fitted with params: {'C': 10.0, 'max_epoch': 100, 'batch_size': 5, 'random_state': 42, 'log_costs': False, 'alpha': 1.0}\n",
      "Fitted with params: {'C': 10.0, 'max_epoch': 100, 'batch_size': 5, 'random_state': 42, 'log_costs': False, 'alpha': 1.0}\n",
      "Fitted with params: {'C': 10.0, 'max_epoch': 100, 'batch_size': 5, 'random_state': 42, 'log_costs': False, 'alpha': 1.0}\n",
      "Fitted with params: {'C': 10.0, 'max_epoch': 100, 'batch_size': 5, 'random_state': 42, 'log_costs': False, 'alpha': 1.0}\n",
      "Fitted with params: {'C': 10.0, 'max_epoch': 100, 'batch_size': 5, 'random_state': 42, 'log_costs': False, 'alpha': 1.0}\n",
      "Fitted with params: {'C': 10.0, 'max_epoch': 100, 'batch_size': 10, 'random_state': 42, 'log_costs': False, 'alpha': 1.0}\n",
      "Fitted with params: {'C': 10.0, 'max_epoch': 100, 'batch_size': 10, 'random_state': 42, 'log_costs': False, 'alpha': 1.0}\n",
      "Fitted with params: {'C': 10.0, 'max_epoch': 100, 'batch_size': 10, 'random_state': 42, 'log_costs': False, 'alpha': 1.0}\n",
      "Fitted with params: {'C': 10.0, 'max_epoch': 100, 'batch_size': 10, 'random_state': 42, 'log_costs': False, 'alpha': 1.0}\n",
      "Fitted with params: {'C': 10.0, 'max_epoch': 100, 'batch_size': 10, 'random_state': 42, 'log_costs': False, 'alpha': 1.0}\n",
      "Fitted with params: {'C': 10.0, 'max_epoch': 100, 'batch_size': 2, 'random_state': 42, 'log_costs': False, 'alpha': 2.0}\n",
      "Fitted with params: {'C': 10.0, 'max_epoch': 100, 'batch_size': 2, 'random_state': 42, 'log_costs': False, 'alpha': 2.0}\n",
      "Fitted with params: {'C': 10.0, 'max_epoch': 100, 'batch_size': 2, 'random_state': 42, 'log_costs': False, 'alpha': 2.0}\n",
      "Fitted with params: {'C': 10.0, 'max_epoch': 100, 'batch_size': 2, 'random_state': 42, 'log_costs': False, 'alpha': 2.0}\n",
      "Fitted with params: {'C': 10.0, 'max_epoch': 100, 'batch_size': 2, 'random_state': 42, 'log_costs': False, 'alpha': 2.0}\n",
      "Fitted with params: {'C': 10.0, 'max_epoch': 100, 'batch_size': 3, 'random_state': 42, 'log_costs': False, 'alpha': 2.0}\n",
      "Fitted with params: {'C': 10.0, 'max_epoch': 100, 'batch_size': 3, 'random_state': 42, 'log_costs': False, 'alpha': 2.0}\n",
      "Fitted with params: {'C': 10.0, 'max_epoch': 100, 'batch_size': 3, 'random_state': 42, 'log_costs': False, 'alpha': 2.0}\n",
      "Fitted with params: {'C': 10.0, 'max_epoch': 100, 'batch_size': 3, 'random_state': 42, 'log_costs': False, 'alpha': 2.0}\n",
      "Fitted with params: {'C': 10.0, 'max_epoch': 100, 'batch_size': 3, 'random_state': 42, 'log_costs': False, 'alpha': 2.0}\n",
      "Fitted with params: {'C': 10.0, 'max_epoch': 100, 'batch_size': 5, 'random_state': 42, 'log_costs': False, 'alpha': 2.0}\n",
      "Fitted with params: {'C': 10.0, 'max_epoch': 100, 'batch_size': 5, 'random_state': 42, 'log_costs': False, 'alpha': 2.0}\n",
      "Fitted with params: {'C': 10.0, 'max_epoch': 100, 'batch_size': 5, 'random_state': 42, 'log_costs': False, 'alpha': 2.0}\n",
      "Fitted with params: {'C': 10.0, 'max_epoch': 100, 'batch_size': 5, 'random_state': 42, 'log_costs': False, 'alpha': 2.0}\n",
      "Fitted with params: {'C': 10.0, 'max_epoch': 100, 'batch_size': 5, 'random_state': 42, 'log_costs': False, 'alpha': 2.0}\n",
      "Fitted with params: {'C': 10.0, 'max_epoch': 100, 'batch_size': 10, 'random_state': 42, 'log_costs': False, 'alpha': 2.0}\n",
      "Fitted with params: {'C': 10.0, 'max_epoch': 100, 'batch_size': 10, 'random_state': 42, 'log_costs': False, 'alpha': 2.0}\n",
      "Fitted with params: {'C': 10.0, 'max_epoch': 100, 'batch_size': 10, 'random_state': 42, 'log_costs': False, 'alpha': 2.0}\n",
      "Fitted with params: {'C': 10.0, 'max_epoch': 100, 'batch_size': 10, 'random_state': 42, 'log_costs': False, 'alpha': 2.0}\n",
      "Fitted with params: {'C': 10.0, 'max_epoch': 100, 'batch_size': 10, 'random_state': 42, 'log_costs': False, 'alpha': 2.0}\n",
      "Fitted with params: {'C': 0.01, 'max_epoch': 100, 'batch_size': 2, 'random_state': 42, 'log_costs': False, 'alpha': 0.05}\n"
     ]
    },
    {
     "data": {
      "text/plain": [
       "GridSearchCV(cv=5, error_score='raise',\n",
       "       estimator=MiniBatchSGDClassifier(C=1.0, alpha=0.1, batch_size=3, log_costs=False,\n",
       "            max_epoch=100, random_state=42),\n",
       "       fit_params={}, iid=True, n_jobs=1,\n",
       "       param_grid={'alpha': [0.05, 0.5, 1.0, 2.0], 'C': [0.01, 0.1, 1.0, 10.0], 'batch_size': [2, 3, 5, 10]},\n",
       "       pre_dispatch='2*n_jobs', refit=True, return_train_score=True,\n",
       "       scoring='roc_auc', verbose=0)"
      ]
     },
     "execution_count": 21,
     "metadata": {},
     "output_type": "execute_result"
    }
   ],
   "source": [
    "param_grid = {'C': [0.01, 0.1, 1.0, 10.0], \n",
    "              'alpha': [0.05, 0.5, 1.0, 2.0],\n",
    "              'batch_size': [2, 3, 5, 10]}\n",
    "clf = MiniBatchSGDClassifier(max_epoch=100, random_state=42)\n",
    "gs = GridSearchCV(estimator=clf, param_grid=param_grid, scoring='roc_auc', cv=5, n_jobs=1)\n",
    "gs.fit(X_train, y_train)"
   ]
  },
  {
   "cell_type": "code",
   "execution_count": 22,
   "metadata": {
    "collapsed": false
   },
   "outputs": [
    {
     "name": "stdout",
     "output_type": "stream",
     "text": [
      "{'alpha': 0.05, 'C': 0.01, 'batch_size': 2} 0.791588949175\n"
     ]
    }
   ],
   "source": [
    "clf = gs.best_estimator_\n",
    "best_params = gs.best_params_\n",
    "best_score = gs.best_score_\n",
    "print best_params, best_score"
   ]
  },
  {
   "cell_type": "code",
   "execution_count": null,
   "metadata": {
    "collapsed": true
   },
   "outputs": [],
   "source": [
    "for epoch in (50, 100, 500, 1000):\n",
    "    clf_epoch = MiniBatchSGDClassifier(C=0.01, alpha=0.05, max_epoch=epoch, batch_size=2)\n",
    "    clf_epoch.fit(X_train, y_train)\n",
    "    print \"Epoch:\", epoch\n",
    "    print \"ROCAUC score:\", roc_auc_score(y_test, clf_epoch.predict_proba(X_test)[:,1])\n",
    "    print \"Accuracy:    \", accuracy_score(y_test, clf_epoch.predict(X_test))"
   ]
  },
  {
   "cell_type": "markdown",
   "metadata": {},
   "source": [
    "Epoch: 50<br>\n",
    "ROCAUC score: 0.788635720668<br>\n",
    "Accuracy:     0.7018<br>\n",
    "Epoch: 100<br>\n",
    "ROCAUC score: 0.789318983638<br>\n",
    "Accuracy:     0.7036<br>\n",
    "Epoch: 500<br>\n",
    "ROCAUC score: 0.789523962528<br>\n",
    "Accuracy:     0.7036<br>\n",
    "Epoch: 1000<br>\n",
    "ROCAUC score: 0.789495639918<br>\n",
    "Accuracy:     0.7022<br>\n",
    "Как видно, начиная со 100, число эпох не сильно влияет на качество классификации (видимо, из-за быстрой сходимости алгоритма при заданном alpha)"
   ]
  },
  {
   "cell_type": "markdown",
   "metadata": {},
   "source": [
    "Наилучшие найденные параметры: {'alpha': 0.05, 'C': 0.01, 'batch_size': 2}, max_epoch=100 <br>\n",
    "ROCAUC оценка модели при наилучших параметрах: 0.791588949175"
   ]
  },
  {
   "cell_type": "markdown",
   "metadata": {},
   "source": [
    "Обучим модель на всех тренировочных данных, используя найденные наилучшие параметры."
   ]
  },
  {
   "cell_type": "code",
   "execution_count": 38,
   "metadata": {
    "collapsed": false
   },
   "outputs": [
    {
     "data": {
      "text/plain": [
       "0"
      ]
     },
     "execution_count": 38,
     "metadata": {},
     "output_type": "execute_result"
    }
   ],
   "source": [
    "# collect garbage due to memory economy\n",
    "del X_train \n",
    "del X_test\n",
    "del y_train\n",
    "del y_test\n",
    "gc.collect()"
   ]
  },
  {
   "cell_type": "code",
   "execution_count": 39,
   "metadata": {
    "collapsed": false
   },
   "outputs": [
    {
     "name": "stdout",
     "output_type": "stream",
     "text": [
      "Fitted with params: {'C': 0.01, 'max_epoch': 100, 'batch_size': 2, 'random_state': 42, 'log_costs': False, 'alpha': 0.05}\n"
     ]
    },
    {
     "data": {
      "text/plain": [
       "48"
      ]
     },
     "execution_count": 39,
     "metadata": {},
     "output_type": "execute_result"
    }
   ],
   "source": [
    "chunk_size = 100000\n",
    "n_iters = X.shape[0] / chunk_size\n",
    "clf = MiniBatchSGDClassifier(C=0.01, alpha=0.05, max_epoch=100, batch_size=2, random_state=42)\n",
    "clf.fit(X[:chunk_size],y[:chunk_size])\n",
    "gc.collect()"
   ]
  },
  {
   "cell_type": "code",
   "execution_count": 40,
   "metadata": {
    "collapsed": false
   },
   "outputs": [
    {
     "name": "stdout",
     "output_type": "stream",
     "text": [
      "Fitted with params: {'C': 0.01, 'max_epoch': 100, 'batch_size': 2, 'random_state': 42, 'log_costs': False, 'alpha': 0.05}\n",
      "Fitted with params: {'C': 0.01, 'max_epoch': 100, 'batch_size': 2, 'random_state': 42, 'log_costs': False, 'alpha': 0.05}\n",
      "Fitted with params: {'C': 0.01, 'max_epoch': 100, 'batch_size': 2, 'random_state': 42, 'log_costs': False, 'alpha': 0.05}\n",
      "Fitted with params: {'C': 0.01, 'max_epoch': 100, 'batch_size': 2, 'random_state': 42, 'log_costs': False, 'alpha': 0.05}\n",
      "Fitted with params: {'C': 0.01, 'max_epoch': 100, 'batch_size': 2, 'random_state': 42, 'log_costs': False, 'alpha': 0.05}\n",
      "Fitted with params: {'C': 0.01, 'max_epoch': 100, 'batch_size': 2, 'random_state': 42, 'log_costs': False, 'alpha': 0.05}\n",
      "Fitted with params: {'C': 0.01, 'max_epoch': 100, 'batch_size': 2, 'random_state': 42, 'log_costs': False, 'alpha': 0.05}\n",
      "Fitted with params: {'C': 0.01, 'max_epoch': 100, 'batch_size': 2, 'random_state': 42, 'log_costs': False, 'alpha': 0.05}\n",
      "Fitted with params: {'C': 0.01, 'max_epoch': 100, 'batch_size': 2, 'random_state': 42, 'log_costs': False, 'alpha': 0.05}\n",
      "Fitted with params: {'C': 0.01, 'max_epoch': 100, 'batch_size': 2, 'random_state': 42, 'log_costs': False, 'alpha': 0.05}\n",
      "Fitted with params: {'C': 0.01, 'max_epoch': 100, 'batch_size': 2, 'random_state': 42, 'log_costs': False, 'alpha': 0.05}\n",
      "Fitted with params: {'C': 0.01, 'max_epoch': 100, 'batch_size': 2, 'random_state': 42, 'log_costs': False, 'alpha': 0.05}\n",
      "Fitted with params: {'C': 0.01, 'max_epoch': 100, 'batch_size': 2, 'random_state': 42, 'log_costs': False, 'alpha': 0.05}\n",
      "Fitted with params: {'C': 0.01, 'max_epoch': 100, 'batch_size': 2, 'random_state': 42, 'log_costs': False, 'alpha': 0.05}\n",
      "Fitted with params: {'C': 0.01, 'max_epoch': 100, 'batch_size': 2, 'random_state': 42, 'log_costs': False, 'alpha': 0.05}\n",
      "Fitted with params: {'C': 0.01, 'max_epoch': 100, 'batch_size': 2, 'random_state': 42, 'log_costs': False, 'alpha': 0.05}\n",
      "Fitted with params: {'C': 0.01, 'max_epoch': 100, 'batch_size': 2, 'random_state': 42, 'log_costs': False, 'alpha': 0.05}\n",
      "Fitted with params: {'C': 0.01, 'max_epoch': 100, 'batch_size': 2, 'random_state': 42, 'log_costs': False, 'alpha': 0.05}\n",
      "Fitted with params: {'C': 0.01, 'max_epoch': 100, 'batch_size': 2, 'random_state': 42, 'log_costs': False, 'alpha': 0.05}\n"
     ]
    }
   ],
   "source": [
    "for chunk in xrange(2, n_iters + 1):\n",
    "    bottom = chunk_size * (chunk - 1)\n",
    "    upper = chunk_size * chunk\n",
    "    clf.partial_fit(X[bottom:upper], y[bottom:upper])\n",
    "    gc.collect()"
   ]
  },
  {
   "cell_type": "code",
   "execution_count": 42,
   "metadata": {
    "collapsed": false
   },
   "outputs": [
    {
     "data": {
      "text/plain": [
       "array([ 0.06905371,  0.21865284, -0.01449466, -0.0275019 , -0.59814751,\n",
       "        0.09291085,  0.02341633, -0.06064609,  0.07299866, -0.08612634,\n",
       "        0.04665602, -0.33223722, -0.00720883, -0.0095812 ,  0.02771938,\n",
       "        0.56140426, -0.04624187, -0.00956779, -0.22611095,  0.07668068,\n",
       "        0.13700461, -0.07533532,  0.02428211, -0.04194825, -0.00720883,\n",
       "       -0.33358999, -0.04868898, -0.28306393, -0.23423615, -0.04194825,\n",
       "        0.43716809,  0.12252   ,  0.3346727 ,  0.22015383,  0.10082885,\n",
       "       -0.07141812, -0.1080442 ,  0.02428211,  0.00680179,  0.10681856,\n",
       "        0.14281485,  0.08840435, -0.09322843,  0.05380268, -0.06058595,\n",
       "        0.01453918,  0.02401257,  0.03048938,  0.07879171, -0.04109952,\n",
       "       -0.00480933,  0.04012973, -0.0437925 ,  0.01233135, -0.02326782,\n",
       "       -0.03934892,  0.04373039, -0.07441999,  0.03272356,  0.05724035])"
      ]
     },
     "execution_count": 42,
     "metadata": {},
     "output_type": "execute_result"
    }
   ],
   "source": [
    "clf.weights_"
   ]
  },
  {
   "cell_type": "code",
   "execution_count": 44,
   "metadata": {
    "collapsed": false
   },
   "outputs": [
    {
     "data": {
      "text/plain": [
       "9"
      ]
     },
     "execution_count": 44,
     "metadata": {},
     "output_type": "execute_result"
    }
   ],
   "source": [
    "del X\n",
    "gc.collect()"
   ]
  },
  {
   "cell_type": "markdown",
   "metadata": {},
   "source": [
    "## Применение модели (3 балла)\n",
    "#### Задание\n",
    "* Загрузите тестовые данные\n",
    "* Выполните те же операции с датасетом, что и с обучающей выборкой\n",
    "* Примените модель и загрузите решение на страницу конкурса\n",
    "* Напечатайте ваш ник и оценку качества, полученную после загрузки\n",
    "\n",
    "Судя по описанию, submission file должен состоять из одного столбца с числами, соответствующим вероятностям победы игрока."
   ]
  },
  {
   "cell_type": "markdown",
   "metadata": {},
   "source": [
    "Загружаем тестовые данные, и преобразуем их для применения модели:"
   ]
  },
  {
   "cell_type": "code",
   "execution_count": 45,
   "metadata": {
    "collapsed": false
   },
   "outputs": [
    {
     "name": "stdout",
     "output_type": "stream",
     "text": [
      "Test data shape: (750000, 44)\n",
      "New test data shape is: (750000, 60)\n"
     ]
    },
    {
     "data": {
      "text/plain": [
       "28"
      ]
     },
     "execution_count": 45,
     "metadata": {},
     "output_type": "execute_result"
    }
   ],
   "source": [
    "# load test data\n",
    "df_test_data = pd.read_csv('./csv/testData_tabular.csv')\n",
    "# for better usage of test data\n",
    "df_test_data.columns = df_test_data.columns.str.replace('.', '_')\n",
    "df_test_data = df_test_data.set_index('gamestate_id')\n",
    "print \"Test data shape:\", df_test_data.shape\n",
    "\n",
    "# vectorize categorial features\n",
    "player_values_test = OneHotEncoder().fit_transform(\n",
    "    df_test_data.player_hero_card_id.values.reshape(-1, 1)).toarray().astype(int)\n",
    "opponent_values_test = OneHotEncoder().fit_transform(\n",
    "    df_test_data.opponent_hero_card_id.values.reshape(-1, 1)).toarray().astype(int)\n",
    "df_test_data = pd.concat([df_test_data,\n",
    "                           pd.DataFrame(player_values_test, columns=player_columns,\n",
    "                                        index=df_test_data.index),\n",
    "                           pd.DataFrame(opponent_values_test, columns=opponent_columns,\n",
    "                                        index=df_test_data.index)],\n",
    "                           axis=1)\n",
    "\n",
    "# drop old features\n",
    "df_test_data.drop(['opponent_hero_card_id', 'player_hero_card_id'], axis=1, inplace=True)\n",
    "print \"New test data shape is:\", df_test_data.shape\n",
    "\n",
    "# collect garbage due to memory economy\n",
    "del player_values_test\n",
    "del opponent_values_test\n",
    "gc.collect()\n",
    "\n",
    "#df_test_data.head().T"
   ]
  },
  {
   "cell_type": "markdown",
   "metadata": {},
   "source": [
    "Получаем матрицу наблюдений X_test:"
   ]
  },
  {
   "cell_type": "code",
   "execution_count": 46,
   "metadata": {
    "collapsed": false
   },
   "outputs": [
    {
     "name": "stdout",
     "output_type": "stream",
     "text": [
      "(750000L, 59L)\n"
     ]
    },
    {
     "data": {
      "text/plain": [
       "25"
      ]
     },
     "execution_count": 46,
     "metadata": {},
     "output_type": "execute_result"
    }
   ],
   "source": [
    "X_test = df_test_data.iloc[:,1:].values\n",
    "print X_test.shape\n",
    "\n",
    "# collect garbage due to memory economy\n",
    "del df_test_data\n",
    "gc.collect()"
   ]
  },
  {
   "cell_type": "markdown",
   "metadata": {},
   "source": [
    "Нормализуем тестовые данные:"
   ]
  },
  {
   "cell_type": "code",
   "execution_count": 47,
   "metadata": {
    "collapsed": false
   },
   "outputs": [
    {
     "data": {
      "text/plain": [
       "0"
      ]
     },
     "execution_count": 47,
     "metadata": {},
     "output_type": "execute_result"
    }
   ],
   "source": [
    "X_test = StandardScaler().fit_transform(X_test)\n",
    "\n",
    "# collect garbage due to memory economy\n",
    "gc.collect()"
   ]
  },
  {
   "cell_type": "markdown",
   "metadata": {},
   "source": [
    "Получаем предсказания для тестовых данных с помощью обученной модели с наилушими подобранными параметрами:"
   ]
  },
  {
   "cell_type": "code",
   "execution_count": 48,
   "metadata": {
    "collapsed": false
   },
   "outputs": [
    {
     "data": {
      "text/plain": [
       "(750000L,)"
      ]
     },
     "execution_count": 48,
     "metadata": {},
     "output_type": "execute_result"
    }
   ],
   "source": [
    "scores = clf.predict_proba(X_test)[:,1]\n",
    "scores.shape"
   ]
  },
  {
   "cell_type": "markdown",
   "metadata": {},
   "source": [
    "Сохраняем результат в текстовый файл для отправки в оценивающую систему на сайт:"
   ]
  },
  {
   "cell_type": "code",
   "execution_count": 49,
   "metadata": {
    "collapsed": false
   },
   "outputs": [],
   "source": [
    "suffix = datetime.datetime.now().strftime('%Y-%m-%d_%H-%M-%S')\n",
    "np.savetxt(\"./scores/hearthstone_scores_%s.txt\" % suffix, scores, fmt='%.18f')"
   ]
  },
  {
   "cell_type": "markdown",
   "metadata": {},
   "source": [
    "Username и результаты в leaderboard:<br>\n",
    "sergotail<br>\n",
    "0.7902"
   ]
  }
 ],
 "metadata": {
  "anaconda-cloud": {},
  "kernelspec": {
   "display_name": "Python 2",
   "language": "python",
   "name": "python2"
  },
  "language_info": {
   "codemirror_mode": {
    "name": "ipython",
    "version": 2
   },
   "file_extension": ".py",
   "mimetype": "text/x-python",
   "name": "python",
   "nbconvert_exporter": "python",
   "pygments_lexer": "ipython2",
   "version": "2.7.13"
  },
  "nav_menu": {},
  "toc": {
   "navigate_menu": true,
   "number_sections": false,
   "sideBar": true,
   "threshold": 6,
   "toc_cell": false,
   "toc_section_display": "block",
   "toc_window_display": true
  }
 },
 "nbformat": 4,
 "nbformat_minor": 2
}
